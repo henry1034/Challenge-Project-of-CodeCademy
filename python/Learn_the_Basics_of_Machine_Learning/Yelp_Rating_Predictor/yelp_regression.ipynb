{
  "nbformat": 4,
  "nbformat_minor": 0,
  "metadata": {
    "kernelspec": {
      "display_name": "Python 3",
      "language": "python",
      "name": "python3"
    },
    "language_info": {
      "codemirror_mode": {
        "name": "ipython",
        "version": 3
      },
      "file_extension": ".py",
      "mimetype": "text/x-python",
      "name": "python",
      "nbconvert_exporter": "python",
      "pygments_lexer": "ipython3",
      "version": "3.8.6"
    },
    "colab": {
      "name": "yelp_regression.ipynb",
      "provenance": []
    }
  },
  "cells": [
    {
      "cell_type": "markdown",
      "metadata": {
        "id": "K7aZjgptIEuh"
      },
      "source": [
        "# Project: Yelp Rating Regression Predictor\n",
        "\n",
        "The restaurant industry is tougher than ever, with restaurant reviews blazing across the Internet from day one of a restaurant's opening. But as a lover of food, you and your friend decide to break into the industry and open up your own restaurant, Danielle's Delicious Delicacies. Since a restaurant's success is highly correlated with its reputation, you want to make sure Danielle's Delicious Delicacies has the best reviews on the most queried restaurant review site: Yelp! While you know your food will be delicious, you think there are other factors that play into a Yelp rating and will ultimately determine your business's success. With a dataset of different restaurant features and their Yelp ratings, you decide to use a Multiple Linear Regression model to investigate what factors most affect a restaurant's Yelp rating and predict the Yelp rating for your restaurant!\n",
        "\n",
        "In this project we'll be working with a real dataset provided by Yelp. We have provided six files, listed below with a brief description:\n",
        "* `yelp_business.json`: establishment data regarding location and attributes for all businesses in the dataset\n",
        "* `yelp_review.json`: Yelp review metadata by business\n",
        "* `yelp_user.json`: user profile metadata by business\n",
        "* `yelp_checkin.json`: online checkin metadata by business\n",
        "* `yelp_tip.json`: tip metadata by business\n",
        "* `yelp_photo.json`: photo metadata by business\n",
        "\n",
        "For a more detailed explanation of the features in each `.json` file, see the accompanying [explanatory feature document](https://docs.google.com/document/d/1V6FjJpKspVBOOBs4E7fBfp_yzHn0--XJkC2uUtWuRgM/edit).\n",
        "\n",
        "Let's get started by exploring the data in each of these files to see what we are working with."
      ]
    },
    {
      "cell_type": "code",
      "metadata": {
        "colab": {
          "base_uri": "https://localhost:8080/"
        },
        "id": "eRnmskZaQEGX",
        "outputId": "8f335d61-e9a8-4807-94ad-0e43154cd052"
      },
      "source": [
        "\n",
        "from google.colab import drive\n",
        "drive.mount('/content/drive')"
      ],
      "execution_count": 10,
      "outputs": [
        {
          "output_type": "stream",
          "text": [
            "Drive already mounted at /content/drive; to attempt to forcibly remount, call drive.mount(\"/content/drive\", force_remount=True).\n"
          ],
          "name": "stdout"
        }
      ]
    },
    {
      "cell_type": "markdown",
      "metadata": {
        "id": "P1TEW-KBIEuh"
      },
      "source": [
        "## Load the Data and Take a Peek\n",
        "\n",
        "To get a better understanding of the dataset we can use Pandas to explore the data in DataFrame form. In the code block below we have imported Pandas for you. The `read_json()` method reads data from a json file into a DataFrame, as shown below:\n",
        "```python\n",
        "df = pd.read_json('file_name.json', lines=True)\n",
        "```\n",
        "Load the data from each of the json files with the following naming conventions:\n",
        "* `yelp_business.json` into a DataFrame named `businesses`\n",
        "* `yelp_review.json` into a DataFrame named `reviews`\n",
        "* `yelp_user.json` into a DataFrame named `users`\n",
        "* `yelp_checkin.json` into a DataFrame named `checkins`\n",
        "* `yelp_tip.json` into a DataFrame named `tips`\n",
        "* `yelp_photo.json` into a DataFrame named `photos`\n",
        "\n",
        "Importing that data could take 10 to 20 seconds to run depending on your computer, but don't worry, once it's loaded in you're ready to go!"
      ]
    },
    {
      "cell_type": "code",
      "metadata": {
        "id": "a8iAIOZWIEuh"
      },
      "source": [
        "import pandas as pd\n",
        "from itertools import islice\n",
        "from io import StringIO\n",
        "import json\n",
        "\n",
        "def load_json(file_name):\n",
        "    dfs = []\n",
        "    with open(file_name, 'r') as f:\n",
        "        while True:\n",
        "            lines = list(islice(f, 1000))\n",
        "            \n",
        "            if lines:\n",
        "                lines_str = ''.join(lines)\n",
        "                dfs.append(pd.read_json(StringIO(lines_str), lines=True))\n",
        "            else:\n",
        "                break\n",
        "\n",
        "    df = pd.concat(dfs)\n",
        "    return df\n",
        "\n",
        "businesses = load_json(\"drive/MyDrive/Yelp Rating dataset/yelp_business.json\")\n",
        "reviews = load_json(\"drive/MyDrive/Yelp Rating dataset/yelp_review.json\")\n",
        "users = load_json(\"drive/MyDrive/Yelp Rating dataset/yelp_user.json\")\n",
        "checkins = load_json(\"drive/MyDrive/Yelp Rating dataset/yelp_checkin.json\")\n",
        "tips = load_json(\"drive/MyDrive/Yelp Rating dataset/yelp_tip.json\")\n",
        "photos = load_json(\"drive/MyDrive/Yelp Rating dataset/yelp_photo.json\")"
      ],
      "execution_count": 11,
      "outputs": []
    },
    {
      "cell_type": "markdown",
      "metadata": {
        "id": "5xdlHE6TIEuh"
      },
      "source": [
        "In order to more clearly see the information in our DataFrame, we can adjust the number of columns shown (`max_columns`) and the number of characters shown in a column (`max_colwidth`) with the below code:\n",
        "\n",
        "```python\n",
        "pd.options.display.max_columns = number_of_columns_to_display\n",
        "pd.options.display.max_colwidth = number_of_characters_to_display\n",
        "```\n",
        "\n",
        "Set `max_columns` to `60` and `max_colwidth` to `500`. We are working with some BIG data here!"
      ]
    },
    {
      "cell_type": "code",
      "metadata": {
        "ExecuteTime": {
          "end_time": "2018-09-14T14:51:21.351977Z",
          "start_time": "2018-09-14T14:51:21.349551Z"
        },
        "id": "zp6MNCyUIEuh"
      },
      "source": [
        "pd.options.display.max_columns = 60\n",
        "pd.options.display.max_colwidth = 500"
      ],
      "execution_count": 12,
      "outputs": []
    },
    {
      "cell_type": "markdown",
      "metadata": {
        "id": "strCWa61IEuh"
      },
      "source": [
        "Inspect the first five rows of each DataFrame using the `.head()` method to get an overview of the data (make sure to check each DataFrame in a separate cell in order to view it properly)."
      ]
    },
    {
      "cell_type": "code",
      "metadata": {
        "ExecuteTime": {
          "end_time": "2018-09-14T14:51:21.392763Z",
          "start_time": "2018-09-14T14:51:21.354525Z"
        },
        "scrolled": true,
        "id": "ohJVodqWIEuh",
        "colab": {
          "base_uri": "https://localhost:8080/",
          "height": 1000
        },
        "outputId": "b644aed3-956b-42b1-da38-6f3b8fb2103c"
      },
      "source": [
        "print(businesses.shape)\n",
        "businesses.head()"
      ],
      "execution_count": 13,
      "outputs": [
        {
          "output_type": "stream",
          "text": [
            "(188593, 22)\n"
          ],
          "name": "stdout"
        },
        {
          "output_type": "execute_result",
          "data": {
            "text/html": [
              "<div>\n",
              "<style scoped>\n",
              "    .dataframe tbody tr th:only-of-type {\n",
              "        vertical-align: middle;\n",
              "    }\n",
              "\n",
              "    .dataframe tbody tr th {\n",
              "        vertical-align: top;\n",
              "    }\n",
              "\n",
              "    .dataframe thead th {\n",
              "        text-align: right;\n",
              "    }\n",
              "</style>\n",
              "<table border=\"1\" class=\"dataframe\">\n",
              "  <thead>\n",
              "    <tr style=\"text-align: right;\">\n",
              "      <th></th>\n",
              "      <th>address</th>\n",
              "      <th>alcohol?</th>\n",
              "      <th>attributes</th>\n",
              "      <th>business_id</th>\n",
              "      <th>categories</th>\n",
              "      <th>city</th>\n",
              "      <th>good_for_kids</th>\n",
              "      <th>has_bike_parking</th>\n",
              "      <th>has_wifi</th>\n",
              "      <th>hours</th>\n",
              "      <th>is_open</th>\n",
              "      <th>latitude</th>\n",
              "      <th>longitude</th>\n",
              "      <th>name</th>\n",
              "      <th>neighborhood</th>\n",
              "      <th>postal_code</th>\n",
              "      <th>price_range</th>\n",
              "      <th>review_count</th>\n",
              "      <th>stars</th>\n",
              "      <th>state</th>\n",
              "      <th>take_reservations</th>\n",
              "      <th>takes_credit_cards</th>\n",
              "    </tr>\n",
              "  </thead>\n",
              "  <tbody>\n",
              "    <tr>\n",
              "      <th>0</th>\n",
              "      <td>1314 44 Avenue NE</td>\n",
              "      <td>0</td>\n",
              "      <td>{'BikeParking': 'False', 'BusinessAcceptsCreditCards': 'True', 'BusinessParking': '{'garage': False, 'street': True, 'validated': False, 'lot': False, 'valet': False}', 'GoodForKids': 'True', 'HasTV': 'True', 'NoiseLevel': 'average', 'OutdoorSeating': 'False', 'RestaurantsAttire': 'casual', 'RestaurantsDelivery': 'False', 'RestaurantsGoodForGroups': 'True', 'RestaurantsPriceRange2': '2', 'RestaurantsReservations': 'True', 'RestaurantsTakeOut': 'True'}</td>\n",
              "      <td>Apn5Q_b6Nz61Tq4XzPdf9A</td>\n",
              "      <td>Tours, Breweries, Pizza, Restaurants, Food, Hotels &amp; Travel</td>\n",
              "      <td>Calgary</td>\n",
              "      <td>1</td>\n",
              "      <td>0</td>\n",
              "      <td>0</td>\n",
              "      <td>{'Monday': '8:30-17:0', 'Tuesday': '11:0-21:0', 'Wednesday': '11:0-21:0', 'Thursday': '11:0-21:0', 'Friday': '11:0-21:0', 'Saturday': '11:0-21:0'}</td>\n",
              "      <td>1</td>\n",
              "      <td>51.091813</td>\n",
              "      <td>-114.031675</td>\n",
              "      <td>Minhas Micro Brewery</td>\n",
              "      <td></td>\n",
              "      <td>T2E 6L6</td>\n",
              "      <td>2</td>\n",
              "      <td>24</td>\n",
              "      <td>4.0</td>\n",
              "      <td>AB</td>\n",
              "      <td>1</td>\n",
              "      <td>1</td>\n",
              "    </tr>\n",
              "    <tr>\n",
              "      <th>1</th>\n",
              "      <td></td>\n",
              "      <td>0</td>\n",
              "      <td>{'Alcohol': 'none', 'BikeParking': 'False', 'BusinessAcceptsCreditCards': 'True', 'BusinessParking': '{'garage': False, 'street': True, 'validated': False, 'lot': True, 'valet': False}', 'Caters': 'True', 'DogsAllowed': 'True', 'DriveThru': 'False', 'GoodForKids': 'True', 'GoodForMeal': '{'dessert': False, 'latenight': False, 'lunch': False, 'dinner': False, 'breakfast': False, 'brunch': False}', 'HasTV': 'False', 'OutdoorSeating': 'True', 'RestaurantsAttire': 'casual', 'RestaurantsDelivery'...</td>\n",
              "      <td>AjEbIBw6ZFfln7ePHha9PA</td>\n",
              "      <td>Chicken Wings, Burgers, Caterers, Street Vendors, Barbeque, Food Trucks, Food, Restaurants, Event Planning &amp; Services</td>\n",
              "      <td>Henderson</td>\n",
              "      <td>1</td>\n",
              "      <td>0</td>\n",
              "      <td>0</td>\n",
              "      <td>{'Friday': '17:0-23:0', 'Saturday': '17:0-23:0', 'Sunday': '17:0-23:0'}</td>\n",
              "      <td>0</td>\n",
              "      <td>35.960734</td>\n",
              "      <td>-114.939821</td>\n",
              "      <td>CK'S BBQ &amp; Catering</td>\n",
              "      <td></td>\n",
              "      <td>89002</td>\n",
              "      <td>2</td>\n",
              "      <td>3</td>\n",
              "      <td>4.5</td>\n",
              "      <td>NV</td>\n",
              "      <td>0</td>\n",
              "      <td>1</td>\n",
              "    </tr>\n",
              "    <tr>\n",
              "      <th>2</th>\n",
              "      <td>1335 rue Beaubien E</td>\n",
              "      <td>1</td>\n",
              "      <td>{'Alcohol': 'beer_and_wine', 'Ambience': '{'romantic': False, 'intimate': False, 'classy': False, 'hipster': False, 'touristy': False, 'trendy': False, 'upscale': False, 'casual': False}', 'BikeParking': 'True', 'BusinessAcceptsCreditCards': 'False', 'BusinessParking': '{'garage': False, 'street': False, 'validated': False, 'lot': False, 'valet': False}', 'Caters': 'False', 'GoodForKids': 'True', 'GoodForMeal': '{'dessert': False, 'latenight': False, 'lunch': False, 'dinner': False, 'breakfa...</td>\n",
              "      <td>O8S5hYJ1SMc8fA4QBtVujA</td>\n",
              "      <td>Breakfast &amp; Brunch, Restaurants, French, Sandwiches, Cafes</td>\n",
              "      <td>Montréal</td>\n",
              "      <td>1</td>\n",
              "      <td>1</td>\n",
              "      <td>1</td>\n",
              "      <td>{'Monday': '10:0-22:0', 'Tuesday': '10:0-22:0', 'Wednesday': '10:0-22:0', 'Thursday': '10:0-22:0', 'Friday': '10:0-22:0', 'Saturday': '10:0-22:0', 'Sunday': '10:0-22:0'}</td>\n",
              "      <td>0</td>\n",
              "      <td>45.540503</td>\n",
              "      <td>-73.599300</td>\n",
              "      <td>La Bastringue</td>\n",
              "      <td>Rosemont-La Petite-Patrie</td>\n",
              "      <td>H2G 1K7</td>\n",
              "      <td>2</td>\n",
              "      <td>5</td>\n",
              "      <td>4.0</td>\n",
              "      <td>QC</td>\n",
              "      <td>1</td>\n",
              "      <td>0</td>\n",
              "    </tr>\n",
              "    <tr>\n",
              "      <th>3</th>\n",
              "      <td>211 W Monroe St</td>\n",
              "      <td>0</td>\n",
              "      <td>None</td>\n",
              "      <td>bFzdJJ3wp3PZssNEsyU23g</td>\n",
              "      <td>Insurance, Financial Services</td>\n",
              "      <td>Phoenix</td>\n",
              "      <td>0</td>\n",
              "      <td>0</td>\n",
              "      <td>0</td>\n",
              "      <td>None</td>\n",
              "      <td>1</td>\n",
              "      <td>33.449999</td>\n",
              "      <td>-112.076979</td>\n",
              "      <td>Geico Insurance</td>\n",
              "      <td></td>\n",
              "      <td>85003</td>\n",
              "      <td>0</td>\n",
              "      <td>8</td>\n",
              "      <td>1.5</td>\n",
              "      <td>AZ</td>\n",
              "      <td>0</td>\n",
              "      <td>0</td>\n",
              "    </tr>\n",
              "    <tr>\n",
              "      <th>4</th>\n",
              "      <td>2005 Alyth Place SE</td>\n",
              "      <td>0</td>\n",
              "      <td>{'BusinessAcceptsCreditCards': 'True'}</td>\n",
              "      <td>8USyCYqpScwiNEb58Bt6CA</td>\n",
              "      <td>Home &amp; Garden, Nurseries &amp; Gardening, Shopping, Local Services, Automotive, Electronics Repair</td>\n",
              "      <td>Calgary</td>\n",
              "      <td>0</td>\n",
              "      <td>0</td>\n",
              "      <td>0</td>\n",
              "      <td>{'Monday': '8:0-17:0', 'Tuesday': '8:0-17:0', 'Wednesday': '8:0-17:0', 'Thursday': '8:0-17:0', 'Friday': '8:0-17:0'}</td>\n",
              "      <td>1</td>\n",
              "      <td>51.035591</td>\n",
              "      <td>-114.027366</td>\n",
              "      <td>Action Engine</td>\n",
              "      <td></td>\n",
              "      <td>T2H 0N5</td>\n",
              "      <td>0</td>\n",
              "      <td>4</td>\n",
              "      <td>2.0</td>\n",
              "      <td>AB</td>\n",
              "      <td>0</td>\n",
              "      <td>1</td>\n",
              "    </tr>\n",
              "  </tbody>\n",
              "</table>\n",
              "</div>"
            ],
            "text/plain": [
              "               address  alcohol?  \\\n",
              "0    1314 44 Avenue NE         0   \n",
              "1                              0   \n",
              "2  1335 rue Beaubien E         1   \n",
              "3      211 W Monroe St         0   \n",
              "4  2005 Alyth Place SE         0   \n",
              "\n",
              "                                                                                                                                                                                                                                                                                                                                                                                                                                                                                                            attributes  \\\n",
              "0                                              {'BikeParking': 'False', 'BusinessAcceptsCreditCards': 'True', 'BusinessParking': '{'garage': False, 'street': True, 'validated': False, 'lot': False, 'valet': False}', 'GoodForKids': 'True', 'HasTV': 'True', 'NoiseLevel': 'average', 'OutdoorSeating': 'False', 'RestaurantsAttire': 'casual', 'RestaurantsDelivery': 'False', 'RestaurantsGoodForGroups': 'True', 'RestaurantsPriceRange2': '2', 'RestaurantsReservations': 'True', 'RestaurantsTakeOut': 'True'}   \n",
              "1  {'Alcohol': 'none', 'BikeParking': 'False', 'BusinessAcceptsCreditCards': 'True', 'BusinessParking': '{'garage': False, 'street': True, 'validated': False, 'lot': True, 'valet': False}', 'Caters': 'True', 'DogsAllowed': 'True', 'DriveThru': 'False', 'GoodForKids': 'True', 'GoodForMeal': '{'dessert': False, 'latenight': False, 'lunch': False, 'dinner': False, 'breakfast': False, 'brunch': False}', 'HasTV': 'False', 'OutdoorSeating': 'True', 'RestaurantsAttire': 'casual', 'RestaurantsDelivery'...   \n",
              "2  {'Alcohol': 'beer_and_wine', 'Ambience': '{'romantic': False, 'intimate': False, 'classy': False, 'hipster': False, 'touristy': False, 'trendy': False, 'upscale': False, 'casual': False}', 'BikeParking': 'True', 'BusinessAcceptsCreditCards': 'False', 'BusinessParking': '{'garage': False, 'street': False, 'validated': False, 'lot': False, 'valet': False}', 'Caters': 'False', 'GoodForKids': 'True', 'GoodForMeal': '{'dessert': False, 'latenight': False, 'lunch': False, 'dinner': False, 'breakfa...   \n",
              "3                                                                                                                                                                                                                                                                                                                                                                                                                                                                                                                 None   \n",
              "4                                                                                                                                                                                                                                                                                                                                                                                                                                                                               {'BusinessAcceptsCreditCards': 'True'}   \n",
              "\n",
              "              business_id  \\\n",
              "0  Apn5Q_b6Nz61Tq4XzPdf9A   \n",
              "1  AjEbIBw6ZFfln7ePHha9PA   \n",
              "2  O8S5hYJ1SMc8fA4QBtVujA   \n",
              "3  bFzdJJ3wp3PZssNEsyU23g   \n",
              "4  8USyCYqpScwiNEb58Bt6CA   \n",
              "\n",
              "                                                                                                              categories  \\\n",
              "0                                                            Tours, Breweries, Pizza, Restaurants, Food, Hotels & Travel   \n",
              "1  Chicken Wings, Burgers, Caterers, Street Vendors, Barbeque, Food Trucks, Food, Restaurants, Event Planning & Services   \n",
              "2                                                             Breakfast & Brunch, Restaurants, French, Sandwiches, Cafes   \n",
              "3                                                                                          Insurance, Financial Services   \n",
              "4                         Home & Garden, Nurseries & Gardening, Shopping, Local Services, Automotive, Electronics Repair   \n",
              "\n",
              "        city  good_for_kids  has_bike_parking  has_wifi  \\\n",
              "0    Calgary              1                 0         0   \n",
              "1  Henderson              1                 0         0   \n",
              "2   Montréal              1                 1         1   \n",
              "3    Phoenix              0                 0         0   \n",
              "4    Calgary              0                 0         0   \n",
              "\n",
              "                                                                                                                                                                       hours  \\\n",
              "0                         {'Monday': '8:30-17:0', 'Tuesday': '11:0-21:0', 'Wednesday': '11:0-21:0', 'Thursday': '11:0-21:0', 'Friday': '11:0-21:0', 'Saturday': '11:0-21:0'}   \n",
              "1                                                                                                    {'Friday': '17:0-23:0', 'Saturday': '17:0-23:0', 'Sunday': '17:0-23:0'}   \n",
              "2  {'Monday': '10:0-22:0', 'Tuesday': '10:0-22:0', 'Wednesday': '10:0-22:0', 'Thursday': '10:0-22:0', 'Friday': '10:0-22:0', 'Saturday': '10:0-22:0', 'Sunday': '10:0-22:0'}   \n",
              "3                                                                                                                                                                       None   \n",
              "4                                                       {'Monday': '8:0-17:0', 'Tuesday': '8:0-17:0', 'Wednesday': '8:0-17:0', 'Thursday': '8:0-17:0', 'Friday': '8:0-17:0'}   \n",
              "\n",
              "   is_open   latitude   longitude                  name  \\\n",
              "0        1  51.091813 -114.031675  Minhas Micro Brewery   \n",
              "1        0  35.960734 -114.939821   CK'S BBQ & Catering   \n",
              "2        0  45.540503  -73.599300         La Bastringue   \n",
              "3        1  33.449999 -112.076979       Geico Insurance   \n",
              "4        1  51.035591 -114.027366         Action Engine   \n",
              "\n",
              "                neighborhood postal_code  price_range  review_count  stars  \\\n",
              "0                                T2E 6L6            2            24    4.0   \n",
              "1                                  89002            2             3    4.5   \n",
              "2  Rosemont-La Petite-Patrie     H2G 1K7            2             5    4.0   \n",
              "3                                  85003            0             8    1.5   \n",
              "4                                T2H 0N5            0             4    2.0   \n",
              "\n",
              "  state  take_reservations  takes_credit_cards  \n",
              "0    AB                  1                   1  \n",
              "1    NV                  0                   1  \n",
              "2    QC                  1                   0  \n",
              "3    AZ                  0                   0  \n",
              "4    AB                  0                   1  "
            ]
          },
          "metadata": {
            "tags": []
          },
          "execution_count": 13
        }
      ]
    },
    {
      "cell_type": "code",
      "metadata": {
        "ExecuteTime": {
          "end_time": "2018-09-14T14:51:21.407101Z",
          "start_time": "2018-09-14T14:51:21.394695Z"
        },
        "id": "ylRnpbsQIEui",
        "colab": {
          "base_uri": "https://localhost:8080/",
          "height": 254
        },
        "outputId": "724f9228-caf8-4961-ee14-4f9f91036753"
      },
      "source": [
        "print(reviews.shape)\n",
        "reviews.head()"
      ],
      "execution_count": 14,
      "outputs": [
        {
          "output_type": "stream",
          "text": [
            "(188593, 7)\n"
          ],
          "name": "stdout"
        },
        {
          "output_type": "execute_result",
          "data": {
            "text/html": [
              "<div>\n",
              "<style scoped>\n",
              "    .dataframe tbody tr th:only-of-type {\n",
              "        vertical-align: middle;\n",
              "    }\n",
              "\n",
              "    .dataframe tbody tr th {\n",
              "        vertical-align: top;\n",
              "    }\n",
              "\n",
              "    .dataframe thead th {\n",
              "        text-align: right;\n",
              "    }\n",
              "</style>\n",
              "<table border=\"1\" class=\"dataframe\">\n",
              "  <thead>\n",
              "    <tr style=\"text-align: right;\">\n",
              "      <th></th>\n",
              "      <th>business_id</th>\n",
              "      <th>average_review_age</th>\n",
              "      <th>average_review_length</th>\n",
              "      <th>average_review_sentiment</th>\n",
              "      <th>number_funny_votes</th>\n",
              "      <th>number_cool_votes</th>\n",
              "      <th>number_useful_votes</th>\n",
              "    </tr>\n",
              "  </thead>\n",
              "  <tbody>\n",
              "    <tr>\n",
              "      <th>0</th>\n",
              "      <td>--1UhMGODdWsrMastO9DZw</td>\n",
              "      <td>524.458333</td>\n",
              "      <td>466.208333</td>\n",
              "      <td>0.808638</td>\n",
              "      <td>1</td>\n",
              "      <td>16</td>\n",
              "      <td>15</td>\n",
              "    </tr>\n",
              "    <tr>\n",
              "      <th>1</th>\n",
              "      <td>--6MefnULPED_I942VcFNA</td>\n",
              "      <td>1199.589744</td>\n",
              "      <td>785.205128</td>\n",
              "      <td>0.669126</td>\n",
              "      <td>27</td>\n",
              "      <td>32</td>\n",
              "      <td>53</td>\n",
              "    </tr>\n",
              "    <tr>\n",
              "      <th>2</th>\n",
              "      <td>--7zmmkVg-IMGaXbuVd0SQ</td>\n",
              "      <td>717.851852</td>\n",
              "      <td>536.592593</td>\n",
              "      <td>0.820837</td>\n",
              "      <td>29</td>\n",
              "      <td>52</td>\n",
              "      <td>81</td>\n",
              "    </tr>\n",
              "    <tr>\n",
              "      <th>3</th>\n",
              "      <td>--8LPVSo5i0Oo61X01sV9A</td>\n",
              "      <td>751.750000</td>\n",
              "      <td>478.250000</td>\n",
              "      <td>0.170925</td>\n",
              "      <td>0</td>\n",
              "      <td>0</td>\n",
              "      <td>9</td>\n",
              "    </tr>\n",
              "    <tr>\n",
              "      <th>4</th>\n",
              "      <td>--9QQLMTbFzLJ_oT-ON3Xw</td>\n",
              "      <td>978.727273</td>\n",
              "      <td>436.181818</td>\n",
              "      <td>0.562264</td>\n",
              "      <td>3</td>\n",
              "      <td>4</td>\n",
              "      <td>7</td>\n",
              "    </tr>\n",
              "  </tbody>\n",
              "</table>\n",
              "</div>"
            ],
            "text/plain": [
              "              business_id  average_review_age  average_review_length  \\\n",
              "0  --1UhMGODdWsrMastO9DZw          524.458333             466.208333   \n",
              "1  --6MefnULPED_I942VcFNA         1199.589744             785.205128   \n",
              "2  --7zmmkVg-IMGaXbuVd0SQ          717.851852             536.592593   \n",
              "3  --8LPVSo5i0Oo61X01sV9A          751.750000             478.250000   \n",
              "4  --9QQLMTbFzLJ_oT-ON3Xw          978.727273             436.181818   \n",
              "\n",
              "   average_review_sentiment  number_funny_votes  number_cool_votes  \\\n",
              "0                  0.808638                   1                 16   \n",
              "1                  0.669126                  27                 32   \n",
              "2                  0.820837                  29                 52   \n",
              "3                  0.170925                   0                  0   \n",
              "4                  0.562264                   3                  4   \n",
              "\n",
              "   number_useful_votes  \n",
              "0                   15  \n",
              "1                   53  \n",
              "2                   81  \n",
              "3                    9  \n",
              "4                    7  "
            ]
          },
          "metadata": {
            "tags": []
          },
          "execution_count": 14
        }
      ]
    },
    {
      "cell_type": "code",
      "metadata": {
        "ExecuteTime": {
          "end_time": "2018-09-14T14:51:21.419331Z",
          "start_time": "2018-09-14T14:51:21.409377Z"
        },
        "id": "kYu5toBnIEui",
        "colab": {
          "base_uri": "https://localhost:8080/",
          "height": 254
        },
        "outputId": "b5d14929-eb4b-4620-bad5-7b83148a8167"
      },
      "source": [
        "print(users.shape)\n",
        "users.head()"
      ],
      "execution_count": 15,
      "outputs": [
        {
          "output_type": "stream",
          "text": [
            "(188593, 6)\n"
          ],
          "name": "stdout"
        },
        {
          "output_type": "execute_result",
          "data": {
            "text/html": [
              "<div>\n",
              "<style scoped>\n",
              "    .dataframe tbody tr th:only-of-type {\n",
              "        vertical-align: middle;\n",
              "    }\n",
              "\n",
              "    .dataframe tbody tr th {\n",
              "        vertical-align: top;\n",
              "    }\n",
              "\n",
              "    .dataframe thead th {\n",
              "        text-align: right;\n",
              "    }\n",
              "</style>\n",
              "<table border=\"1\" class=\"dataframe\">\n",
              "  <thead>\n",
              "    <tr style=\"text-align: right;\">\n",
              "      <th></th>\n",
              "      <th>business_id</th>\n",
              "      <th>average_number_friends</th>\n",
              "      <th>average_days_on_yelp</th>\n",
              "      <th>average_number_fans</th>\n",
              "      <th>average_review_count</th>\n",
              "      <th>average_number_years_elite</th>\n",
              "    </tr>\n",
              "  </thead>\n",
              "  <tbody>\n",
              "    <tr>\n",
              "      <th>0</th>\n",
              "      <td>--1UhMGODdWsrMastO9DZw</td>\n",
              "      <td>18.791667</td>\n",
              "      <td>1789.750000</td>\n",
              "      <td>1.833333</td>\n",
              "      <td>57.541667</td>\n",
              "      <td>0.833333</td>\n",
              "    </tr>\n",
              "    <tr>\n",
              "      <th>1</th>\n",
              "      <td>--6MefnULPED_I942VcFNA</td>\n",
              "      <td>214.564103</td>\n",
              "      <td>2039.948718</td>\n",
              "      <td>49.256410</td>\n",
              "      <td>332.743590</td>\n",
              "      <td>1.769231</td>\n",
              "    </tr>\n",
              "    <tr>\n",
              "      <th>2</th>\n",
              "      <td>--7zmmkVg-IMGaXbuVd0SQ</td>\n",
              "      <td>126.185185</td>\n",
              "      <td>1992.796296</td>\n",
              "      <td>19.222222</td>\n",
              "      <td>208.962963</td>\n",
              "      <td>1.814815</td>\n",
              "    </tr>\n",
              "    <tr>\n",
              "      <th>3</th>\n",
              "      <td>--8LPVSo5i0Oo61X01sV9A</td>\n",
              "      <td>25.250000</td>\n",
              "      <td>2095.750000</td>\n",
              "      <td>0.500000</td>\n",
              "      <td>7.500000</td>\n",
              "      <td>0.000000</td>\n",
              "    </tr>\n",
              "    <tr>\n",
              "      <th>4</th>\n",
              "      <td>--9QQLMTbFzLJ_oT-ON3Xw</td>\n",
              "      <td>52.454545</td>\n",
              "      <td>1804.636364</td>\n",
              "      <td>1.000000</td>\n",
              "      <td>34.636364</td>\n",
              "      <td>0.090909</td>\n",
              "    </tr>\n",
              "  </tbody>\n",
              "</table>\n",
              "</div>"
            ],
            "text/plain": [
              "              business_id  average_number_friends  average_days_on_yelp  \\\n",
              "0  --1UhMGODdWsrMastO9DZw               18.791667           1789.750000   \n",
              "1  --6MefnULPED_I942VcFNA              214.564103           2039.948718   \n",
              "2  --7zmmkVg-IMGaXbuVd0SQ              126.185185           1992.796296   \n",
              "3  --8LPVSo5i0Oo61X01sV9A               25.250000           2095.750000   \n",
              "4  --9QQLMTbFzLJ_oT-ON3Xw               52.454545           1804.636364   \n",
              "\n",
              "   average_number_fans  average_review_count  average_number_years_elite  \n",
              "0             1.833333             57.541667                    0.833333  \n",
              "1            49.256410            332.743590                    1.769231  \n",
              "2            19.222222            208.962963                    1.814815  \n",
              "3             0.500000              7.500000                    0.000000  \n",
              "4             1.000000             34.636364                    0.090909  "
            ]
          },
          "metadata": {
            "tags": []
          },
          "execution_count": 15
        }
      ]
    },
    {
      "cell_type": "code",
      "metadata": {
        "ExecuteTime": {
          "end_time": "2018-09-14T14:51:21.433534Z",
          "start_time": "2018-09-14T14:51:21.421393Z"
        },
        "scrolled": true,
        "id": "T91Imn7SIEuj",
        "colab": {
          "base_uri": "https://localhost:8080/",
          "height": 303
        },
        "outputId": "cdadb9c5-c75d-4344-b243-42c774da27e3"
      },
      "source": [
        "print(checkins.shape)\n",
        "checkins.head()"
      ],
      "execution_count": 16,
      "outputs": [
        {
          "output_type": "stream",
          "text": [
            "(157075, 4)\n"
          ],
          "name": "stdout"
        },
        {
          "output_type": "execute_result",
          "data": {
            "text/html": [
              "<div>\n",
              "<style scoped>\n",
              "    .dataframe tbody tr th:only-of-type {\n",
              "        vertical-align: middle;\n",
              "    }\n",
              "\n",
              "    .dataframe tbody tr th {\n",
              "        vertical-align: top;\n",
              "    }\n",
              "\n",
              "    .dataframe thead th {\n",
              "        text-align: right;\n",
              "    }\n",
              "</style>\n",
              "<table border=\"1\" class=\"dataframe\">\n",
              "  <thead>\n",
              "    <tr style=\"text-align: right;\">\n",
              "      <th></th>\n",
              "      <th>business_id</th>\n",
              "      <th>time</th>\n",
              "      <th>weekday_checkins</th>\n",
              "      <th>weekend_checkins</th>\n",
              "    </tr>\n",
              "  </thead>\n",
              "  <tbody>\n",
              "    <tr>\n",
              "      <th>0</th>\n",
              "      <td>7KPBkxAOEtb3QeIL9PEErg</td>\n",
              "      <td>{'Fri-0': 2, 'Sat-0': 1, 'Sun-0': 1, 'Wed-0': 2, 'Fri-1': 1, 'Sat-1': 3, 'Thu-1': 1, 'Wed-1': 1, 'Sat-2': 1, 'Sun-2': 2, 'Thu-2': 1, 'Wed-2': 1, 'Fri-3': 1, 'Sun-3': 3, 'Mon-4': 1, 'Thu-4': 1, 'Tue-4': 2, 'Wed-4': 2, 'Sun-6': 1, 'Wed-6': 1, 'Thu-7': 1, 'Fri-10': 3, 'Mon-10': 1, 'Sat-10': 3, 'Sun-10': 3, 'Tue-10': 2, 'Mon-11': 1, 'Thu-11': 1, 'Wed-11': 2, 'Mon-12': 1, 'Sat-12': 1, 'Tue-12': 1, 'Sat-13': 3, 'Thu-13': 1, 'Tue-13': 2, 'Wed-13': 3, 'Fri-14': 2, 'Mon-14': 1, 'Sat-14': 1, 'Sun-14':...</td>\n",
              "      <td>76</td>\n",
              "      <td>75</td>\n",
              "    </tr>\n",
              "    <tr>\n",
              "      <th>1</th>\n",
              "      <td>kREVIrSBbtqBhIYkTccQUg</td>\n",
              "      <td>{'Mon-13': 1, 'Thu-13': 1, 'Sat-16': 1, 'Wed-17': 1, 'Sun-19': 1, 'Thu-20': 1, 'Sat-21': 1}</td>\n",
              "      <td>4</td>\n",
              "      <td>3</td>\n",
              "    </tr>\n",
              "    <tr>\n",
              "      <th>2</th>\n",
              "      <td>tJRDll5yqpZwehenzE2cSg</td>\n",
              "      <td>{'Thu-0': 1, 'Mon-1': 1, 'Mon-12': 1, 'Sat-16': 1, 'Sun-22': 1, 'Fri-23': 1}</td>\n",
              "      <td>3</td>\n",
              "      <td>3</td>\n",
              "    </tr>\n",
              "    <tr>\n",
              "      <th>3</th>\n",
              "      <td>tZccfdl6JNw-j5BKnCTIQQ</td>\n",
              "      <td>{'Sun-14': 1, 'Fri-18': 1, 'Mon-20': 1}</td>\n",
              "      <td>1</td>\n",
              "      <td>2</td>\n",
              "    </tr>\n",
              "    <tr>\n",
              "      <th>4</th>\n",
              "      <td>r1p7RAMzCV_6NPF0dNoR3g</td>\n",
              "      <td>{'Sat-3': 1, 'Sun-18': 1, 'Sat-21': 1, 'Sat-23': 1, 'Thu-23': 1}</td>\n",
              "      <td>1</td>\n",
              "      <td>4</td>\n",
              "    </tr>\n",
              "  </tbody>\n",
              "</table>\n",
              "</div>"
            ],
            "text/plain": [
              "              business_id  \\\n",
              "0  7KPBkxAOEtb3QeIL9PEErg   \n",
              "1  kREVIrSBbtqBhIYkTccQUg   \n",
              "2  tJRDll5yqpZwehenzE2cSg   \n",
              "3  tZccfdl6JNw-j5BKnCTIQQ   \n",
              "4  r1p7RAMzCV_6NPF0dNoR3g   \n",
              "\n",
              "                                                                                                                                                                                                                                                                                                                                                                                                                                                                                                                  time  \\\n",
              "0  {'Fri-0': 2, 'Sat-0': 1, 'Sun-0': 1, 'Wed-0': 2, 'Fri-1': 1, 'Sat-1': 3, 'Thu-1': 1, 'Wed-1': 1, 'Sat-2': 1, 'Sun-2': 2, 'Thu-2': 1, 'Wed-2': 1, 'Fri-3': 1, 'Sun-3': 3, 'Mon-4': 1, 'Thu-4': 1, 'Tue-4': 2, 'Wed-4': 2, 'Sun-6': 1, 'Wed-6': 1, 'Thu-7': 1, 'Fri-10': 3, 'Mon-10': 1, 'Sat-10': 3, 'Sun-10': 3, 'Tue-10': 2, 'Mon-11': 1, 'Thu-11': 1, 'Wed-11': 2, 'Mon-12': 1, 'Sat-12': 1, 'Tue-12': 1, 'Sat-13': 3, 'Thu-13': 1, 'Tue-13': 2, 'Wed-13': 3, 'Fri-14': 2, 'Mon-14': 1, 'Sat-14': 1, 'Sun-14':...   \n",
              "1                                                                                                                                                                                                                                                                                                                                                                                                                          {'Mon-13': 1, 'Thu-13': 1, 'Sat-16': 1, 'Wed-17': 1, 'Sun-19': 1, 'Thu-20': 1, 'Sat-21': 1}   \n",
              "2                                                                                                                                                                                                                                                                                                                                                                                                                                         {'Thu-0': 1, 'Mon-1': 1, 'Mon-12': 1, 'Sat-16': 1, 'Sun-22': 1, 'Fri-23': 1}   \n",
              "3                                                                                                                                                                                                                                                                                                                                                                                                                                                                              {'Sun-14': 1, 'Fri-18': 1, 'Mon-20': 1}   \n",
              "4                                                                                                                                                                                                                                                                                                                                                                                                                                                     {'Sat-3': 1, 'Sun-18': 1, 'Sat-21': 1, 'Sat-23': 1, 'Thu-23': 1}   \n",
              "\n",
              "   weekday_checkins  weekend_checkins  \n",
              "0                76                75  \n",
              "1                 4                 3  \n",
              "2                 3                 3  \n",
              "3                 1                 2  \n",
              "4                 1                 4  "
            ]
          },
          "metadata": {
            "tags": []
          },
          "execution_count": 16
        }
      ]
    },
    {
      "cell_type": "code",
      "metadata": {
        "ExecuteTime": {
          "end_time": "2018-09-14T14:51:21.445061Z",
          "start_time": "2018-09-14T14:51:21.435743Z"
        },
        "scrolled": true,
        "id": "Kv_EqR53IEuj",
        "colab": {
          "base_uri": "https://localhost:8080/",
          "height": 216
        },
        "outputId": "dc77117e-d3ce-4e4e-bc61-a0c97d2e6d54"
      },
      "source": [
        "print(tips.shape)\n",
        "tips.head()"
      ],
      "execution_count": 17,
      "outputs": [
        {
          "output_type": "stream",
          "text": [
            "(121526, 3)\n"
          ],
          "name": "stdout"
        },
        {
          "output_type": "execute_result",
          "data": {
            "text/html": [
              "<div>\n",
              "<style scoped>\n",
              "    .dataframe tbody tr th:only-of-type {\n",
              "        vertical-align: middle;\n",
              "    }\n",
              "\n",
              "    .dataframe tbody tr th {\n",
              "        vertical-align: top;\n",
              "    }\n",
              "\n",
              "    .dataframe thead th {\n",
              "        text-align: right;\n",
              "    }\n",
              "</style>\n",
              "<table border=\"1\" class=\"dataframe\">\n",
              "  <thead>\n",
              "    <tr style=\"text-align: right;\">\n",
              "      <th></th>\n",
              "      <th>business_id</th>\n",
              "      <th>average_tip_length</th>\n",
              "      <th>number_tips</th>\n",
              "    </tr>\n",
              "  </thead>\n",
              "  <tbody>\n",
              "    <tr>\n",
              "      <th>0</th>\n",
              "      <td>--1UhMGODdWsrMastO9DZw</td>\n",
              "      <td>79.000000</td>\n",
              "      <td>1</td>\n",
              "    </tr>\n",
              "    <tr>\n",
              "      <th>1</th>\n",
              "      <td>--6MefnULPED_I942VcFNA</td>\n",
              "      <td>49.857143</td>\n",
              "      <td>14</td>\n",
              "    </tr>\n",
              "    <tr>\n",
              "      <th>2</th>\n",
              "      <td>--7zmmkVg-IMGaXbuVd0SQ</td>\n",
              "      <td>52.500000</td>\n",
              "      <td>10</td>\n",
              "    </tr>\n",
              "    <tr>\n",
              "      <th>3</th>\n",
              "      <td>--9QQLMTbFzLJ_oT-ON3Xw</td>\n",
              "      <td>136.500000</td>\n",
              "      <td>2</td>\n",
              "    </tr>\n",
              "    <tr>\n",
              "      <th>4</th>\n",
              "      <td>--9e1ONYQuAa-CB_Rrw7Tw</td>\n",
              "      <td>68.064935</td>\n",
              "      <td>154</td>\n",
              "    </tr>\n",
              "  </tbody>\n",
              "</table>\n",
              "</div>"
            ],
            "text/plain": [
              "              business_id  average_tip_length  number_tips\n",
              "0  --1UhMGODdWsrMastO9DZw           79.000000            1\n",
              "1  --6MefnULPED_I942VcFNA           49.857143           14\n",
              "2  --7zmmkVg-IMGaXbuVd0SQ           52.500000           10\n",
              "3  --9QQLMTbFzLJ_oT-ON3Xw          136.500000            2\n",
              "4  --9e1ONYQuAa-CB_Rrw7Tw           68.064935          154"
            ]
          },
          "metadata": {
            "tags": []
          },
          "execution_count": 17
        }
      ]
    },
    {
      "cell_type": "code",
      "metadata": {
        "ExecuteTime": {
          "end_time": "2018-09-14T14:51:21.455113Z",
          "start_time": "2018-09-14T14:51:21.446975Z"
        },
        "id": "CJPkL2jEIEuj",
        "colab": {
          "base_uri": "https://localhost:8080/",
          "height": 216
        },
        "outputId": "36a2235e-dffd-4572-d4bd-ac530e48bbfd"
      },
      "source": [
        "print(photos.shape)\n",
        "photos.head()"
      ],
      "execution_count": 18,
      "outputs": [
        {
          "output_type": "stream",
          "text": [
            "(32976, 3)\n"
          ],
          "name": "stdout"
        },
        {
          "output_type": "execute_result",
          "data": {
            "text/html": [
              "<div>\n",
              "<style scoped>\n",
              "    .dataframe tbody tr th:only-of-type {\n",
              "        vertical-align: middle;\n",
              "    }\n",
              "\n",
              "    .dataframe tbody tr th {\n",
              "        vertical-align: top;\n",
              "    }\n",
              "\n",
              "    .dataframe thead th {\n",
              "        text-align: right;\n",
              "    }\n",
              "</style>\n",
              "<table border=\"1\" class=\"dataframe\">\n",
              "  <thead>\n",
              "    <tr style=\"text-align: right;\">\n",
              "      <th></th>\n",
              "      <th>business_id</th>\n",
              "      <th>average_caption_length</th>\n",
              "      <th>number_pics</th>\n",
              "    </tr>\n",
              "  </thead>\n",
              "  <tbody>\n",
              "    <tr>\n",
              "      <th>0</th>\n",
              "      <td>--1UhMGODdWsrMastO9DZw</td>\n",
              "      <td>0.000000</td>\n",
              "      <td>1</td>\n",
              "    </tr>\n",
              "    <tr>\n",
              "      <th>1</th>\n",
              "      <td>--6MefnULPED_I942VcFNA</td>\n",
              "      <td>67.500000</td>\n",
              "      <td>2</td>\n",
              "    </tr>\n",
              "    <tr>\n",
              "      <th>2</th>\n",
              "      <td>--9e1ONYQuAa-CB_Rrw7Tw</td>\n",
              "      <td>30.426471</td>\n",
              "      <td>136</td>\n",
              "    </tr>\n",
              "    <tr>\n",
              "      <th>3</th>\n",
              "      <td>--DaPTJW3-tB1vP-PfdTEg</td>\n",
              "      <td>0.000000</td>\n",
              "      <td>1</td>\n",
              "    </tr>\n",
              "    <tr>\n",
              "      <th>4</th>\n",
              "      <td>--FBCX-N37CMYDfs790Bnw</td>\n",
              "      <td>5.500000</td>\n",
              "      <td>4</td>\n",
              "    </tr>\n",
              "  </tbody>\n",
              "</table>\n",
              "</div>"
            ],
            "text/plain": [
              "              business_id  average_caption_length  number_pics\n",
              "0  --1UhMGODdWsrMastO9DZw                0.000000            1\n",
              "1  --6MefnULPED_I942VcFNA               67.500000            2\n",
              "2  --9e1ONYQuAa-CB_Rrw7Tw               30.426471          136\n",
              "3  --DaPTJW3-tB1vP-PfdTEg                0.000000            1\n",
              "4  --FBCX-N37CMYDfs790Bnw                5.500000            4"
            ]
          },
          "metadata": {
            "tags": []
          },
          "execution_count": 18
        }
      ]
    },
    {
      "cell_type": "markdown",
      "metadata": {
        "id": "aFc6eGGFIEuj"
      },
      "source": [
        "How many different businesses are in the dataset? What are the different features in the review DataFrame?"
      ]
    },
    {
      "cell_type": "code",
      "metadata": {
        "ExecuteTime": {
          "end_time": "2018-09-14T14:51:21.460856Z",
          "start_time": "2018-09-14T14:51:21.456994Z"
        },
        "id": "cBzBdn3mIEuj",
        "colab": {
          "base_uri": "https://localhost:8080/"
        },
        "outputId": "d96dd6a6-5f06-4cde-e991-c418d7550079"
      },
      "source": [
        "num_of_business = businesses['business_id'].count()\n",
        "print(f\"The number of different businesses: {num_of_business}\")\n",
        "review_features = \"\\n\\t - \" + \",\\n\\t - \".join(list(reviews.columns))\n",
        "print(f\"The different features in the review DataFrame: {review_features}\")"
      ],
      "execution_count": 19,
      "outputs": [
        {
          "output_type": "stream",
          "text": [
            "The number of different businesses: 188593\n",
            "The different features in the review DataFrame: \n",
            "\t - business_id,\n",
            "\t - average_review_age,\n",
            "\t - average_review_length,\n",
            "\t - average_review_sentiment,\n",
            "\t - number_funny_votes,\n",
            "\t - number_cool_votes,\n",
            "\t - number_useful_votes\n"
          ],
          "name": "stdout"
        }
      ]
    },
    {
      "cell_type": "markdown",
      "metadata": {
        "id": "bGWgL-0WIEuj"
      },
      "source": [
        "What is the range of values for the features in the user DataFrame?"
      ]
    },
    {
      "cell_type": "code",
      "metadata": {
        "ExecuteTime": {
          "end_time": "2018-09-14T14:51:21.556908Z",
          "start_time": "2018-09-14T14:51:21.462876Z"
        },
        "id": "Vnjn-NGmIEuj",
        "colab": {
          "base_uri": "https://localhost:8080/",
          "height": 288
        },
        "outputId": "d2e3bb9c-af8d-4783-a9d5-9cf985a3853a"
      },
      "source": [
        "users.describe()"
      ],
      "execution_count": 20,
      "outputs": [
        {
          "output_type": "execute_result",
          "data": {
            "text/html": [
              "<div>\n",
              "<style scoped>\n",
              "    .dataframe tbody tr th:only-of-type {\n",
              "        vertical-align: middle;\n",
              "    }\n",
              "\n",
              "    .dataframe tbody tr th {\n",
              "        vertical-align: top;\n",
              "    }\n",
              "\n",
              "    .dataframe thead th {\n",
              "        text-align: right;\n",
              "    }\n",
              "</style>\n",
              "<table border=\"1\" class=\"dataframe\">\n",
              "  <thead>\n",
              "    <tr style=\"text-align: right;\">\n",
              "      <th></th>\n",
              "      <th>average_number_friends</th>\n",
              "      <th>average_days_on_yelp</th>\n",
              "      <th>average_number_fans</th>\n",
              "      <th>average_review_count</th>\n",
              "      <th>average_number_years_elite</th>\n",
              "    </tr>\n",
              "  </thead>\n",
              "  <tbody>\n",
              "    <tr>\n",
              "      <th>count</th>\n",
              "      <td>188593.000000</td>\n",
              "      <td>188593.000000</td>\n",
              "      <td>188593.000000</td>\n",
              "      <td>188593.000000</td>\n",
              "      <td>188593.000000</td>\n",
              "    </tr>\n",
              "    <tr>\n",
              "      <th>mean</th>\n",
              "      <td>105.132000</td>\n",
              "      <td>2005.367009</td>\n",
              "      <td>11.590148</td>\n",
              "      <td>122.110660</td>\n",
              "      <td>0.923313</td>\n",
              "    </tr>\n",
              "    <tr>\n",
              "      <th>std</th>\n",
              "      <td>162.653680</td>\n",
              "      <td>554.174540</td>\n",
              "      <td>25.901801</td>\n",
              "      <td>208.814471</td>\n",
              "      <td>1.109289</td>\n",
              "    </tr>\n",
              "    <tr>\n",
              "      <th>min</th>\n",
              "      <td>1.000000</td>\n",
              "      <td>76.000000</td>\n",
              "      <td>0.000000</td>\n",
              "      <td>0.666667</td>\n",
              "      <td>0.000000</td>\n",
              "    </tr>\n",
              "    <tr>\n",
              "      <th>25%</th>\n",
              "      <td>26.666667</td>\n",
              "      <td>1647.000000</td>\n",
              "      <td>0.666667</td>\n",
              "      <td>21.000000</td>\n",
              "      <td>0.000000</td>\n",
              "    </tr>\n",
              "    <tr>\n",
              "      <th>50%</th>\n",
              "      <td>59.384615</td>\n",
              "      <td>1957.150000</td>\n",
              "      <td>3.583333</td>\n",
              "      <td>62.142857</td>\n",
              "      <td>0.583333</td>\n",
              "    </tr>\n",
              "    <tr>\n",
              "      <th>75%</th>\n",
              "      <td>117.666667</td>\n",
              "      <td>2312.238095</td>\n",
              "      <td>11.555556</td>\n",
              "      <td>143.454545</td>\n",
              "      <td>1.400000</td>\n",
              "    </tr>\n",
              "    <tr>\n",
              "      <th>max</th>\n",
              "      <td>4219.000000</td>\n",
              "      <td>4860.000000</td>\n",
              "      <td>1174.666667</td>\n",
              "      <td>6335.000000</td>\n",
              "      <td>10.666667</td>\n",
              "    </tr>\n",
              "  </tbody>\n",
              "</table>\n",
              "</div>"
            ],
            "text/plain": [
              "       average_number_friends  average_days_on_yelp  average_number_fans  \\\n",
              "count           188593.000000         188593.000000        188593.000000   \n",
              "mean               105.132000           2005.367009            11.590148   \n",
              "std                162.653680            554.174540            25.901801   \n",
              "min                  1.000000             76.000000             0.000000   \n",
              "25%                 26.666667           1647.000000             0.666667   \n",
              "50%                 59.384615           1957.150000             3.583333   \n",
              "75%                117.666667           2312.238095            11.555556   \n",
              "max               4219.000000           4860.000000          1174.666667   \n",
              "\n",
              "       average_review_count  average_number_years_elite  \n",
              "count         188593.000000               188593.000000  \n",
              "mean             122.110660                    0.923313  \n",
              "std              208.814471                    1.109289  \n",
              "min                0.666667                    0.000000  \n",
              "25%               21.000000                    0.000000  \n",
              "50%               62.142857                    0.583333  \n",
              "75%              143.454545                    1.400000  \n",
              "max             6335.000000                   10.666667  "
            ]
          },
          "metadata": {
            "tags": []
          },
          "execution_count": 20
        }
      ]
    },
    {
      "cell_type": "code",
      "metadata": {
        "id": "ZLtzOwA1IEuj",
        "colab": {
          "base_uri": "https://localhost:8080/"
        },
        "outputId": "4b69863a-dc91-4549-ff31-cfb38e8c28a8"
      },
      "source": [
        "users_min = users.min(numeric_only = True)\n",
        "users_max = users.max(numeric_only = True)\n",
        "users_range = [users_max - users_min]\n",
        "print(\"The range of values for the features in the user DataFrame: \")\n",
        "users_range"
      ],
      "execution_count": 21,
      "outputs": [
        {
          "output_type": "stream",
          "text": [
            "The range of values for the features in the user DataFrame: \n"
          ],
          "name": "stdout"
        },
        {
          "output_type": "execute_result",
          "data": {
            "text/plain": [
              "[average_number_friends        4218.000000\n",
              " average_days_on_yelp          4784.000000\n",
              " average_number_fans           1174.666667\n",
              " average_review_count          6334.333333\n",
              " average_number_years_elite      10.666667\n",
              " dtype: float64]"
            ]
          },
          "metadata": {
            "tags": []
          },
          "execution_count": 21
        }
      ]
    },
    {
      "cell_type": "markdown",
      "metadata": {
        "id": "aNJo4oepIEuj"
      },
      "source": [
        "What is the Yelp rating, or `stars`, of the establishment with `business_id` = `5EvUIR4IzCWUOm0PsUZXjA`. Use Pandas boolean indexing to find the Yelp rating, using the syntax below:\n",
        "\n",
        "```python\n",
        "df[df['column_we_know'] == 'value_we_know']['column_we_want']\n",
        "```"
      ]
    },
    {
      "cell_type": "code",
      "metadata": {
        "ExecuteTime": {
          "end_time": "2018-09-14T14:51:21.598473Z",
          "start_time": "2018-09-14T14:51:21.559796Z"
        },
        "id": "hN6zqpd_IEuj",
        "colab": {
          "base_uri": "https://localhost:8080/"
        },
        "outputId": "5b1e80e0-0a9a-4c73-ca56-d92e0051347e"
      },
      "source": [
        "yelp_rating = businesses[businesses[\"business_id\"] == \"5EvUIR4IzCWUOm0PsUZXjA\"].stars.values[0]\n",
        "print(f\"The Yelp rating of the establishment with `business_id` = `5EvUIR4IzCWUOm0PsUZXjA`: {yelp_rating}\")"
      ],
      "execution_count": 22,
      "outputs": [
        {
          "output_type": "stream",
          "text": [
            "The Yelp rating of the establishment with `business_id` = `5EvUIR4IzCWUOm0PsUZXjA`: 3.0\n"
          ],
          "name": "stdout"
        }
      ]
    },
    {
      "cell_type": "markdown",
      "metadata": {
        "id": "WoqLDw9MIEuj"
      },
      "source": [
        " What feature, or column, do the DataFrames have in common?"
      ]
    },
    {
      "cell_type": "markdown",
      "metadata": {
        "id": "vMJ7Rus2IEuj"
      },
      "source": [
        "## Merge the Data\n",
        "\n",
        "Since we are working with data from several files, we need to combine the data into a single DataFrame that allows us to analyze the different features with respect to our target variable, the Yelp rating. We can do this by merging the multiple DataFrames we have together, joining them on the columns they have in common. In our case, this unique identifying column is the `business_id`. We can merge two DataFrames together with the following syntax:\n",
        "\n",
        "```python\n",
        "pd.merge(left, right, how='inner/outer/left/right', on='column(s)_to_merge_on')\n",
        "```\n",
        "* `left` is the DataFrame on the left side of our merge\n",
        "* `right` is the DataFrame on the right side of our merge\n",
        "* `how` describes the style of merge we want to complete (similar to inner/outer/left/right joins in SQL)\n",
        "* `on` is the column or columns to perform the merge on (the column connecting the two tables)\n",
        "\n",
        "Given our six DataFrames, we will need to perform 5 merges to combine all the data into one DataFrame. In the cell below we merged the business table and the review table into a new DataFrame, `df`, for you. After the merge we've added all the rows from `businesses` and `reviews` together, but kept the same total number of rows! Run the cell to perform the merge and confirm the number of rows in `df`. "
      ]
    },
    {
      "cell_type": "code",
      "metadata": {
        "id": "L9wXXxXNIEuj",
        "colab": {
          "base_uri": "https://localhost:8080/"
        },
        "outputId": "a89ecd04-126a-487e-a78d-00b638c36b9e"
      },
      "source": [
        "df = pd.merge(businesses, reviews, how='left', on='business_id')\n",
        "print(len(df))"
      ],
      "execution_count": 23,
      "outputs": [
        {
          "output_type": "stream",
          "text": [
            "188593\n"
          ],
          "name": "stdout"
        }
      ]
    },
    {
      "cell_type": "markdown",
      "metadata": {
        "id": "G1vLwk9BIEuj"
      },
      "source": [
        "Merge each of the other 4 DataFrames into our new DataFrame `df` to combine all the data together. Make sure that `df` is the left DataFrame in each merge and `how=left` since not every DataFrame includes every business in the dataset (this way we won't lose any data during the merges). Once combined, print out the columns of `df`. What features are in this new DataFrame?"
      ]
    },
    {
      "cell_type": "code",
      "metadata": {
        "ExecuteTime": {
          "end_time": "2018-09-14T14:51:24.043166Z",
          "start_time": "2018-09-14T14:51:22.538823Z"
        },
        "id": "Uq4bVa9vIEuj",
        "colab": {
          "base_uri": "https://localhost:8080/"
        },
        "outputId": "1882dd83-1e33-4810-ad41-006c6bad6f2c"
      },
      "source": [
        "def merge_many(left, list_of_right, how = \"left\", on = \"business_id\"):\n",
        "    for right in list_of_right:\n",
        "        left = pd.merge(left, right, how = how, on = on)\n",
        "    return left\n",
        "df = merge_many(df, [users, checkins, tips, photos])\n",
        "\n",
        "#  fully clear not necessary dataframe from memory:\n",
        "del businesses\n",
        "del reviews\n",
        "del users\n",
        "del checkins\n",
        "del tips\n",
        "del photos\n",
        "\n",
        "print(len(df.columns))\n",
        "df.columns"
      ],
      "execution_count": 24,
      "outputs": [
        {
          "output_type": "stream",
          "text": [
            "40\n"
          ],
          "name": "stdout"
        },
        {
          "output_type": "execute_result",
          "data": {
            "text/plain": [
              "Index(['address', 'alcohol?', 'attributes', 'business_id', 'categories',\n",
              "       'city', 'good_for_kids', 'has_bike_parking', 'has_wifi', 'hours',\n",
              "       'is_open', 'latitude', 'longitude', 'name', 'neighborhood',\n",
              "       'postal_code', 'price_range', 'review_count', 'stars', 'state',\n",
              "       'take_reservations', 'takes_credit_cards', 'average_review_age',\n",
              "       'average_review_length', 'average_review_sentiment',\n",
              "       'number_funny_votes', 'number_cool_votes', 'number_useful_votes',\n",
              "       'average_number_friends', 'average_days_on_yelp', 'average_number_fans',\n",
              "       'average_review_count', 'average_number_years_elite', 'time',\n",
              "       'weekday_checkins', 'weekend_checkins', 'average_tip_length',\n",
              "       'number_tips', 'average_caption_length', 'number_pics'],\n",
              "      dtype='object')"
            ]
          },
          "metadata": {
            "tags": []
          },
          "execution_count": 24
        }
      ]
    },
    {
      "cell_type": "markdown",
      "metadata": {
        "id": "KVTNw3rLIEuk"
      },
      "source": [
        "## Clean the Data\n",
        "\n",
        "We are getting really close to the fun analysis part! We just have to clean our data a bit so we can focus on the features that might have predictive power for determining an establishment's Yelp rating.\n",
        "\n",
        "In a Linear Regression model, our features will ideally be continuous variables that have an affect on our dependent variable, the Yelp rating. For this project with will also be working with some features that are binary, on the scale [0,1]. With this information, we can remove any columns in the dataset that are not continuous or binary, and that we do not want to make predictions on. The cell below contains a list of these unnecessary features. Drop them from `df` with Pandas' drop syntax, provided below:\n",
        "\n",
        "```python\n",
        "df.drop(list_of_features_to_remove, axis=1, inplace=True)\n",
        "```\n",
        "\n",
        "* `list_of_features_to_remove` is, you guessed it, the list of features we want to remove!\n",
        "* `axis=1` lets Pandas know we want to drop columns, not rows, from our DataFrame (axis=0 is used for computations along rows!) \n",
        "* `inplace=True` lets us drop the columns right here in our DataFrame, instead of returning a new DataFrame that we could store in a new variable"
      ]
    },
    {
      "cell_type": "code",
      "metadata": {
        "id": "JDf3ui9UIEuk",
        "colab": {
          "base_uri": "https://localhost:8080/"
        },
        "outputId": "134a7685-27c4-49eb-d22f-0692097f3bcb"
      },
      "source": [
        "features_to_remove = [\n",
        "    'address','attributes','business_id','categories','city','hours','is_open',\n",
        "    'latitude','longitude','name','neighborhood','postal_code','state','time'\n",
        "]\n",
        "df.drop(features_to_remove, axis = 1, inplace = True)\n",
        "print(len(df.columns))"
      ],
      "execution_count": 25,
      "outputs": [
        {
          "output_type": "stream",
          "text": [
            "26\n"
          ],
          "name": "stdout"
        }
      ]
    },
    {
      "cell_type": "markdown",
      "metadata": {
        "id": "hf1HDF9jIEuk"
      },
      "source": [
        "Now we just have to check our data to make sure we don't have any missing values, or `NaN`s, which will prevent the Linear Regression model from running correctly. To do this we can use the statement `df.isna().any()`. This will check all of our columns and return `True` if there are any missing values or `NaN`s, or `False` if there are no missing values. Check if `df` is missing any values."
      ]
    },
    {
      "cell_type": "code",
      "metadata": {
        "ExecuteTime": {
          "end_time": "2018-09-14T14:51:24.649109Z",
          "start_time": "2018-09-14T14:51:24.581948Z"
        },
        "id": "8MuTYsfPIEuk"
      },
      "source": [
        "dirty_cols = df.isna().any()"
      ],
      "execution_count": 26,
      "outputs": []
    },
    {
      "cell_type": "code",
      "metadata": {
        "id": "hWvMHJOpIEuk",
        "colab": {
          "base_uri": "https://localhost:8080/"
        },
        "outputId": "321fa122-513a-482a-b29b-83c510b13582"
      },
      "source": [
        "dirty_cols = dirty_cols[dirty_cols == True]\n",
        "\n",
        "dirty_cols_dict = {key: 0 for key in dirty_cols.index}\n",
        "dirty_cols_dict"
      ],
      "execution_count": 27,
      "outputs": [
        {
          "output_type": "execute_result",
          "data": {
            "text/plain": [
              "{'average_caption_length': 0,\n",
              " 'average_tip_length': 0,\n",
              " 'number_pics': 0,\n",
              " 'number_tips': 0,\n",
              " 'weekday_checkins': 0,\n",
              " 'weekend_checkins': 0}"
            ]
          },
          "metadata": {
            "tags": []
          },
          "execution_count": 27
        }
      ]
    },
    {
      "cell_type": "markdown",
      "metadata": {
        "id": "ncSApmGeIEuk"
      },
      "source": [
        "As you can see, there are a few columns with missing values. Since our dataset has no information recorded for some businesses in these columns, we will assume the Yelp pages did not display these features. For example, if there is a `NaN` value for `number_pics`, it means that the associated business did not have any pictures posted on its Yelp page. Thus we can replace all of our `NaN`s with `0`s. To do this we can use the `.fillna()` method, which takes a dictionary as shown below:\n",
        "\n",
        "```python\n",
        "df.fillna({'column_1':val_to_replace_na,\n",
        "           'column_2':val_to_replace_na,\n",
        "           'column_3':val_to_replace_na},\n",
        "          inplace=True)\n",
        "```\n",
        "\n",
        "* `column_1`, `column_2`, and `column_3` are the columns with missing values that we want to fill. We can include as many columns as we like in the dictionary that is passed to `.fill_na()`\n",
        "* `val_to_replace_na` is the value that will replace the missing values, or `NaN`s\n",
        "* `inplace=True` since we want to perform our changes in place and not return a new DataFrame\n",
        "\n",
        "Fill the missing values in `df` with `0`. Afterwards, confirm the missing values have been filled with `df.isna().any()`."
      ]
    },
    {
      "cell_type": "code",
      "metadata": {
        "ExecuteTime": {
          "end_time": "2018-09-14T14:51:24.661609Z",
          "start_time": "2018-09-14T14:51:24.650866Z"
        },
        "id": "-RAA0s_4IEuk",
        "colab": {
          "base_uri": "https://localhost:8080/"
        },
        "outputId": "62dba8ef-7552-46ad-d8cb-e76f2857f306"
      },
      "source": [
        "df.fillna(dirty_cols_dict, inplace = True)\n",
        "df.isna().any()"
      ],
      "execution_count": 28,
      "outputs": [
        {
          "output_type": "execute_result",
          "data": {
            "text/plain": [
              "alcohol?                      False\n",
              "good_for_kids                 False\n",
              "has_bike_parking              False\n",
              "has_wifi                      False\n",
              "price_range                   False\n",
              "review_count                  False\n",
              "stars                         False\n",
              "take_reservations             False\n",
              "takes_credit_cards            False\n",
              "average_review_age            False\n",
              "average_review_length         False\n",
              "average_review_sentiment      False\n",
              "number_funny_votes            False\n",
              "number_cool_votes             False\n",
              "number_useful_votes           False\n",
              "average_number_friends        False\n",
              "average_days_on_yelp          False\n",
              "average_number_fans           False\n",
              "average_review_count          False\n",
              "average_number_years_elite    False\n",
              "weekday_checkins              False\n",
              "weekend_checkins              False\n",
              "average_tip_length            False\n",
              "number_tips                   False\n",
              "average_caption_length        False\n",
              "number_pics                   False\n",
              "dtype: bool"
            ]
          },
          "metadata": {
            "tags": []
          },
          "execution_count": 28
        }
      ]
    },
    {
      "cell_type": "markdown",
      "metadata": {
        "id": "p-c1wAeuIEuk"
      },
      "source": [
        "## Exploratory Analysis\n",
        "\n",
        "Now that our data is all together, let's investigate some of the different features to see what might correlate most with our dependent variable, the Yelp rating (called `stars` in our DataFrame). The features with the best correlations could prove to be the most helpful for our Linear Regression model! Pandas DataFrames have a really helpful method, `.corr()`, that allows us to see the correlation coefficients for each pair of our different features. Remember, a correlation of `0` indicates that two features have no linear relationship, a correlation coefficient of `1` indicates two features have a perfect positive linear relationship, and a correlation coefficient of `-1` indicates two features have a perfect negative linear relationship. Call `.corr()` on `df`. You'll see that `number_funny_votes` has a correlation coefficient of `0.001320` with respect to `stars`, our Yelp rating. This is a very weak correlation. What features best correlate, both positively and negatively, with Yelp rating?"
      ]
    },
    {
      "cell_type": "code",
      "metadata": {
        "ExecuteTime": {
          "end_time": "2018-09-14T14:51:24.968871Z",
          "start_time": "2018-09-14T14:51:24.725501Z"
        },
        "scrolled": true,
        "id": "TGlgJwuqIEuk"
      },
      "source": [
        "corr = df.corr()\n",
        "corr_stars = corr.stars.drop(labels = ['stars'])"
      ],
      "execution_count": 29,
      "outputs": []
    },
    {
      "cell_type": "code",
      "metadata": {
        "id": "4fW8klqtIEuk",
        "colab": {
          "base_uri": "https://localhost:8080/",
          "height": 424
        },
        "outputId": "9434ca1a-5106-4992-bafe-e077c1a81b20"
      },
      "source": [
        "import matplotlib.pyplot as plt\n",
        "\n",
        "plt.figure(figsize = (20, 5))\n",
        "plt.plot(corr_stars)\n",
        "plt.xticks(rotation = 'vertical')\n",
        "plt.title(\"Features correlations against Yelp rating\")\n",
        "plt.show()"
      ],
      "execution_count": 30,
      "outputs": [
        {
          "output_type": "display_data",
          "data": {
            "image/png": "[encoded data removed]",
            "text/plain": [
              "<Figure size 1440x360 with 1 Axes>"
            ]
          },
          "metadata": {
            "tags": [],
            "needs_background": "light"
          }
        }
      ]
    },
    {
      "cell_type": "code",
      "metadata": {
        "id": "DgjbncszIEuk",
        "colab": {
          "base_uri": "https://localhost:8080/"
        },
        "outputId": "b0b49829-4a9a-4abe-aab4-d428842b7754"
      },
      "source": [
        "corr_stars_min = corr_stars.min()\n",
        "corr_stars_inxmin = corr_stars.idxmin()\n",
        "corr_stars_max = corr_stars.max()\n",
        "corr_stars_inxmax = corr_stars.idxmax()\n",
        "print(f\"The best positive correlation feature with stars: {corr_stars_inxmax}, value: {corr_stars_max}\")\n",
        "print(f\"The best negative correlation feature with stars: {corr_stars_inxmin}, value: {corr_stars_min}\")"
      ],
      "execution_count": 31,
      "outputs": [
        {
          "output_type": "stream",
          "text": [
            "The best positive correlation feature with stars: average_review_sentiment, value: 0.7821870918436337\n",
            "The best negative correlation feature with stars: average_review_length, value: -0.2770811669231759\n"
          ],
          "name": "stdout"
        }
      ]
    },
    {
      "cell_type": "markdown",
      "metadata": {
        "id": "3JJdgBWPIEuk"
      },
      "source": [
        "To further visualize these relationships, we can plot certain features against our dependent variable, the Yelp rating. In the cell below we have provided the code to import Matplotlib. We can use Matplotlib's `.scatter()` method with the below syntax to plot what these correlations look like:\n",
        "\n",
        "```python\n",
        "plt.scatter(x_values_to_plot, y_values_to_plot, alpha=blending_val)\n",
        "```\n",
        "\n",
        "* `x_values_to_plot` are the values to be plotted along the x-axis\n",
        "* `y_values_to_plot` are the values to be plotted along the y-axis\n",
        "* `alpha=blending_val` is the blending value, or how transparent (0) or opaque (1) a plotted point is. This will help us distinguish areas of the plot with high point densities and low point densities\n",
        "\n",
        "Plot the three features that correlate most with Yelp rating (`average_review_sentiment`, `average_review_length`, `average_review_age`) against `stars`, our Yelp rating. Then plot a lowly correlating feature, such as `number_funny_votes`, against `stars`.\n",
        "\n",
        ">What is `average_review_sentiment`, you ask? `average_review_sentiment` is the average sentiment score for all reviews on a business' Yelp page. The sentiment score for a review was calculated using the sentiment analysis tool [VADER](https://github.com/cjhutto/vaderSentiment). VADER uses a labeled set of positive and negative words, along with codified rules of grammar, to estimate how positive or negative a statement is. Scores range from `-1`, most negative, to `+1`, most positive, with a score of `0` indicating a neutral statement. While not perfect, VADER does a good job at guessing the sentiment of text data!\n",
        "\n",
        "What kind of relationships do you see from the plots? Do you think these variables are good or bad features for our Yelp rating prediction model?"
      ]
    },
    {
      "cell_type": "code",
      "metadata": {
        "id": "dZ2dCFy1IEuk",
        "colab": {
          "base_uri": "https://localhost:8080/",
          "height": 315
        },
        "outputId": "3468ae95-bbd0-4e57-bed1-df2839ae6ee9"
      },
      "source": [
        "# plot average_review_sentiment against stars here\n",
        "def plot_col(col):\n",
        "    name = col.replace(\"_\", \" \").title()\n",
        "    plt.figure(figsize = (20, 5))\n",
        "    plt.scatter( \n",
        "        df[col],\n",
        "        df.stars,\n",
        "        alpha = 0.2\n",
        "    )\n",
        "    plt.xlabel(name)\n",
        "    plt.ylabel(\"Stars\")\n",
        "    plt.title(f\"Stars vs. {name}\")\n",
        "    plt.show()\n",
        "\n",
        "plot_col(\"average_review_sentiment\")"
      ],
      "execution_count": 32,
      "outputs": [
        {
          "output_type": "display_data",
          "data": {
            "image/png": "[encoded data removed]",
            "text/plain": [
              "<Figure size 1440x360 with 1 Axes>"
            ]
          },
          "metadata": {
            "tags": [],
            "needs_background": "light"
          }
        }
      ]
    },
    {
      "cell_type": "code",
      "metadata": {
        "id": "ks28N0CdIEuk",
        "colab": {
          "base_uri": "https://localhost:8080/",
          "height": 315
        },
        "outputId": "743c4fa7-2280-4b79-8e42-ecd6cc7c58b5"
      },
      "source": [
        "# plot average_review_length against stars here\n",
        "plot_col(\"average_review_length\")  "
      ],
      "execution_count": 33,
      "outputs": [
        {
          "output_type": "display_data",
          "data": {
            "image/png": "[encoded data removed]",
            "text/plain": [
              "<Figure size 1440x360 with 1 Axes>"
            ]
          },
          "metadata": {
            "tags": [],
            "needs_background": "light"
          }
        }
      ]
    },
    {
      "cell_type": "code",
      "metadata": {
        "id": "i3fB9Lk2IEuk",
        "colab": {
          "base_uri": "https://localhost:8080/",
          "height": 315
        },
        "outputId": "1fba7386-a155-46da-8bf5-ed0cfa76847f"
      },
      "source": [
        "# plot average_review_age against stars here\n",
        "plot_col(\"average_review_age\") "
      ],
      "execution_count": 34,
      "outputs": [
        {
          "output_type": "display_data",
          "data": {
            "image/png": "[encoded data removed]",
            "text/plain": [
              "<Figure size 1440x360 with 1 Axes>"
            ]
          },
          "metadata": {
            "tags": [],
            "needs_background": "light"
          }
        }
      ]
    },
    {
      "cell_type": "code",
      "metadata": {
        "id": "L8dwLMgvIEuk",
        "colab": {
          "base_uri": "https://localhost:8080/",
          "height": 315
        },
        "outputId": "24fdd8c7-9a07-4aff-d165-4d7249c765ad"
      },
      "source": [
        "# plot number_funny_votes against stars here\n",
        "plot_col(\"number_funny_votes\")"
      ],
      "execution_count": 35,
      "outputs": [
        {
          "output_type": "display_data",
          "data": {
            "image/png": "[encoded data removed]",
            "text/plain": [
              "<Figure size 1440x360 with 1 Axes>"
            ]
          },
          "metadata": {
            "tags": [],
            "needs_background": "light"
          }
        }
      ]
    },
    {
      "cell_type": "markdown",
      "metadata": {
        "id": "vdbQMKN3IEuk"
      },
      "source": [
        "Why do you think `average_review_sentiment` correlates so well with Yelp rating?"
      ]
    },
    {
      "cell_type": "markdown",
      "metadata": {
        "id": "0tmeQoigIEuk"
      },
      "source": [
        "## Data Selection\n",
        "\n",
        "In order to put our data into a Linear Regression model, we need to separate out our features to model on and the Yelp ratings. From our correlation analysis we saw that the three features with the strongest correlations to Yelp rating are `average_review_sentiment`, `average_review_length`, and `average_review_age`. Since we want to dig a little deeper than `average_review_sentiment`, which understandably has a very high correlation with Yelp rating, let's choose to create our first model with `average_review_length` and `average_review_age` as features.\n",
        "\n",
        "Pandas lets us select one column of a DataFrame with the following syntax:\n",
        "\n",
        "```python\n",
        "subset_of_data = df['feature_to_select']\n",
        "```\n",
        "Pandas also lets us select multiple columns from a DataFrame with this syntax:\n",
        "\n",
        "```python\n",
        "subset_of_data = df[list_of_features_to_select]\n",
        "```\n",
        "Create a new DataFrame `features` that contains the columns we want to model on: `average_review_length` and `average_review_age`. Then create another DataFrame `ratings` that stores the value we want to predict, Yelp rating, or `stars` in `df`."
      ]
    },
    {
      "cell_type": "code",
      "metadata": {
        "ExecuteTime": {
          "end_time": "2018-09-14T14:51:57.953014Z",
          "start_time": "2018-09-14T14:51:57.945658Z"
        },
        "id": "H05Aygm-IEuk"
      },
      "source": [
        "list_of_features = [\"average_review_length\", \"average_review_age\"]\n",
        "features = df[list_of_features]\n",
        "ratings = df.stars"
      ],
      "execution_count": 36,
      "outputs": []
    },
    {
      "cell_type": "markdown",
      "metadata": {
        "id": "CGYKAis3IEuk"
      },
      "source": [
        "## Split the Data into Training and Testing Sets\n",
        "\n",
        "We are just about ready to model! But first, we need to break our data into a training set and a test set so we can evaluate how well our model performs. We'll use scikit-learn's `train_test_split` function to do this split, which is provided in the cell below. This function takes two required parameters: the data, or our features, followed by our dependent variable, in our case the Yelp rating. Set the optional parameter `test_size` to be `0.2`. Finally, set the optional parameter `random_state` to `1`. This will make it so your data is split in the same way as the data in our solution code. \n",
        "\n",
        "Remember, this function returns 4 items in this order:\n",
        "1. The training data (features), which we can assign to `X_train`\n",
        "2. The testing data (features), which we can assign to `X_test`\n",
        "3. The training dependent variable (Yelp rating), which we can assign to `y_train`\n",
        "4. The testing dependent variable (Yelp rating), which we can assign to `y_test`"
      ]
    },
    {
      "cell_type": "code",
      "metadata": {
        "id": "qB4PvXe9IEuk"
      },
      "source": [
        "from sklearn.model_selection import train_test_split\n",
        "\n",
        "X_train, X_test, y_train, y_test = train_test_split(\n",
        "    features,\n",
        "    ratings,\n",
        "    test_size = 0.2,\n",
        "    random_state = 1\n",
        ")\n",
        "\n",
        "del features\n",
        "del ratings"
      ],
      "execution_count": 37,
      "outputs": []
    },
    {
      "cell_type": "markdown",
      "metadata": {
        "id": "kcvWzlL6IEul"
      },
      "source": [
        "## Create and Train the Model\n",
        "\n",
        "Now that our data is split into training and testing sets, we can finally model! In the cell below we have provided the code to import `LinearRegression` from scikit-learn's `linear_model` module. Create a new `LinearRegression` object named model. The `.fit()` method will fit our Linear Regression model to our training data and calculate the coefficients for our features. Call the `.fit()` method on `model` with `X_train` and `y_train` as parameters. Just like that our model has now been trained on our training data!"
      ]
    },
    {
      "cell_type": "code",
      "metadata": {
        "id": "SfbqacNtIEul",
        "colab": {
          "base_uri": "https://localhost:8080/"
        },
        "outputId": "09ded9d1-3728-4450-bc8d-45e266841903"
      },
      "source": [
        "from sklearn.linear_model import LinearRegression\n",
        "\n",
        "model = LinearRegression()\n",
        "model.fit(X_train, y_train)\n",
        "print(f\"The coefficients:\\n\\t - average_review_length: {model.coef_[0]}\\n\\t - average_review_age:    {model.coef_[1]}\")\n",
        "print(f\"The intercept: {model.intercept_}\")"
      ],
      "execution_count": 38,
      "outputs": [
        {
          "output_type": "stream",
          "text": [
            "The coefficients:\n",
            "\t - average_review_length: -0.0009977176852074556\n",
            "\t - average_review_age:    -0.00011621626836366475\n",
            "The intercept: 4.360264694313472\n"
          ],
          "name": "stdout"
        }
      ]
    },
    {
      "cell_type": "markdown",
      "metadata": {
        "id": "D_V9p2m5IEul"
      },
      "source": [
        "## Evaluate and Understand the Model\n",
        "\n",
        "Now we can evaluate our model in a variety of ways. The first way will be by using the `.score()` method, which provides the R^2 value for our model. Remember, R^2 is the coefficient of determination, or a measure of how much of the variance in our dependent variable, the predicted Yelp rating, is explained by our independent variables, our feature data. R^2 values range from `0` to `1`, with `0` indicating that the created model does not fit our data at all, and with `1` indicating the model perfectly fits our feature data. Call `.score()` on our model with `X_train` and `y_train` as parameters to calculate our training R^2 score. Then call `.score()` again on model with `X_test` and `y_test` as parameters to calculate R^2 for our testing data. What do these R^2 values say about our model? Do you think these features alone are able to effectively predict Yelp ratings?"
      ]
    },
    {
      "cell_type": "code",
      "metadata": {
        "ExecuteTime": {
          "end_time": "2018-09-14T14:51:58.631827Z",
          "start_time": "2018-09-14T14:51:58.619225Z"
        },
        "id": "Xhby4S3JIEul",
        "colab": {
          "base_uri": "https://localhost:8080/"
        },
        "outputId": "85382340-a4ee-4200-fa37-0dd2523e8c22"
      },
      "source": [
        "print(\"Train score:\")\n",
        "model.score(X_train, y_train)"
      ],
      "execution_count": 39,
      "outputs": [
        {
          "output_type": "stream",
          "text": [
            "Train score:\n"
          ],
          "name": "stdout"
        },
        {
          "output_type": "execute_result",
          "data": {
            "text/plain": [
              "0.08250309566544889"
            ]
          },
          "metadata": {
            "tags": []
          },
          "execution_count": 39
        }
      ]
    },
    {
      "cell_type": "code",
      "metadata": {
        "id": "xJN1N4_iIEul",
        "colab": {
          "base_uri": "https://localhost:8080/"
        },
        "outputId": "69fb44ea-f18b-4b46-e50f-dec604ba91c6"
      },
      "source": [
        "print(\"Test score:\")\n",
        "model.score(X_test, y_test)"
      ],
      "execution_count": 40,
      "outputs": [
        {
          "output_type": "stream",
          "text": [
            "Test score:\n"
          ],
          "name": "stdout"
        },
        {
          "output_type": "execute_result",
          "data": {
            "text/plain": [
              "0.08083081210060561"
            ]
          },
          "metadata": {
            "tags": []
          },
          "execution_count": 40
        }
      ]
    },
    {
      "cell_type": "markdown",
      "metadata": {
        "id": "MWa0GFLeIEul"
      },
      "source": [
        "After all that hard work, we can finally take a look at the coefficients on our different features! The model has an attribute `.coef_` which is an array of the feature coefficients determined by fitting our model to the training data. To make it easier for you to see which feature corresponds to which coefficient, we have provided some code in the cell that `zip`s together a list of our features with the coefficients and sorts them in descending order from most predictive to least predictive."
      ]
    },
    {
      "cell_type": "code",
      "metadata": {
        "id": "pq4i7kLFIEul",
        "colab": {
          "base_uri": "https://localhost:8080/"
        },
        "outputId": "9aa1d29d-fb58-4067-87ad-184c2f6bd466"
      },
      "source": [
        "sorted(list(zip(['average_review_length','average_review_age'],model.coef_)),key = lambda x: abs(x[1]),reverse=True)"
      ],
      "execution_count": 41,
      "outputs": [
        {
          "output_type": "execute_result",
          "data": {
            "text/plain": [
              "[('average_review_length', -0.0009977176852074556),\n",
              " ('average_review_age', -0.00011621626836366475)]"
            ]
          },
          "metadata": {
            "tags": []
          },
          "execution_count": 41
        }
      ]
    },
    {
      "cell_type": "markdown",
      "metadata": {
        "id": "3Xw5pLa8IEul"
      },
      "source": [
        "Lastly we can calculate the predicted Yelp ratings for our testing data and compare them to their actual Yelp ratings! Our model has a `.predict()` method which uses the model's coefficients to calculate the predicted Yelp rating. Call `.predict()` on `X_test` and assign the values to `y_predicted`. Use Matplotlib to plot `y_test` vs `y_predicted`. For a perfect linear regression model we would expect to see the data plotted along the line `y = x`, indicating homoscedasticity. Is this the case? If not, why not? Would you call this model heteroscedastic or homoscedastic?"
      ]
    },
    {
      "cell_type": "code",
      "metadata": {
        "ExecuteTime": {
          "end_time": "2018-09-14T14:51:58.656842Z",
          "start_time": "2018-09-14T14:51:58.653453Z"
        },
        "id": "MrsjZGGOIEul",
        "colab": {
          "base_uri": "https://localhost:8080/",
          "height": 279
        },
        "outputId": "393a84f9-e183-46b7-89bc-0d282b60071d"
      },
      "source": [
        "y_predicted = model.predict(X_test)\n",
        "\n",
        "plt.scatter(y_test, y_predicted)\n",
        "plt.xlabel(\"Stars\")\n",
        "plt.plot(y_test, y_test)\n",
        "plt.ylabel(\"Predicted Stars\")\n",
        "plt.show()"
      ],
      "execution_count": 42,
      "outputs": [
        {
          "output_type": "display_data",
          "data": {
            "image/png": "[encoded data removed]",
            "text/plain": [
              "<Figure size 432x288 with 1 Axes>"
            ]
          },
          "metadata": {
            "tags": [],
            "needs_background": "light"
          }
        }
      ]
    },
    {
      "cell_type": "markdown",
      "metadata": {
        "id": "bA1fCN3QIEul"
      },
      "source": [
        "## Define Different Subsets of Data\n",
        "\n",
        "After evaluating the first model, you can see that `average_review_length` and `average_review_age` alone are not the best predictors for Yelp rating. Let's go do some more modeling with different subsets of features and see if we can achieve a more accurate model! In the cells below we have provided different lists of subsets of features that we will model with and evaluate. What other subsets of features would you want to test? Why do you think those feature sets are more predictive of Yelp rating than others? Create at least one more subset of features that you want to predict Yelp ratings from."
      ]
    },
    {
      "cell_type": "code",
      "metadata": {
        "id": "8ABOrn8_IEul"
      },
      "source": [
        "# subset of only average review sentiment\n",
        "sentiment = ['average_review_sentiment']"
      ],
      "execution_count": 43,
      "outputs": []
    },
    {
      "cell_type": "code",
      "metadata": {
        "id": "JrVcqqJRIEul"
      },
      "source": [
        "# subset of all features that have a response range [0,1]\n",
        "binary_features = ['alcohol?','has_bike_parking','takes_credit_cards','good_for_kids','take_reservations','has_wifi']"
      ],
      "execution_count": 44,
      "outputs": []
    },
    {
      "cell_type": "code",
      "metadata": {
        "id": "c8d87wtvIEul"
      },
      "source": [
        "# subset of all features that vary on a greater range than [0,1]\n",
        "numeric_features = ['review_count','price_range','average_caption_length','number_pics','average_review_age','average_review_length','average_review_sentiment','number_funny_votes','number_cool_votes','number_useful_votes','average_tip_length','number_tips','average_number_friends','average_days_on_yelp','average_number_fans','average_review_count','average_number_years_elite','weekday_checkins','weekend_checkins']"
      ],
      "execution_count": 45,
      "outputs": []
    },
    {
      "cell_type": "code",
      "metadata": {
        "id": "-kYZzgtYIEul"
      },
      "source": [
        "# all features\n",
        "all_features = binary_features + numeric_features"
      ],
      "execution_count": 46,
      "outputs": []
    },
    {
      "cell_type": "code",
      "metadata": {
        "id": "b1_Yl4IZIEul"
      },
      "source": [
        "# add your own feature subset here\n",
        "feature_subset =  [list_of_features]"
      ],
      "execution_count": 47,
      "outputs": []
    },
    {
      "cell_type": "markdown",
      "metadata": {
        "id": "bzLxYbKgIEul"
      },
      "source": [
        "## Further Modeling"
      ]
    },
    {
      "cell_type": "markdown",
      "metadata": {
        "id": "mlvNIAdHIEul"
      },
      "source": [
        "Now that we have lists of different feature subsets, we can create new models from them. In order to more easily compare the performance of these new models, we have created a function for you below called `model_these_features()`. This function replicates the model building process you just completed with our first model! Take some time to review how the function works, analyzing it line by line. Fill in the empty comments with an explanation of the task the code beneath it is performing."
      ]
    },
    {
      "cell_type": "code",
      "metadata": {
        "id": "3SK5ecAHIEul"
      },
      "source": [
        "import numpy as np\n",
        "\n",
        "# take a list of features to model as a parameter\n",
        "def model_these_features(feature_list):\n",
        "    \n",
        "    # \n",
        "    ratings = df.loc[:,'stars']\n",
        "    \n",
        "    features = pd.DataFrame()           # create an empty pandas dataframe\n",
        "    for feature in feature_list:\n",
        "        features[feature] = df[feature]\n",
        "        \n",
        "    #features = df.loc[:,feature_list]\n",
        "    \n",
        "    try:\n",
        "        X_train, X_test, y_train, y_test = train_test_split(\n",
        "            features, \n",
        "            ratings, \n",
        "            test_size = 0.2, \n",
        "            random_state = 1\n",
        "        )\n",
        "    except:\n",
        "        X_train, X_test, y_train, y_test = train_test_split(\n",
        "            features, \n",
        "            ratings, \n",
        "            test_size = 0.2, \n",
        "            random_state = 1,\n",
        "            shuffle = None,\n",
        "            stratify = None\n",
        "        )\n",
        "    \n",
        "    # don't worry too much about these lines, just know that they allow the model to work when\n",
        "    # we model on just one feature instead of multiple features. Trust us on this one :)\n",
        "    if len(X_train.shape) < 2:\n",
        "        X_train = np.array(X_train).reshape(-1,1)\n",
        "        X_test = np.array(X_test).reshape(-1,1)\n",
        "    \n",
        "    # \n",
        "    model = LinearRegression()\n",
        "    #print(type(X_train))\n",
        "    model.fit(np.array(X_train), np.array(y_train))\n",
        "    \n",
        "    # \n",
        "    print('Train Score:', model.score(X_train,y_train))\n",
        "    print('Test Score:', model.score(X_test,y_test))\n",
        "    \n",
        "    # print the model features and their corresponding coefficients, from most predictive to least predictive\n",
        "    print(sorted(list(zip(feature_list,model.coef_)),key = lambda x: abs(x[1]),reverse=True))\n",
        "    \n",
        "    # \n",
        "    y_predicted = model.predict(X_test)\n",
        "    \n",
        "    # \n",
        "    plt.scatter(y_test,y_predicted)\n",
        "    plt.xlabel('Yelp Rating')\n",
        "    plt.ylabel('Predicted Yelp Rating')\n",
        "    plt.ylim(1,5)\n",
        "    plt.show()\n",
        "    del ratings\n",
        "    del features"
      ],
      "execution_count": 48,
      "outputs": []
    },
    {
      "cell_type": "markdown",
      "metadata": {
        "id": "pdTe8jhPIEul"
      },
      "source": [
        "Once you feel comfortable with the steps of the function, run models on the following subsets of data using `model_these_features()`:\n",
        "* `sentiment`: only `average_review_sentiment`\n",
        "* `binary_features`: all features that have a response range [0,1]\n",
        "* `numeric_features`: all features that vary on a greater range than [0,1]\n",
        "* `all_features`: all features\n",
        "* `feature_subset`: your own feature subset\n",
        "\n",
        "How does changing the feature sets affect the model's R^2 value? Which features are most important to predicting Yelp rating in the different models? Which models appear more or less homoscedastic?"
      ]
    },
    {
      "cell_type": "code",
      "metadata": {
        "id": "lJ7omHUAIEul",
        "colab": {
          "base_uri": "https://localhost:8080/",
          "height": 337
        },
        "outputId": "4e904074-b40a-40ee-9c43-7bbb0bc6d72e"
      },
      "source": [
        "# create a model on sentiment here\n",
        "model_these_features(sentiment)"
      ],
      "execution_count": 49,
      "outputs": [
        {
          "output_type": "stream",
          "text": [
            "Train Score: 0.6118980950438655\n",
            "Test Score: 0.6114021046919492\n",
            "[('average_review_sentiment', 2.303390843374967)]\n"
          ],
          "name": "stdout"
        },
        {
          "output_type": "display_data",
          "data": {
            "image/png": "[encoded data removed]",
            "text/plain": [
              "<Figure size 432x288 with 1 Axes>"
            ]
          },
          "metadata": {
            "tags": [],
            "needs_background": "light"
          }
        }
      ]
    },
    {
      "cell_type": "code",
      "metadata": {
        "id": "kcGjj2PpIEul",
        "colab": {
          "base_uri": "https://localhost:8080/",
          "height": 357
        },
        "outputId": "921bdb0b-a500-4f9c-ea78-a0996265ad8c"
      },
      "source": [
        "# create a model on all binary features here\n",
        "model_these_features(binary_features)"
      ],
      "execution_count": 50,
      "outputs": [
        {
          "output_type": "stream",
          "text": [
            "Train Score: 0.012223180709591164\n",
            "Test Score: 0.010119542202269072\n",
            "[('has_bike_parking', 0.1900300820804082), ('alcohol?', -0.14549670708138862), ('has_wifi', -0.13187397577762405), ('good_for_kids', -0.08632485990337223), ('takes_credit_cards', 0.07175536492195503), ('take_reservations', 0.04526558530451638)]\n"
          ],
          "name": "stdout"
        },
        {
          "output_type": "display_data",
          "data": {
            "image/png": "[encoded data removed]",
            "text/plain": [
              "<Figure size 432x288 with 1 Axes>"
            ]
          },
          "metadata": {
            "tags": [],
            "needs_background": "light"
          }
        }
      ]
    },
    {
      "cell_type": "code",
      "metadata": {
        "id": "RCjxSO07IEul",
        "colab": {
          "base_uri": "https://localhost:8080/",
          "height": 357
        },
        "outputId": "2e08114d-bb12-4d87-e246-caa22099ef7f"
      },
      "source": [
        "# create a model on all numeric features here\n",
        "model_these_features(numeric_features)"
      ],
      "execution_count": 51,
      "outputs": [
        {
          "output_type": "stream",
          "text": [
            "Train Score: 0.6734992593766658\n",
            "Test Score: 0.6713318798120134\n",
            "[('average_review_sentiment', 2.272107664209677), ('price_range', -0.08046080962701445), ('average_number_years_elite', -0.07190366288054284), ('average_caption_length', -0.0033470660077835218), ('number_pics', -0.00295650281289204), ('number_tips', -0.0015953050789030726), ('number_cool_votes', 0.0011468839227092916), ('average_number_fans', 0.0010510602097447742), ('average_review_length', -0.0005813655692094734), ('average_tip_length', -0.0005322032063457423), ('number_useful_votes', -0.00023203784758712564), ('average_review_count', -0.0002243170289508221), ('average_review_age', -0.00016930608165089726), ('average_days_on_yelp', 0.00012878025876724556), ('weekday_checkins', 5.91858075446039e-05), ('weekend_checkins', -5.518176206974201e-05), ('average_number_friends', 4.826992111583864e-05), ('review_count', -3.483483763867104e-05), ('number_funny_votes', -7.884395674567053e-06)]\n"
          ],
          "name": "stdout"
        },
        {
          "output_type": "display_data",
          "data": {
            "image/png": "[encoded data removed]",
            "text/plain": [
              "<Figure size 432x288 with 1 Axes>"
            ]
          },
          "metadata": {
            "tags": [],
            "needs_background": "light"
          }
        }
      ]
    },
    {
      "cell_type": "code",
      "metadata": {
        "id": "Lkca4L2HIEum",
        "colab": {
          "base_uri": "https://localhost:8080/",
          "height": 357
        },
        "outputId": "08ca9e24-201b-43be-911d-9f774b4d3c2a"
      },
      "source": [
        "# create a model on all features here\n",
        "model_these_features(all_features)"
      ],
      "execution_count": 52,
      "outputs": [
        {
          "output_type": "stream",
          "text": [
            "Train Score: 0.6807828861895335\n",
            "Test Score: 0.6782129045869245\n",
            "[('average_review_sentiment', 2.2808456996623683), ('alcohol?', -0.1499149859346954), ('has_wifi', -0.12155382629262958), ('good_for_kids', -0.11807814422012454), ('price_range', -0.06486730150041427), ('average_number_years_elite', -0.06278939713895423), ('has_bike_parking', 0.027296969912258707), ('takes_credit_cards', 0.024451837853625796), ('take_reservations', 0.014134559172965556), ('number_pics', -0.0013133612300810522), ('average_number_fans', 0.001026798682265563), ('number_cool_votes', 0.0009723722734413303), ('number_tips', -0.0008546563320881045), ('average_caption_length', -0.0006472749798193465), ('average_review_length', -0.0005896257920272468), ('average_tip_length', -0.0004205217503405806), ('number_useful_votes', -0.0002715064125617315), ('average_review_count', -0.00023398356902508714), ('average_review_age', -0.00015776544111326633), ('average_days_on_yelp', 0.00012326147662885568), ('review_count', 0.00010112259377390332), ('weekend_checkins', -9.239617469646022e-05), ('weekday_checkins', 6.15390912314705e-05), ('number_funny_votes', 4.847935102518744e-05), ('average_number_friends', 2.069584037376758e-05)]\n"
          ],
          "name": "stdout"
        },
        {
          "output_type": "display_data",
          "data": {
            "image/png": "[encoded data removed]",
            "text/plain": [
              "<Figure size 432x288 with 1 Axes>"
            ]
          },
          "metadata": {
            "tags": [],
            "needs_background": "light"
          }
        }
      ]
    },
    {
      "cell_type": "code",
      "metadata": {
        "id": "IGUbr5wvIEum",
        "colab": {
          "base_uri": "https://localhost:8080/",
          "height": 337
        },
        "outputId": "9603baa7-1a9c-438d-ef93-36b1efa86178"
      },
      "source": [
        "# create a model on your feature subset here\n",
        "model_these_features(feature_subset)"
      ],
      "execution_count": 53,
      "outputs": [
        {
          "output_type": "stream",
          "text": [
            "Train Score: 0.08250309566544889\n",
            "Test Score: 0.08083081210060561\n",
            "[(['average_review_length', 'average_review_age'], -0.0009977176852074556)]\n"
          ],
          "name": "stdout"
        },
        {
          "output_type": "display_data",
          "data": {
            "image/png": "[encoded data removed]",
            "text/plain": [
              "<Figure size 432x288 with 1 Axes>"
            ]
          },
          "metadata": {
            "tags": [],
            "needs_background": "light"
          }
        }
      ]
    },
    {
      "cell_type": "markdown",
      "metadata": {
        "id": "0XrQVe0IIEum"
      },
      "source": [
        "## Danielle's Delicious Delicacies' Debut\n",
        "\n",
        "You've loaded the data, cleaned it, modeled it, and evaluated it. You're tired, but glowing with pride after all the hard work. You close your eyes and can clearly see opening day of Danielle's Delicious Delicacies with a line out the door. But what will your Yelp rating be? Let's use our model to make a prediction.\n",
        "\n",
        "Our best model was the model using all features, so we'll work with this model again. In the cell below print `all_features` to get a reminder of what features we are working with."
      ]
    },
    {
      "cell_type": "code",
      "metadata": {
        "ExecuteTime": {
          "end_time": "2018-09-14T14:52:25.658575Z",
          "start_time": "2018-09-14T14:52:25.654756Z"
        },
        "id": "THzVInlcIEum",
        "colab": {
          "base_uri": "https://localhost:8080/"
        },
        "outputId": "495e5aa4-6f69-499c-e3a3-c8c7b0c3cccd"
      },
      "source": [
        "print(all_features)"
      ],
      "execution_count": 54,
      "outputs": [
        {
          "output_type": "stream",
          "text": [
            "['alcohol?', 'has_bike_parking', 'takes_credit_cards', 'good_for_kids', 'take_reservations', 'has_wifi', 'review_count', 'price_range', 'average_caption_length', 'number_pics', 'average_review_age', 'average_review_length', 'average_review_sentiment', 'number_funny_votes', 'number_cool_votes', 'number_useful_votes', 'average_tip_length', 'number_tips', 'average_number_friends', 'average_days_on_yelp', 'average_number_fans', 'average_review_count', 'average_number_years_elite', 'weekday_checkins', 'weekend_checkins']\n"
          ],
          "name": "stdout"
        }
      ]
    },
    {
      "cell_type": "markdown",
      "metadata": {
        "id": "HJO__cz-IEum"
      },
      "source": [
        "Run the cell below to grab all the features and retrain our model on them."
      ]
    },
    {
      "cell_type": "code",
      "metadata": {
        "id": "pRGoTJbrIEum",
        "colab": {
          "base_uri": "https://localhost:8080/"
        },
        "outputId": "117b23da-3cd9-4e1f-fdb8-6ac6e5117b4b"
      },
      "source": [
        "features = df.loc[:, all_features]\n",
        "ratings = df.loc[:,'stars']\n",
        "X_train, X_test, y_train, y_test = train_test_split(features, ratings, test_size = 0.2, random_state = 1)\n",
        "model = LinearRegression()\n",
        "model.fit(X_train,y_train)"
      ],
      "execution_count": 59,
      "outputs": [
        {
          "output_type": "execute_result",
          "data": {
            "text/plain": [
              "LinearRegression(copy_X=True, fit_intercept=True, n_jobs=None, normalize=False)"
            ]
          },
          "metadata": {
            "tags": []
          },
          "execution_count": 59
        }
      ]
    },
    {
      "cell_type": "markdown",
      "metadata": {
        "id": "qqSnP4cmIEum"
      },
      "source": [
        "To give you some perspective on the restaurants already out there, we have provided the mean, minimum, and maximum values for each feature below. Will Danielle's Delicious Delicacies be just another average restaurant, or will it be a 5 star behemoth amongst the masses?"
      ]
    },
    {
      "cell_type": "code",
      "metadata": {
        "id": "3gJeSDR-IEum",
        "colab": {
          "base_uri": "https://localhost:8080/",
          "height": 798
        },
        "outputId": "c3a2d2de-1338-40d9-e57a-b0352a2f2f03"
      },
      "source": [
        "pd.DataFrame(list(zip(features.columns,features.describe().loc['mean'],features.describe().loc['min'],features.describe().loc['max'])),columns=['Feature','Mean','Min','Max'])"
      ],
      "execution_count": 60,
      "outputs": [
        {
          "output_type": "execute_result",
          "data": {
            "text/html": [
              "<div>\n",
              "<style scoped>\n",
              "    .dataframe tbody tr th:only-of-type {\n",
              "        vertical-align: middle;\n",
              "    }\n",
              "\n",
              "    .dataframe tbody tr th {\n",
              "        vertical-align: top;\n",
              "    }\n",
              "\n",
              "    .dataframe thead th {\n",
              "        text-align: right;\n",
              "    }\n",
              "</style>\n",
              "<table border=\"1\" class=\"dataframe\">\n",
              "  <thead>\n",
              "    <tr style=\"text-align: right;\">\n",
              "      <th></th>\n",
              "      <th>Feature</th>\n",
              "      <th>Mean</th>\n",
              "      <th>Min</th>\n",
              "      <th>Max</th>\n",
              "    </tr>\n",
              "  </thead>\n",
              "  <tbody>\n",
              "    <tr>\n",
              "      <th>0</th>\n",
              "      <td>alcohol?</td>\n",
              "      <td>0.140610</td>\n",
              "      <td>0.000000</td>\n",
              "      <td>1.000000</td>\n",
              "    </tr>\n",
              "    <tr>\n",
              "      <th>1</th>\n",
              "      <td>has_bike_parking</td>\n",
              "      <td>0.350692</td>\n",
              "      <td>0.000000</td>\n",
              "      <td>1.000000</td>\n",
              "    </tr>\n",
              "    <tr>\n",
              "      <th>2</th>\n",
              "      <td>takes_credit_cards</td>\n",
              "      <td>0.700243</td>\n",
              "      <td>0.000000</td>\n",
              "      <td>1.000000</td>\n",
              "    </tr>\n",
              "    <tr>\n",
              "      <th>3</th>\n",
              "      <td>good_for_kids</td>\n",
              "      <td>0.279029</td>\n",
              "      <td>0.000000</td>\n",
              "      <td>1.000000</td>\n",
              "    </tr>\n",
              "    <tr>\n",
              "      <th>4</th>\n",
              "      <td>take_reservations</td>\n",
              "      <td>0.106086</td>\n",
              "      <td>0.000000</td>\n",
              "      <td>1.000000</td>\n",
              "    </tr>\n",
              "    <tr>\n",
              "      <th>5</th>\n",
              "      <td>has_wifi</td>\n",
              "      <td>0.134968</td>\n",
              "      <td>0.000000</td>\n",
              "      <td>1.000000</td>\n",
              "    </tr>\n",
              "    <tr>\n",
              "      <th>6</th>\n",
              "      <td>review_count</td>\n",
              "      <td>31.797310</td>\n",
              "      <td>3.000000</td>\n",
              "      <td>7968.000000</td>\n",
              "    </tr>\n",
              "    <tr>\n",
              "      <th>7</th>\n",
              "      <td>price_range</td>\n",
              "      <td>1.035855</td>\n",
              "      <td>0.000000</td>\n",
              "      <td>4.000000</td>\n",
              "    </tr>\n",
              "    <tr>\n",
              "      <th>8</th>\n",
              "      <td>average_caption_length</td>\n",
              "      <td>2.831829</td>\n",
              "      <td>0.000000</td>\n",
              "      <td>140.000000</td>\n",
              "    </tr>\n",
              "    <tr>\n",
              "      <th>9</th>\n",
              "      <td>number_pics</td>\n",
              "      <td>1.489939</td>\n",
              "      <td>0.000000</td>\n",
              "      <td>1150.000000</td>\n",
              "    </tr>\n",
              "    <tr>\n",
              "      <th>10</th>\n",
              "      <td>average_review_age</td>\n",
              "      <td>1175.501021</td>\n",
              "      <td>71.555556</td>\n",
              "      <td>4727.333333</td>\n",
              "    </tr>\n",
              "    <tr>\n",
              "      <th>11</th>\n",
              "      <td>average_review_length</td>\n",
              "      <td>596.463567</td>\n",
              "      <td>62.400000</td>\n",
              "      <td>4229.000000</td>\n",
              "    </tr>\n",
              "    <tr>\n",
              "      <th>12</th>\n",
              "      <td>average_review_sentiment</td>\n",
              "      <td>0.554935</td>\n",
              "      <td>-0.995200</td>\n",
              "      <td>0.996575</td>\n",
              "    </tr>\n",
              "    <tr>\n",
              "      <th>13</th>\n",
              "      <td>number_funny_votes</td>\n",
              "      <td>15.617091</td>\n",
              "      <td>0.000000</td>\n",
              "      <td>36822.000000</td>\n",
              "    </tr>\n",
              "    <tr>\n",
              "      <th>14</th>\n",
              "      <td>number_cool_votes</td>\n",
              "      <td>18.495973</td>\n",
              "      <td>0.000000</td>\n",
              "      <td>6572.000000</td>\n",
              "    </tr>\n",
              "    <tr>\n",
              "      <th>15</th>\n",
              "      <td>number_useful_votes</td>\n",
              "      <td>43.515279</td>\n",
              "      <td>0.000000</td>\n",
              "      <td>38357.000000</td>\n",
              "    </tr>\n",
              "    <tr>\n",
              "      <th>16</th>\n",
              "      <td>average_tip_length</td>\n",
              "      <td>45.643426</td>\n",
              "      <td>0.000000</td>\n",
              "      <td>500.000000</td>\n",
              "    </tr>\n",
              "    <tr>\n",
              "      <th>17</th>\n",
              "      <td>number_tips</td>\n",
              "      <td>6.285217</td>\n",
              "      <td>0.000000</td>\n",
              "      <td>3581.000000</td>\n",
              "    </tr>\n",
              "    <tr>\n",
              "      <th>18</th>\n",
              "      <td>average_number_friends</td>\n",
              "      <td>105.132000</td>\n",
              "      <td>1.000000</td>\n",
              "      <td>4219.000000</td>\n",
              "    </tr>\n",
              "    <tr>\n",
              "      <th>19</th>\n",
              "      <td>average_days_on_yelp</td>\n",
              "      <td>2005.367009</td>\n",
              "      <td>76.000000</td>\n",
              "      <td>4860.000000</td>\n",
              "    </tr>\n",
              "    <tr>\n",
              "      <th>20</th>\n",
              "      <td>average_number_fans</td>\n",
              "      <td>11.590148</td>\n",
              "      <td>0.000000</td>\n",
              "      <td>1174.666667</td>\n",
              "    </tr>\n",
              "    <tr>\n",
              "      <th>21</th>\n",
              "      <td>average_review_count</td>\n",
              "      <td>122.110660</td>\n",
              "      <td>0.666667</td>\n",
              "      <td>6335.000000</td>\n",
              "    </tr>\n",
              "    <tr>\n",
              "      <th>22</th>\n",
              "      <td>average_number_years_elite</td>\n",
              "      <td>0.923313</td>\n",
              "      <td>0.000000</td>\n",
              "      <td>10.666667</td>\n",
              "    </tr>\n",
              "    <tr>\n",
              "      <th>23</th>\n",
              "      <td>weekday_checkins</td>\n",
              "      <td>45.385094</td>\n",
              "      <td>0.000000</td>\n",
              "      <td>73830.000000</td>\n",
              "    </tr>\n",
              "    <tr>\n",
              "      <th>24</th>\n",
              "      <td>weekend_checkins</td>\n",
              "      <td>49.612515</td>\n",
              "      <td>0.000000</td>\n",
              "      <td>64647.000000</td>\n",
              "    </tr>\n",
              "  </tbody>\n",
              "</table>\n",
              "</div>"
            ],
            "text/plain": [
              "                       Feature         Mean        Min           Max\n",
              "0                     alcohol?     0.140610   0.000000      1.000000\n",
              "1             has_bike_parking     0.350692   0.000000      1.000000\n",
              "2           takes_credit_cards     0.700243   0.000000      1.000000\n",
              "3                good_for_kids     0.279029   0.000000      1.000000\n",
              "4            take_reservations     0.106086   0.000000      1.000000\n",
              "5                     has_wifi     0.134968   0.000000      1.000000\n",
              "6                 review_count    31.797310   3.000000   7968.000000\n",
              "7                  price_range     1.035855   0.000000      4.000000\n",
              "8       average_caption_length     2.831829   0.000000    140.000000\n",
              "9                  number_pics     1.489939   0.000000   1150.000000\n",
              "10          average_review_age  1175.501021  71.555556   4727.333333\n",
              "11       average_review_length   596.463567  62.400000   4229.000000\n",
              "12    average_review_sentiment     0.554935  -0.995200      0.996575\n",
              "13          number_funny_votes    15.617091   0.000000  36822.000000\n",
              "14           number_cool_votes    18.495973   0.000000   6572.000000\n",
              "15         number_useful_votes    43.515279   0.000000  38357.000000\n",
              "16          average_tip_length    45.643426   0.000000    500.000000\n",
              "17                 number_tips     6.285217   0.000000   3581.000000\n",
              "18      average_number_friends   105.132000   1.000000   4219.000000\n",
              "19        average_days_on_yelp  2005.367009  76.000000   4860.000000\n",
              "20         average_number_fans    11.590148   0.000000   1174.666667\n",
              "21        average_review_count   122.110660   0.666667   6335.000000\n",
              "22  average_number_years_elite     0.923313   0.000000     10.666667\n",
              "23            weekday_checkins    45.385094   0.000000  73830.000000\n",
              "24            weekend_checkins    49.612515   0.000000  64647.000000"
            ]
          },
          "metadata": {
            "tags": []
          },
          "execution_count": 60
        }
      ]
    },
    {
      "cell_type": "markdown",
      "metadata": {
        "id": "5-KgHoBNIEum"
      },
      "source": [
        "Based on your plans for the restaurant, how you expect your customers to post on your Yelp page, and the values above, fill in the blanks in the NumPy array below with your desired values. The first blank corresponds with the feature at `index=0` in the DataFrame above, `alcohol?`, and the last blank corresponds to the feature at ``index=24``, `weekend_checkins`. Make sure to enter either `0` or `1` for all binary features, and if you aren't sure of what value to put for a feature, select the mean from the DataFrame above. After you enter the values, run the prediction cell below to receive your Yelp rating! How is Danielle's Delicious Delicacies debut going to be?"
      ]
    },
    {
      "cell_type": "code",
      "metadata": {
        "ExecuteTime": {
          "end_time": "2018-09-13T18:35:02.243266Z",
          "start_time": "2018-09-13T18:34:39.238Z"
        },
        "id": "oSzXFlj3IEum"
      },
      "source": [
        "danielles_delicious_delicacies = np.array([\n",
        "    1,                  # alcohol\n",
        "    1,                  # has_bike_parking\n",
        "    1,                  # takes_credit_cards\n",
        "    1,                  # good_for_kids\n",
        "    1,                  # take_reservations\n",
        "    1,                  # has_wifi\n",
        "    25,                 # review_count\n",
        "    3,                  # price_range\n",
        "    28.31829,           # average_caption_length\n",
        "    15,                 # number_pics\n",
        "    2175.501021,        # average_review_age\n",
        "    440.463567,         # average_review_length\n",
        "    0.45,               # average_review_sentiment\n",
        "    5.617091,           # number_funny_votes\n",
        "    28.495973,          # number_cool_votes\n",
        "    40.515279,          # number_useful_votes\n",
        "    25.643426,          # average_tip_length\n",
        "    9.285217,           # number_tips\n",
        "    155.132000,         # average_number_friends\n",
        "    505.367009,         # average_days_on_yelp\n",
        "    19.590148,          # average_number_fans\n",
        "    92.110660,          # average_review_count\n",
        "    6.923313,           # average_number_years_elite\n",
        "    145.385094,         # weekday_checkins\n",
        "    549.612515          # weekend_checkins\n",
        "]).reshape(1,-1)"
      ],
      "execution_count": 62,
      "outputs": []
    },
    {
      "cell_type": "code",
      "metadata": {
        "ExecuteTime": {
          "end_time": "2018-09-13T18:35:02.244175Z",
          "start_time": "2018-09-13T18:34:39.239Z"
        },
        "id": "S25wK2_TIEum",
        "colab": {
          "base_uri": "https://localhost:8080/"
        },
        "outputId": "f1c3acd3-c3e6-4681-ccf5-6cd1f4a510cd"
      },
      "source": [
        "model.predict(danielles_delicious_delicacies)"
      ],
      "execution_count": 63,
      "outputs": [
        {
          "output_type": "execute_result",
          "data": {
            "text/plain": [
              "array([2.31128725])"
            ]
          },
          "metadata": {
            "tags": []
          },
          "execution_count": 63
        }
      ]
    },
    {
      "cell_type": "markdown",
      "metadata": {
        "id": "L24qPqhAIEum"
      },
      "source": [
        "## Next Steps\n",
        "\n",
        "You have successfully built a linear regression model that predicts a restaurant's Yelp rating! As you have seen, it can be pretty hard to predict a rating like this even when we have a plethora of data. What other questions come to your mind when you see the data we have? What insights do you think could come from a different kind of analysis? Here are some ideas to ponder:\n",
        "\n",
        "* Can we predict the cuisine of a restaurant based on the users that review it?\n",
        "* What restaurants are similar to each other in ways besides cuisine?\n",
        "* Are there different restaurant vibes, and what kind of restaurants fit these conceptions?\n",
        "* How does social media status affect a restaurant's credibility and visibility?\n",
        "\n",
        "As you progress further into the field of data science, you will be able to create models that address these questions and many more! But in the meantime, get back to working on that burgeoning restaurant business plan."
      ]
    }
  ]
}