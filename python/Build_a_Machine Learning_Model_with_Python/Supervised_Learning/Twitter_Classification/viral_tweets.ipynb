{
 "cells": [
  {
   "cell_type": "markdown",
   "metadata": {},
   "source": [
    "# Off-Platform Project: Viral Tweets\n",
    "\n",
    "In this project, we are going to use the K-Nearest Neighbor algorithm to predict whether a tweet will go viral. Before jumping into using the classifier, let's first consider the problem we're trying to solve. Which features of a tweet are most closely linked to its popularity? Maybe the number of hashtags or the number of links in the tweet strongly influences its popularity. Maybe its virality is dependent on how many followers the person has. Maybe it's something more subtle like the specific language used in the tweets.\n",
    "\n",
    "Let's explore these options by looking at the data we have available to us. We've imported the dataset and printed the following information:\n",
    "\n",
    "* The total number of tweets in the dataset.\n",
    "* The columns, or features, of the dataset.\n",
    "* The text of the first tweet in the dataset.\n",
    "\n",
    "Some of these features are dictionaries. For example, the feature `\"user\"` is a dictionary. We might want to use some of the information found in these sub-dictionaries. Print `all_tweets.loc[0][\"user\"]` to see what the `\"user\"` feature looks like.\n",
    "\n",
    "After printing that, try printing just the `\"location\"` found in that `\"user\"` dictionary. For example, `all_tweets.loc[0][\"user\"][\"screen_name\"]` would give you only the screen name associated with the first tweet."
   ]
  },
  {
   "cell_type": "code",
   "execution_count": null,
   "metadata": {},
   "outputs": [],
   "source": [
    "import pandas as pd\n",
    "\n",
    "all_tweets = pd.read_json(\"random_tweets.json\", lines=True)\n",
    "\n",
    "print(len(all_tweets))\n",
    "print(all_tweets.columns)\n",
    "print(all_tweets.loc[0]['text'])\n",
    "#Print the user here and the user's location here.\n",
    "print(all_tweets.loc[0][\"user\"])\n",
    "print(all_tweets.loc[0][\"user\"][\"location\"])\n",
    "print(all_tweets.loc[0][\"user\"][\"profile_use_background_image\"])"
   ]
  },
  {
   "cell_type": "markdown",
   "metadata": {},
   "source": [
    "# Defining Viral Tweets\n",
    "\n",
    "A K-Nearest Neighbor classifier is a supervised machine learning algorithm, and as a result, we need to have a dataset with tagged labels. For this specific example, we need a dataset where every tweet is marked as viral or not viral. Unfortunately, this isn't a feature of our dataset &mdash; we'll need to make it ourselves.\n",
    "\n",
    "So how do we define a viral tweet? A good place to start is to look at the number of retweets the tweet has. This can be found using the feature `\"retweet_count\"`. Let's say we wanted to create a column called `is_viral` that is a `1` if the tweet had more than `5` retweets and `0` otherwise. We could do that like this:\n",
    "\n",
    "```py\n",
    "all_tweets['is_viral'] = np.where(all_tweets['retweet_count'] > 5, 1, 0)\n",
    "```\n",
    "\n",
    "Instead of using `5` as the benchmark for a viral tweet, let's use the median number of retweets. You can find that by calling the `median()` function on `all_tweets[\"retweet_count\"]`. Print the median number of retweets to understand what this threshold is.\n",
    "\n",
    "Print the number of viral tweets and non-viral tweets. You can do this using `all_tweets['is_viral'].value_counts()`.\n",
    "\n",
    "After finishing this project, consider coming back and playing with this threshold number. How do you think your model would work if it was trying to find incredibly viral tweets? For example, how would it work if it were looking for tweets with 1000 or more retweets?"
   ]
  },
  {
   "cell_type": "code",
   "execution_count": null,
   "metadata": {},
   "outputs": [],
   "source": [
    "import numpy as np\n",
    "\n",
    "retweet_median = all_tweets[\"retweet_count\"].median()\n",
    "all_tweets[\"is_viral\"] = np.where(all_tweets['retweet_count'] >= retweet_median, 1, 0)\n",
    "print(all_tweets[\"is_viral\"])\n",
    "print(all_tweets['is_viral'].value_counts())"
   ]
  },
  {
   "cell_type": "markdown",
   "metadata": {},
   "source": [
    "# Making Features\n",
    "\n",
    "Now that we've created a label for every tweet in our dataset, we can begin thinking about which features might determine whether a tweet is viral. We can create new columns in our dataset to represent these features. For example, let's say we think the length of a tweet might be a valuable feature. The following line creates a new column containing the length of the tweet.\n",
    "\n",
    "```py\n",
    "all_tweets['tweet_length'] = all_tweets.apply(lambda tweet: len(tweet['text']), axis=1)\n",
    "```\n",
    "\n",
    "Setting `axis = 1` creates a new column rather than a new row.\n",
    "\n",
    "Create a new column called `followers_count` that contains the number of followers of each user. You can find this information in `tweet['user']['followers_count']`. Do the same for `friends_count`.\n",
    "\n",
    "For the rest of this project, we will be using these three features, but we encourage you to create your own. Here are some potential ideas for more features.\n",
    "\n",
    "* The number of hashtags in the tweet. You can find this by looking at the `text` of the tweet and using the `.count()` function with `#` as a parameter.\n",
    "* The number of links in the tweet. Using a similar strategy to the one above, use `.count()` to count the number of times `http` appears in the tweet.\n",
    "* The number of words in the tweet. Call `.split()` on the `text` of a tweet. This will give you a list of the words in the tweet. Find the length of that list.\n",
    "* The average length of the words in the tweet."
   ]
  },
  {
   "cell_type": "code",
   "execution_count": 3,
   "metadata": {},
   "outputs": [
    {
     "name": "stdout",
     "output_type": "stream",
     "text": [
      "0        4.423077\n",
      "1        4.200000\n",
      "2        5.409091\n",
      "3        4.875000\n",
      "4        4.875000\n",
      "           ...   \n",
      "11094    4.875000\n",
      "11095    7.444444\n",
      "11096    6.833333\n",
      "11097    3.862069\n",
      "11098    4.846154\n",
      "Name: words_length, Length: 11099, dtype: float64\n"
     ]
    }
   ],
   "source": [
    "all_tweets['tweet_length'] = all_tweets.apply(lambda tweet: len(tweet['text']), axis=1)\n",
    "all_tweets[\"followers_count\"] = all_tweets.apply(lambda tweet: tweet['user']['followers_count'], axis=1)\n",
    "all_tweets[\"friends_count\"] = all_tweets.apply(lambda tweet: tweet['user']['friends_count'], axis=1)\n",
    "all_tweets[\"hashtags_count\"] = all_tweets.apply(lambda tweet: tweet['text'].count(\"#\"), axis=1)\n",
    "all_tweets[\"links_count\"] = all_tweets.apply(lambda tweet: tweet['text'].count(\"http\"), axis=1)\n",
    "all_tweets[\"words_count\"] = all_tweets.apply(lambda tweet: len(tweet['text'].split()), axis=1)\n",
    "all_tweets[\"words_length\"] = all_tweets.apply(lambda tweet:  sum([len(word) for word in tweet['text'].split()]) / len(tweet['text'].split()), axis=1)\n",
    "all_tweets[\"background\"] = all_tweets.apply(lambda tweet: 1 if tweet[\"user\"][\"profile_use_background_image\"] == True else 0, axis=1)\n",
    "print(all_tweets[\"words_length\"])"
   ]
  },
  {
   "cell_type": "markdown",
   "metadata": {},
   "source": [
    "# Normalizing The Data\n",
    "\n",
    "We've now made the columns that we want to feed into our classifier. Let's get rid of all the data that is no longer relevant. Create a variable named `labels` and set it equal to the `'is_viral'` column of all_tweets.\n",
    "\n",
    "If we had a dataframe named `df` we could get a single column named `A` like this:\n",
    "\n",
    "```py\n",
    "one_column = df['A']\n",
    "```\n",
    "\n",
    "Create a variable named `data` and set it equal to all of the columns that you created in the last step. Those columns are `tweet_length`, `followers_count`, and `friends_count`.\n",
    "\n",
    "When selecting multiple columns, the names of the columns should be in a list. Check out the example below to see how to select column `A` *and* `B`:\n",
    "\n",
    "```py\n",
    "features = df[['A', 'B']]\n",
    "```\n",
    "\n",
    "Now create a new variable named `scaled_data`. `scaled_data` should be the result of the `scale` function with `data` as a parameter. Also include the parameter `axis = 0`. This scales the *columns* as opposed to the rows.\n",
    "\n",
    "The scale function will normalize the data so all of the features will vary within the same range.\n",
    "\n",
    "Print `scaled_data[0]` to get a sense of what our data looks like."
   ]
  },
  {
   "cell_type": "code",
   "execution_count": 4,
   "metadata": {},
   "outputs": [
    {
     "name": "stdout",
     "output_type": "stream",
     "text": [
      "[ 0.6164054  -0.02878298 -0.14483305 -0.32045057 -0.78415588  1.15105133\n",
      " -0.63295806  0.50073194]\n"
     ]
    }
   ],
   "source": [
    "from sklearn.preprocessing import scale\n",
    "\n",
    "labels = all_tweets[\"is_viral\"]\n",
    "#print(labels)\n",
    "data = all_tweets[[\n",
    "    \"tweet_length\",\n",
    "    \"followers_count\",\n",
    "    \"friends_count\",\n",
    "    \"hashtags_count\",\n",
    "    \"links_count\",\n",
    "    \"words_count\",\n",
    "    \"words_length\",\n",
    "    \"background\"\n",
    "]]\n",
    "#print(data.iloc[0])\n",
    "\n",
    "scaled_data = scale(data)\n",
    "print(scaled_data[0])"
   ]
  },
  {
   "cell_type": "markdown",
   "metadata": {},
   "source": [
    "# Creating the Training Set and Test Set\n",
    "\n",
    "To evaluate the effectiveness of our classifier, we now split `scaled_data` and `labels` into a training set and test set using scikit-learn's `train_test_split` function. This function takes two required parameters: It takes the data, followed by the labels. Set the optional parameter `test_size` to be `0.2`. You can also set the `random_state` parameter so your code will randomly split the data in the same way as our solution code splits the data. We used `random_state = 1`. Remember, this function returns 4 items in this order:\n",
    "\n",
    "1. The training data\n",
    "2. The testing data\n",
    "3. The training labels\n",
    "4. The testing labels\n",
    "\n",
    "Store the results in variables named `train_data`, `test_data`, `train_labels`, and `test_labels`."
   ]
  },
  {
   "cell_type": "code",
   "execution_count": 5,
   "metadata": {},
   "outputs": [],
   "source": [
    "from sklearn.model_selection import train_test_split\n",
    "\n",
    "train_data, test_data, train_labels, test_labels = train_test_split(\n",
    "    scaled_data,\n",
    "    labels,\n",
    "    test_size = 0.2,\n",
    "    random_state = 1\n",
    ")"
   ]
  },
  {
   "cell_type": "markdown",
   "metadata": {},
   "source": [
    "# Using the Classifier\n",
    "\n",
    "We can finally use the K-Nearest Neighbor classifier. Let's test it using `k = 5`. Begin by creating a `KNeighborsClassifier` object named `classifier` with the parameter `n_neighbors` equal to `5`.\n",
    "\n",
    "Next, train `classifier` by calling the `.fit()` method with `train_data` and `train_labels` as parameters.\n",
    "\n",
    "Finally, let's test the model! Call `classifier`'s `.score()` method using `test_data` and `test_labels` as parameters. Print the results.\n"
   ]
  },
  {
   "cell_type": "code",
   "execution_count": 6,
   "metadata": {},
   "outputs": [
    {
     "name": "stdout",
     "output_type": "stream",
     "text": [
      "0.7207207207207207\n"
     ]
    }
   ],
   "source": [
    "from sklearn.neighbors import KNeighborsClassifier\n",
    "\n",
    "classifier = KNeighborsClassifier(n_neighbors = 5)\n",
    "classifier.fit(train_data, train_labels)\n",
    "\n",
    "print(classifier.score(test_data, test_labels))"
   ]
  },
  {
   "cell_type": "markdown",
   "metadata": {},
   "source": [
    "# Choosing K\n",
    "\n",
    "We've tested our classifier with `k = 5`, but maybe there's a `k` that will work better. Let's test many different values for `k` and graph the results. \n",
    "\n",
    "First, create an empty list called `scores`. Next, create a for loop that has a variable `k` that begins at `1` and ends at `200`.\n",
    "\n",
    "Inside the for loop, create a `KNeighobrsClassifier` object named `classifier` with the parameter `n_neighbors` equal to `k`.\n",
    "\n",
    "Train `classifier` by calling the `.fit()` method with `train_data` and `train_labels` as parameters.\n",
    "\n",
    "Next, let's test the model! Call `classifier`'s `.score()` method using `test_data` and `test_labels` as parameters. `append` the result to `scores`.\n",
    "\n",
    "Finally, let's plot the results. Outside of the loop, use Matplotlib's `plot()` function. `plot()` takes two parameters &mdash; the data on the x-axis and the data on the y-axis. Data on the x-axis should be the values we used for `k`. In this case, `range(1,200)`.  Data on the y-axis should be `scores`. Make sure to call the `plt.show()` function after calling `plt.plot()`. This should take a couple of seconds to run!"
   ]
  },
  {
   "cell_type": "code",
   "execution_count": 7,
   "metadata": {},
   "outputs": [
    {
     "data": {
      "image/png": "[encoded data removed]",
      "text/plain": [
       "<Figure size 432x288 with 1 Axes>"
      ]
     },
     "metadata": {
      "needs_background": "light"
     },
     "output_type": "display_data"
    },
    {
     "name": "stdout",
     "output_type": "stream",
     "text": [
      "12 0.736936936936937\n"
     ]
    }
   ],
   "source": [
    "import matplotlib.pyplot as plt\n",
    "\n",
    "scores = []\n",
    "x = range(1, 201)\n",
    "for k in x:\n",
    "    classifier = KNeighborsClassifier(n_neighbors = k)\n",
    "    classifier.fit(train_data, train_labels)\n",
    "\n",
    "    scores.append(classifier.score(test_data, test_labels))\n",
    "\n",
    "plt.plot(\n",
    "    x,\n",
    "    scores\n",
    ")\n",
    "plt.show()\n",
    "best_score = max(scores)\n",
    "best_k = scores.index(best_score)\n",
    "print(best_k, best_score)"
   ]
  },
  {
   "cell_type": "markdown",
   "metadata": {},
   "source": [
    "# Explore on your own\n",
    "\n",
    "Nice work! You can see the classifier gets better as `k` increases, but as `k` gets too high, underfitting starts to happen.\n",
    "\n",
    "By using the features `tweet_length`, `followers_count`, and `friends_count`, we were able to get up to around 63% accuracy. That is better than random, but still not exceptional. Can you find some different features that perform better? Share your graphs with us on Twitter and maybe it will go viral!"
   ]
  },
  {
   "cell_type": "code",
   "execution_count": 8,
   "metadata": {},
   "outputs": [
    {
     "name": "stdout",
     "output_type": "stream",
     "text": [
      "255\n"
     ]
    }
   ],
   "source": [
    "from itertools import compress, product\n",
    "\n",
    "def combinations(items):\n",
    "    return np.array(\n",
    "        list(\n",
    "            set(compress(items, mask)) for mask in product([0,1], repeat=len(items)) \n",
    "        )\n",
    "    )[1:]\n",
    "\n",
    "all_combination = combinations([\n",
    "    \"tweet_length\",\n",
    "    \"followers_count\",\n",
    "    \"friends_count\",\n",
    "    \"hashtags_count\",\n",
    "    \"links_count\",\n",
    "    \"words_count\",\n",
    "    \"words_length\",\n",
    "    \"background\"\n",
    "])\n",
    "print(len(all_combination))"
   ]
  },
  {
   "cell_type": "code",
   "execution_count": 9,
   "metadata": {},
   "outputs": [
    {
     "name": "stdout",
     "output_type": "stream",
     "text": [
      "Better accuracy found: 0.48963963963963963\n",
      "k:  1\n",
      "features:  {'background'}\n",
      "Better accuracy found: 0.4972972972972973\n",
      "k:  2\n",
      "features:  {'background'}\n",
      "Better accuracy found: 0.5963963963963964\n",
      "k:  1\n",
      "features:  {'words_length'}\n",
      "Better accuracy found: 0.6153153153153154\n",
      "k:  2\n",
      "features:  {'words_length'}\n",
      "Better accuracy found: 0.6229729729729729\n",
      "k:  7\n",
      "features:  {'words_length'}\n",
      "Better accuracy found: 0.6270270270270271\n",
      "k:  9\n",
      "features:  {'words_length'}\n",
      "Better accuracy found: 0.6283783783783784\n",
      "k:  8\n",
      "features:  {'background', 'words_length'}\n",
      "Better accuracy found: 0.6292792792792793\n",
      "k:  9\n",
      "features:  {'background', 'words_length'}\n",
      "Better accuracy found: 0.6306306306306306\n",
      "k:  12\n",
      "features:  {'background', 'words_length'}\n",
      "Better accuracy found: 0.6360360360360361\n",
      "k:  13\n",
      "features:  {'background', 'words_length'}\n",
      "Better accuracy found: 0.6373873873873874\n",
      "k:  14\n",
      "features:  {'background', 'words_length'}\n",
      "Better accuracy found: 0.6463963963963963\n",
      "k:  6\n",
      "features:  {'words_count', 'words_length'}\n",
      "Better accuracy found: 0.6536036036036036\n",
      "k:  11\n",
      "features:  {'words_count', 'words_length'}\n",
      "Better accuracy found: 0.6554054054054054\n",
      "k:  12\n",
      "features:  {'words_count', 'words_length'}\n",
      "Better accuracy found: 0.659009009009009\n",
      "k:  3\n",
      "features:  {'words_length', 'links_count'}\n",
      "Better accuracy found: 0.7045045045045045\n",
      "k:  5\n",
      "features:  {'words_length', 'links_count'}\n",
      "Better accuracy found: 0.7063063063063063\n",
      "k:  7\n",
      "features:  {'words_length', 'links_count'}\n",
      "Better accuracy found: 0.7081081081081081\n",
      "k:  9\n",
      "features:  {'words_length', 'links_count'}\n",
      "Better accuracy found: 0.7094594594594594\n",
      "k:  12\n",
      "features:  {'words_length', 'links_count'}\n",
      "Better accuracy found: 0.7099099099099099\n",
      "k:  4\n",
      "features:  {'words_count', 'words_length', 'links_count'}\n",
      "Better accuracy found: 0.7153153153153153\n",
      "k:  5\n",
      "features:  {'words_count', 'words_length', 'links_count'}\n",
      "Better accuracy found: 0.7279279279279279\n",
      "k:  7\n",
      "features:  {'words_count', 'words_length', 'links_count'}\n",
      "Better accuracy found: 0.731081081081081\n",
      "k:  8\n",
      "features:  {'words_count', 'words_length', 'links_count'}\n",
      "Better accuracy found: 0.7324324324324324\n",
      "k:  11\n",
      "features:  {'words_count', 'words_length', 'links_count'}\n",
      "Better accuracy found: 0.7355855855855856\n",
      "k:  13\n",
      "features:  {'words_count', 'words_length', 'links_count'}\n",
      "Better accuracy found: 0.7378378378378379\n",
      "k:  17\n",
      "features:  {'words_count', 'hashtags_count', 'words_length', 'links_count'}\n",
      "Better accuracy found: 0.7396396396396396\n",
      "k:  21\n",
      "features:  {'words_count', 'tweet_length', 'links_count'}\n",
      "Better accuracy found: 0.740990990990991\n",
      "k:  23\n",
      "features:  {'words_count', 'tweet_length', 'links_count'}\n",
      "Better accuracy found: 0.7441441441441441\n",
      "k:  9\n",
      "features:  {'words_count', 'words_length', 'tweet_length', 'links_count'}\n",
      "Better accuracy found: 0.7454954954954955\n",
      "k:  10\n",
      "features:  {'words_length', 'links_count', 'followers_count', 'background', 'words_count', 'tweet_length'}\n"
     ]
    },
    {
     "data": {
      "image/png": "[encoded data removed]",
      "text/plain": [
       "<Figure size 432x288 with 1 Axes>"
      ]
     },
     "metadata": {
      "needs_background": "light"
     },
     "output_type": "display_data"
    },
    {
     "name": "stdout",
     "output_type": "stream",
     "text": [
      "9 0.7454954954954955\n"
     ]
    }
   ],
   "source": [
    "best = {\n",
    "    \"k\": 0,\n",
    "    \"accuracy\": 0,\n",
    "    \"features\": [],\n",
    "    \"scores\": []\n",
    "}\n",
    "\n",
    "for combination in all_combination:\n",
    "    data = all_tweets[combination]\n",
    "    scaled_data = scale(data)\n",
    "    \n",
    "    train_data, test_data, train_labels, test_labels = train_test_split(\n",
    "        scaled_data,\n",
    "        labels,\n",
    "        test_size = 0.2,\n",
    "        random_state = 1\n",
    "    )\n",
    "    \n",
    "    scores = []\n",
    "    save_scores = False\n",
    "    x = range(1, 30)\n",
    "    for k in x:\n",
    "        classifier = KNeighborsClassifier(n_neighbors = k)\n",
    "        classifier.fit(train_data, train_labels)\n",
    "        accuracy = classifier.score(test_data, test_labels)\n",
    "        scores.append(accuracy)\n",
    "        if accuracy > best[\"accuracy\"]:\n",
    "            save_scores = True\n",
    "            best[\"accuracy\"] = accuracy\n",
    "            best[\"k\"] = k\n",
    "            best[\"features\"] = combination\n",
    "            print(\"Better accuracy found:\", accuracy)\n",
    "            print(\"k: \", k)\n",
    "            print(\"features: \", combination)\n",
    "    \n",
    "    if save_scores:\n",
    "        best[\"scores\"] = list(scores)\n",
    "\n",
    "best[\"accuracy\"] = \"{:.2f}\".format(best[\"accuracy\"])\n",
    "\n",
    "plt.plot(\n",
    "    x,\n",
    "    best[\"scores\"],\n",
    "    label = f\"Best accuracy: {best['accuracy']}\"\n",
    ")\n",
    "plt.legend()\n",
    "plt.show()\n",
    "best_score = max(best[\"scores\"])\n",
    "best_k = best[\"scores\"].index(best_score)\n",
    "print(best_k, best_score)"
   ]
  },
  {
   "cell_type": "code",
   "execution_count": null,
   "metadata": {},
   "outputs": [],
   "source": []
  }
 ],
 "metadata": {
  "kernelspec": {
   "display_name": "Python 3",
   "language": "python",
   "name": "python3"
  },
  "language_info": {
   "codemirror_mode": {
    "name": "ipython",
    "version": 3
   },
   "file_extension": ".py",
   "mimetype": "text/x-python",
   "name": "python",
   "nbconvert_exporter": "python",
   "pygments_lexer": "ipython3",
   "version": "3.8.6"
  }
 },
 "nbformat": 4,
 "nbformat_minor": 2
}
