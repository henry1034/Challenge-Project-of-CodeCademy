{
  "nbformat": 4,
  "nbformat_minor": 0,
  "metadata": {
    "colab": {
      "name": "Deep_Learning_Regression_with_Admissions_Data.ipynb",
      "provenance": [],
      "collapsed_sections": []
    },
    "kernelspec": {
      "name": "python3",
      "display_name": "Python 3"
    }
  },
  "cells": [
    {
      "cell_type": "code",
      "metadata": {
        "id": "mk8ucZon3jSR"
      },
      "source": [
        "import pandas as pd\n",
        "import numpy as np\n",
        "import matplotlib.pyplot as plt\n",
        "\n",
        "import tensorflow as tf\n",
        "\n",
        "from sklearn.model_selection import train_test_split\n",
        "from sklearn.preprocessing import StandardScaler\n",
        "from sklearn.preprocessing import Normalizer\n",
        "from sklearn.compose import ColumnTransformer\n",
        "from sklearn.metrics import r2_score"
      ],
      "execution_count": 17,
      "outputs": []
    },
    {
      "cell_type": "markdown",
      "metadata": {
        "id": "v174lReW4Dcc"
      },
      "source": [
        "If you take a look at **admissions_data.csv**, you’ll see parameters that admissions officers commonly use to evaluate university applicants. This data is from [Kaggle](https://www.kaggle.com/mohansacharya/graduate-admissions?select=Admission_Predict_Ver1.1.csv) and provides information about 500 applications for various universities and what their chance of admittance is.\n",
        "\n",
        "This is a regression problem because the probability of being admitted is a continuous label between 0 and 1.\n",
        "\n",
        "Load the csv file into a DataFrame and investigate the rows and columns to get familiarity with the dataset."
      ]
    },
    {
      "cell_type": "code",
      "metadata": {
        "id": "FBE5S2Zc4P_E",
        "outputId": "431b8b7d-1482-4c24-d7ef-deaebd982d1d",
        "colab": {
          "base_uri": "https://localhost:8080/",
          "height": 204
        }
      },
      "source": [
        "url = \"https://raw.githubusercontent.com/lendoo73/Challenge-Project-of-CodeCademy/master/python/Build_Deep_Learning_Models_with_TensorFlow/Deep_Learning_Regression_with_Admissions_Data/admissions_data.csv\"\n",
        "df = pd.read_csv(url)\n",
        "df.head()"
      ],
      "execution_count": 18,
      "outputs": [
        {
          "output_type": "execute_result",
          "data": {
            "text/html": [
              "<div>\n",
              "<style scoped>\n",
              "    .dataframe tbody tr th:only-of-type {\n",
              "        vertical-align: middle;\n",
              "    }\n",
              "\n",
              "    .dataframe tbody tr th {\n",
              "        vertical-align: top;\n",
              "    }\n",
              "\n",
              "    .dataframe thead th {\n",
              "        text-align: right;\n",
              "    }\n",
              "</style>\n",
              "<table border=\"1\" class=\"dataframe\">\n",
              "  <thead>\n",
              "    <tr style=\"text-align: right;\">\n",
              "      <th></th>\n",
              "      <th>Serial No.</th>\n",
              "      <th>GRE Score</th>\n",
              "      <th>TOEFL Score</th>\n",
              "      <th>University Rating</th>\n",
              "      <th>SOP</th>\n",
              "      <th>LOR</th>\n",
              "      <th>CGPA</th>\n",
              "      <th>Research</th>\n",
              "      <th>Chance of Admit</th>\n",
              "    </tr>\n",
              "  </thead>\n",
              "  <tbody>\n",
              "    <tr>\n",
              "      <th>0</th>\n",
              "      <td>1</td>\n",
              "      <td>337</td>\n",
              "      <td>118</td>\n",
              "      <td>4</td>\n",
              "      <td>4.5</td>\n",
              "      <td>4.5</td>\n",
              "      <td>9.65</td>\n",
              "      <td>1</td>\n",
              "      <td>0.92</td>\n",
              "    </tr>\n",
              "    <tr>\n",
              "      <th>1</th>\n",
              "      <td>2</td>\n",
              "      <td>324</td>\n",
              "      <td>107</td>\n",
              "      <td>4</td>\n",
              "      <td>4.0</td>\n",
              "      <td>4.5</td>\n",
              "      <td>8.87</td>\n",
              "      <td>1</td>\n",
              "      <td>0.76</td>\n",
              "    </tr>\n",
              "    <tr>\n",
              "      <th>2</th>\n",
              "      <td>3</td>\n",
              "      <td>316</td>\n",
              "      <td>104</td>\n",
              "      <td>3</td>\n",
              "      <td>3.0</td>\n",
              "      <td>3.5</td>\n",
              "      <td>8.00</td>\n",
              "      <td>1</td>\n",
              "      <td>0.72</td>\n",
              "    </tr>\n",
              "    <tr>\n",
              "      <th>3</th>\n",
              "      <td>4</td>\n",
              "      <td>322</td>\n",
              "      <td>110</td>\n",
              "      <td>3</td>\n",
              "      <td>3.5</td>\n",
              "      <td>2.5</td>\n",
              "      <td>8.67</td>\n",
              "      <td>1</td>\n",
              "      <td>0.80</td>\n",
              "    </tr>\n",
              "    <tr>\n",
              "      <th>4</th>\n",
              "      <td>5</td>\n",
              "      <td>314</td>\n",
              "      <td>103</td>\n",
              "      <td>2</td>\n",
              "      <td>2.0</td>\n",
              "      <td>3.0</td>\n",
              "      <td>8.21</td>\n",
              "      <td>0</td>\n",
              "      <td>0.65</td>\n",
              "    </tr>\n",
              "  </tbody>\n",
              "</table>\n",
              "</div>"
            ],
            "text/plain": [
              "   Serial No.  GRE Score  TOEFL Score  ...  CGPA  Research  Chance of Admit \n",
              "0           1        337          118  ...  9.65         1              0.92\n",
              "1           2        324          107  ...  8.87         1              0.76\n",
              "2           3        316          104  ...  8.00         1              0.72\n",
              "3           4        322          110  ...  8.67         1              0.80\n",
              "4           5        314          103  ...  8.21         0              0.65\n",
              "\n",
              "[5 rows x 9 columns]"
            ]
          },
          "metadata": {
            "tags": []
          },
          "execution_count": 18
        }
      ]
    },
    {
      "cell_type": "code",
      "metadata": {
        "id": "1ffzgUHi5in5",
        "outputId": "029a4283-5495-4b4b-d6a3-25f0cf3116fb",
        "colab": {
          "base_uri": "https://localhost:8080/",
          "height": 297
        }
      },
      "source": [
        "df = df.drop(columns = [\"Serial No.\"])\n",
        "df.describe()"
      ],
      "execution_count": 19,
      "outputs": [
        {
          "output_type": "execute_result",
          "data": {
            "text/html": [
              "<div>\n",
              "<style scoped>\n",
              "    .dataframe tbody tr th:only-of-type {\n",
              "        vertical-align: middle;\n",
              "    }\n",
              "\n",
              "    .dataframe tbody tr th {\n",
              "        vertical-align: top;\n",
              "    }\n",
              "\n",
              "    .dataframe thead th {\n",
              "        text-align: right;\n",
              "    }\n",
              "</style>\n",
              "<table border=\"1\" class=\"dataframe\">\n",
              "  <thead>\n",
              "    <tr style=\"text-align: right;\">\n",
              "      <th></th>\n",
              "      <th>GRE Score</th>\n",
              "      <th>TOEFL Score</th>\n",
              "      <th>University Rating</th>\n",
              "      <th>SOP</th>\n",
              "      <th>LOR</th>\n",
              "      <th>CGPA</th>\n",
              "      <th>Research</th>\n",
              "      <th>Chance of Admit</th>\n",
              "    </tr>\n",
              "  </thead>\n",
              "  <tbody>\n",
              "    <tr>\n",
              "      <th>count</th>\n",
              "      <td>500.000000</td>\n",
              "      <td>500.000000</td>\n",
              "      <td>500.000000</td>\n",
              "      <td>500.000000</td>\n",
              "      <td>500.00000</td>\n",
              "      <td>500.000000</td>\n",
              "      <td>500.000000</td>\n",
              "      <td>500.00000</td>\n",
              "    </tr>\n",
              "    <tr>\n",
              "      <th>mean</th>\n",
              "      <td>316.472000</td>\n",
              "      <td>107.192000</td>\n",
              "      <td>3.114000</td>\n",
              "      <td>3.374000</td>\n",
              "      <td>3.48400</td>\n",
              "      <td>8.576440</td>\n",
              "      <td>0.560000</td>\n",
              "      <td>0.72174</td>\n",
              "    </tr>\n",
              "    <tr>\n",
              "      <th>std</th>\n",
              "      <td>11.295148</td>\n",
              "      <td>6.081868</td>\n",
              "      <td>1.143512</td>\n",
              "      <td>0.991004</td>\n",
              "      <td>0.92545</td>\n",
              "      <td>0.604813</td>\n",
              "      <td>0.496884</td>\n",
              "      <td>0.14114</td>\n",
              "    </tr>\n",
              "    <tr>\n",
              "      <th>min</th>\n",
              "      <td>290.000000</td>\n",
              "      <td>92.000000</td>\n",
              "      <td>1.000000</td>\n",
              "      <td>1.000000</td>\n",
              "      <td>1.00000</td>\n",
              "      <td>6.800000</td>\n",
              "      <td>0.000000</td>\n",
              "      <td>0.34000</td>\n",
              "    </tr>\n",
              "    <tr>\n",
              "      <th>25%</th>\n",
              "      <td>308.000000</td>\n",
              "      <td>103.000000</td>\n",
              "      <td>2.000000</td>\n",
              "      <td>2.500000</td>\n",
              "      <td>3.00000</td>\n",
              "      <td>8.127500</td>\n",
              "      <td>0.000000</td>\n",
              "      <td>0.63000</td>\n",
              "    </tr>\n",
              "    <tr>\n",
              "      <th>50%</th>\n",
              "      <td>317.000000</td>\n",
              "      <td>107.000000</td>\n",
              "      <td>3.000000</td>\n",
              "      <td>3.500000</td>\n",
              "      <td>3.50000</td>\n",
              "      <td>8.560000</td>\n",
              "      <td>1.000000</td>\n",
              "      <td>0.72000</td>\n",
              "    </tr>\n",
              "    <tr>\n",
              "      <th>75%</th>\n",
              "      <td>325.000000</td>\n",
              "      <td>112.000000</td>\n",
              "      <td>4.000000</td>\n",
              "      <td>4.000000</td>\n",
              "      <td>4.00000</td>\n",
              "      <td>9.040000</td>\n",
              "      <td>1.000000</td>\n",
              "      <td>0.82000</td>\n",
              "    </tr>\n",
              "    <tr>\n",
              "      <th>max</th>\n",
              "      <td>340.000000</td>\n",
              "      <td>120.000000</td>\n",
              "      <td>5.000000</td>\n",
              "      <td>5.000000</td>\n",
              "      <td>5.00000</td>\n",
              "      <td>9.920000</td>\n",
              "      <td>1.000000</td>\n",
              "      <td>0.97000</td>\n",
              "    </tr>\n",
              "  </tbody>\n",
              "</table>\n",
              "</div>"
            ],
            "text/plain": [
              "        GRE Score  TOEFL Score  ...    Research  Chance of Admit \n",
              "count  500.000000   500.000000  ...  500.000000         500.00000\n",
              "mean   316.472000   107.192000  ...    0.560000           0.72174\n",
              "std     11.295148     6.081868  ...    0.496884           0.14114\n",
              "min    290.000000    92.000000  ...    0.000000           0.34000\n",
              "25%    308.000000   103.000000  ...    0.000000           0.63000\n",
              "50%    317.000000   107.000000  ...    1.000000           0.72000\n",
              "75%    325.000000   112.000000  ...    1.000000           0.82000\n",
              "max    340.000000   120.000000  ...    1.000000           0.97000\n",
              "\n",
              "[8 rows x 8 columns]"
            ]
          },
          "metadata": {
            "tags": []
          },
          "execution_count": 19
        }
      ]
    },
    {
      "cell_type": "markdown",
      "metadata": {
        "id": "5w6Akwkp6IEg"
      },
      "source": [
        "Split it up the data into `feature` parameters and the `labels`.\n",
        "\n",
        "You are creating a model that predicts an applicant’s likelihood of being admitted to a master’s program, so take some time to look at the features of your model and which column you are trying to predict. Also consider if there are any dataset features that should not be included as a predictor.\n",
        "\n",
        "Make sure all of your variables are numerical.\n",
        "\n",
        "If there are any categorical variables, be sure to map them to numerical values, using techniques such as one-hot-encoding, so they can be used in a regression analysis."
      ]
    },
    {
      "cell_type": "code",
      "metadata": {
        "id": "d-XGviYv6Q4T",
        "outputId": "db6f1cad-aeae-45b7-bca1-dbea85b1aa9b",
        "colab": {
          "base_uri": "https://localhost:8080/"
        }
      },
      "source": [
        "labels = df.iloc[:, -1]\n",
        "labels"
      ],
      "execution_count": 20,
      "outputs": [
        {
          "output_type": "execute_result",
          "data": {
            "text/plain": [
              "0      0.92\n",
              "1      0.76\n",
              "2      0.72\n",
              "3      0.80\n",
              "4      0.65\n",
              "       ... \n",
              "495    0.87\n",
              "496    0.96\n",
              "497    0.93\n",
              "498    0.73\n",
              "499    0.84\n",
              "Name: Chance of Admit , Length: 500, dtype: float64"
            ]
          },
          "metadata": {
            "tags": []
          },
          "execution_count": 20
        }
      ]
    },
    {
      "cell_type": "code",
      "metadata": {
        "id": "8cNw71ig6z_Q",
        "outputId": "657f9cef-a895-4c3f-92a2-1dedcf2335f2",
        "colab": {
          "base_uri": "https://localhost:8080/",
          "height": 419
        }
      },
      "source": [
        "feature = df.iloc[:, : -1]\n",
        "feature"
      ],
      "execution_count": 21,
      "outputs": [
        {
          "output_type": "execute_result",
          "data": {
            "text/html": [
              "<div>\n",
              "<style scoped>\n",
              "    .dataframe tbody tr th:only-of-type {\n",
              "        vertical-align: middle;\n",
              "    }\n",
              "\n",
              "    .dataframe tbody tr th {\n",
              "        vertical-align: top;\n",
              "    }\n",
              "\n",
              "    .dataframe thead th {\n",
              "        text-align: right;\n",
              "    }\n",
              "</style>\n",
              "<table border=\"1\" class=\"dataframe\">\n",
              "  <thead>\n",
              "    <tr style=\"text-align: right;\">\n",
              "      <th></th>\n",
              "      <th>GRE Score</th>\n",
              "      <th>TOEFL Score</th>\n",
              "      <th>University Rating</th>\n",
              "      <th>SOP</th>\n",
              "      <th>LOR</th>\n",
              "      <th>CGPA</th>\n",
              "      <th>Research</th>\n",
              "    </tr>\n",
              "  </thead>\n",
              "  <tbody>\n",
              "    <tr>\n",
              "      <th>0</th>\n",
              "      <td>337</td>\n",
              "      <td>118</td>\n",
              "      <td>4</td>\n",
              "      <td>4.5</td>\n",
              "      <td>4.5</td>\n",
              "      <td>9.65</td>\n",
              "      <td>1</td>\n",
              "    </tr>\n",
              "    <tr>\n",
              "      <th>1</th>\n",
              "      <td>324</td>\n",
              "      <td>107</td>\n",
              "      <td>4</td>\n",
              "      <td>4.0</td>\n",
              "      <td>4.5</td>\n",
              "      <td>8.87</td>\n",
              "      <td>1</td>\n",
              "    </tr>\n",
              "    <tr>\n",
              "      <th>2</th>\n",
              "      <td>316</td>\n",
              "      <td>104</td>\n",
              "      <td>3</td>\n",
              "      <td>3.0</td>\n",
              "      <td>3.5</td>\n",
              "      <td>8.00</td>\n",
              "      <td>1</td>\n",
              "    </tr>\n",
              "    <tr>\n",
              "      <th>3</th>\n",
              "      <td>322</td>\n",
              "      <td>110</td>\n",
              "      <td>3</td>\n",
              "      <td>3.5</td>\n",
              "      <td>2.5</td>\n",
              "      <td>8.67</td>\n",
              "      <td>1</td>\n",
              "    </tr>\n",
              "    <tr>\n",
              "      <th>4</th>\n",
              "      <td>314</td>\n",
              "      <td>103</td>\n",
              "      <td>2</td>\n",
              "      <td>2.0</td>\n",
              "      <td>3.0</td>\n",
              "      <td>8.21</td>\n",
              "      <td>0</td>\n",
              "    </tr>\n",
              "    <tr>\n",
              "      <th>...</th>\n",
              "      <td>...</td>\n",
              "      <td>...</td>\n",
              "      <td>...</td>\n",
              "      <td>...</td>\n",
              "      <td>...</td>\n",
              "      <td>...</td>\n",
              "      <td>...</td>\n",
              "    </tr>\n",
              "    <tr>\n",
              "      <th>495</th>\n",
              "      <td>332</td>\n",
              "      <td>108</td>\n",
              "      <td>5</td>\n",
              "      <td>4.5</td>\n",
              "      <td>4.0</td>\n",
              "      <td>9.02</td>\n",
              "      <td>1</td>\n",
              "    </tr>\n",
              "    <tr>\n",
              "      <th>496</th>\n",
              "      <td>337</td>\n",
              "      <td>117</td>\n",
              "      <td>5</td>\n",
              "      <td>5.0</td>\n",
              "      <td>5.0</td>\n",
              "      <td>9.87</td>\n",
              "      <td>1</td>\n",
              "    </tr>\n",
              "    <tr>\n",
              "      <th>497</th>\n",
              "      <td>330</td>\n",
              "      <td>120</td>\n",
              "      <td>5</td>\n",
              "      <td>4.5</td>\n",
              "      <td>5.0</td>\n",
              "      <td>9.56</td>\n",
              "      <td>1</td>\n",
              "    </tr>\n",
              "    <tr>\n",
              "      <th>498</th>\n",
              "      <td>312</td>\n",
              "      <td>103</td>\n",
              "      <td>4</td>\n",
              "      <td>4.0</td>\n",
              "      <td>5.0</td>\n",
              "      <td>8.43</td>\n",
              "      <td>0</td>\n",
              "    </tr>\n",
              "    <tr>\n",
              "      <th>499</th>\n",
              "      <td>327</td>\n",
              "      <td>113</td>\n",
              "      <td>4</td>\n",
              "      <td>4.5</td>\n",
              "      <td>4.5</td>\n",
              "      <td>9.04</td>\n",
              "      <td>0</td>\n",
              "    </tr>\n",
              "  </tbody>\n",
              "</table>\n",
              "<p>500 rows × 7 columns</p>\n",
              "</div>"
            ],
            "text/plain": [
              "     GRE Score  TOEFL Score  University Rating  SOP  LOR   CGPA  Research\n",
              "0          337          118                  4  4.5   4.5  9.65         1\n",
              "1          324          107                  4  4.0   4.5  8.87         1\n",
              "2          316          104                  3  3.0   3.5  8.00         1\n",
              "3          322          110                  3  3.5   2.5  8.67         1\n",
              "4          314          103                  2  2.0   3.0  8.21         0\n",
              "..         ...          ...                ...  ...   ...   ...       ...\n",
              "495        332          108                  5  4.5   4.0  9.02         1\n",
              "496        337          117                  5  5.0   5.0  9.87         1\n",
              "497        330          120                  5  4.5   5.0  9.56         1\n",
              "498        312          103                  4  4.0   5.0  8.43         0\n",
              "499        327          113                  4  4.5   4.5  9.04         0\n",
              "\n",
              "[500 rows x 7 columns]"
            ]
          },
          "metadata": {
            "tags": []
          },
          "execution_count": 21
        }
      ]
    },
    {
      "cell_type": "code",
      "metadata": {
        "id": "3TZt_8DY9sGR"
      },
      "source": [
        "# there are no categorical variables in this dataset, so do not have to perform one-hot encoding. "
      ],
      "execution_count": 22,
      "outputs": []
    },
    {
      "cell_type": "markdown",
      "metadata": {
        "id": "m7Ht7Km698Rd"
      },
      "source": [
        "\n",
        "Since you are creating a learning model, you must have a training set and a test set. Remember that this allows you to measure the effectiveness of your model.\n",
        "\n",
        "You have created two DataFrames: one for `features` DataFrame and one for `labels`. Now, you must split each of these into a training set and a test set."
      ]
    },
    {
      "cell_type": "code",
      "metadata": {
        "id": "MXvVlJQ799Ak"
      },
      "source": [
        "features_train, features_test, labels_train, labels_test = train_test_split(\n",
        "    feature, \n",
        "    labels, \n",
        "    test_size = 0.33,\n",
        "    random_state = 42\n",
        ")"
      ],
      "execution_count": 23,
      "outputs": []
    },
    {
      "cell_type": "markdown",
      "metadata": {
        "id": "u24OFageVzb5"
      },
      "source": [
        "\n",
        "If you look through the admissions_data.csv, you may notice that there are many different scales being used. For example, the GRE Score is out of 340 while the University Rating is out of 5. Can you imagine why this might be a problem when using a regression learning model?\n",
        "\n",
        "You should either scale or normalize your data so that all columns/features have equal weight in the learning model."
      ]
    },
    {
      "cell_type": "code",
      "metadata": {
        "id": "ZzyilB9E1Su2"
      },
      "source": [
        "numerical_features = feature.select_dtypes(\n",
        "    include = ['float64', 'int64']\n",
        ")\n",
        "numerical_columns = numerical_features.columns\n",
        "\n",
        "ct = ColumnTransformer(\n",
        "    [(\n",
        "        \"only numeric\", \n",
        "        StandardScaler(), \n",
        "        numerical_columns \n",
        "    )], \n",
        "    remainder = \"passthrough\"\n",
        ")\n",
        "\n",
        "features_train_scaled = ct.fit_transform(features_train)\n",
        "features_test_scaled = ct.transform(features_test)"
      ],
      "execution_count": 24,
      "outputs": []
    },
    {
      "cell_type": "code",
      "metadata": {
        "id": "kMcy89h_KDcn",
        "outputId": "68a75931-dab2-43e2-ceb9-f52531a3de4d",
        "colab": {
          "base_uri": "https://localhost:8080/",
          "height": 419
        }
      },
      "source": [
        "features_train_norm = pd.DataFrame(\n",
        "  features_train_scaled, \n",
        "  columns = features_train.columns\n",
        ")\n",
        "features_train_norm"
      ],
      "execution_count": 25,
      "outputs": [
        {
          "output_type": "execute_result",
          "data": {
            "text/html": [
              "<div>\n",
              "<style scoped>\n",
              "    .dataframe tbody tr th:only-of-type {\n",
              "        vertical-align: middle;\n",
              "    }\n",
              "\n",
              "    .dataframe tbody tr th {\n",
              "        vertical-align: top;\n",
              "    }\n",
              "\n",
              "    .dataframe thead th {\n",
              "        text-align: right;\n",
              "    }\n",
              "</style>\n",
              "<table border=\"1\" class=\"dataframe\">\n",
              "  <thead>\n",
              "    <tr style=\"text-align: right;\">\n",
              "      <th></th>\n",
              "      <th>GRE Score</th>\n",
              "      <th>TOEFL Score</th>\n",
              "      <th>University Rating</th>\n",
              "      <th>SOP</th>\n",
              "      <th>LOR</th>\n",
              "      <th>CGPA</th>\n",
              "      <th>Research</th>\n",
              "    </tr>\n",
              "  </thead>\n",
              "  <tbody>\n",
              "    <tr>\n",
              "      <th>0</th>\n",
              "      <td>-0.525175</td>\n",
              "      <td>-0.706986</td>\n",
              "      <td>-0.082885</td>\n",
              "      <td>-1.385311</td>\n",
              "      <td>0.538819</td>\n",
              "      <td>-0.835766</td>\n",
              "      <td>-1.144703</td>\n",
              "    </tr>\n",
              "    <tr>\n",
              "      <th>1</th>\n",
              "      <td>0.477036</td>\n",
              "      <td>0.276434</td>\n",
              "      <td>1.652517</td>\n",
              "      <td>1.123225</td>\n",
              "      <td>-0.001613</td>\n",
              "      <td>0.363045</td>\n",
              "      <td>-1.144703</td>\n",
              "    </tr>\n",
              "    <tr>\n",
              "      <th>2</th>\n",
              "      <td>-0.798505</td>\n",
              "      <td>-1.034792</td>\n",
              "      <td>-0.950586</td>\n",
              "      <td>-0.381897</td>\n",
              "      <td>0.538819</td>\n",
              "      <td>-1.156574</td>\n",
              "      <td>-1.144703</td>\n",
              "    </tr>\n",
              "    <tr>\n",
              "      <th>3</th>\n",
              "      <td>0.203706</td>\n",
              "      <td>-0.706986</td>\n",
              "      <td>-0.082885</td>\n",
              "      <td>-0.883604</td>\n",
              "      <td>0.538819</td>\n",
              "      <td>0.295507</td>\n",
              "      <td>0.873589</td>\n",
              "    </tr>\n",
              "    <tr>\n",
              "      <th>4</th>\n",
              "      <td>1.297027</td>\n",
              "      <td>1.423757</td>\n",
              "      <td>1.652517</td>\n",
              "      <td>1.624933</td>\n",
              "      <td>1.619684</td>\n",
              "      <td>1.342356</td>\n",
              "      <td>0.873589</td>\n",
              "    </tr>\n",
              "    <tr>\n",
              "      <th>...</th>\n",
              "      <td>...</td>\n",
              "      <td>...</td>\n",
              "      <td>...</td>\n",
              "      <td>...</td>\n",
              "      <td>...</td>\n",
              "      <td>...</td>\n",
              "      <td>...</td>\n",
              "    </tr>\n",
              "    <tr>\n",
              "      <th>330</th>\n",
              "      <td>1.114806</td>\n",
              "      <td>0.604240</td>\n",
              "      <td>0.784816</td>\n",
              "      <td>1.123225</td>\n",
              "      <td>1.079251</td>\n",
              "      <td>1.004663</td>\n",
              "      <td>0.873589</td>\n",
              "    </tr>\n",
              "    <tr>\n",
              "      <th>331</th>\n",
              "      <td>-0.980725</td>\n",
              "      <td>-0.379179</td>\n",
              "      <td>-0.950586</td>\n",
              "      <td>-0.883604</td>\n",
              "      <td>-0.542045</td>\n",
              "      <td>-0.616265</td>\n",
              "      <td>0.873589</td>\n",
              "    </tr>\n",
              "    <tr>\n",
              "      <th>332</th>\n",
              "      <td>-1.345165</td>\n",
              "      <td>-1.362599</td>\n",
              "      <td>-1.818287</td>\n",
              "      <td>-1.385311</td>\n",
              "      <td>-1.622910</td>\n",
              "      <td>-2.254077</td>\n",
              "      <td>-1.144703</td>\n",
              "    </tr>\n",
              "    <tr>\n",
              "      <th>333</th>\n",
              "      <td>-0.707395</td>\n",
              "      <td>-0.379179</td>\n",
              "      <td>-0.950586</td>\n",
              "      <td>-0.883604</td>\n",
              "      <td>0.538819</td>\n",
              "      <td>-1.528037</td>\n",
              "      <td>-1.144703</td>\n",
              "    </tr>\n",
              "    <tr>\n",
              "      <th>334</th>\n",
              "      <td>-0.251845</td>\n",
              "      <td>-0.215276</td>\n",
              "      <td>-0.950586</td>\n",
              "      <td>0.621518</td>\n",
              "      <td>-0.001613</td>\n",
              "      <td>-0.565611</td>\n",
              "      <td>-1.144703</td>\n",
              "    </tr>\n",
              "  </tbody>\n",
              "</table>\n",
              "<p>335 rows × 7 columns</p>\n",
              "</div>"
            ],
            "text/plain": [
              "     GRE Score  TOEFL Score  University Rating  ...      LOR       CGPA  Research\n",
              "0    -0.525175    -0.706986          -0.082885  ...  0.538819 -0.835766 -1.144703\n",
              "1     0.477036     0.276434           1.652517  ... -0.001613  0.363045 -1.144703\n",
              "2    -0.798505    -1.034792          -0.950586  ...  0.538819 -1.156574 -1.144703\n",
              "3     0.203706    -0.706986          -0.082885  ...  0.538819  0.295507  0.873589\n",
              "4     1.297027     1.423757           1.652517  ...  1.619684  1.342356  0.873589\n",
              "..         ...          ...                ...  ...       ...       ...       ...\n",
              "330   1.114806     0.604240           0.784816  ...  1.079251  1.004663  0.873589\n",
              "331  -0.980725    -0.379179          -0.950586  ... -0.542045 -0.616265  0.873589\n",
              "332  -1.345165    -1.362599          -1.818287  ... -1.622910 -2.254077 -1.144703\n",
              "333  -0.707395    -0.379179          -0.950586  ...  0.538819 -1.528037 -1.144703\n",
              "334  -0.251845    -0.215276          -0.950586  ... -0.001613 -0.565611 -1.144703\n",
              "\n",
              "[335 rows x 7 columns]"
            ]
          },
          "metadata": {
            "tags": []
          },
          "execution_count": 25
        }
      ]
    },
    {
      "cell_type": "markdown",
      "metadata": {
        "id": "EHAdgdClLCwm"
      },
      "source": [
        "Create a neural network model to perform a regression analysis on the admission data.\n",
        "\n",
        "When designing your own neural network model, consider the following:\n",
        "\n",
        "* The shape of your input\n",
        "* Adding hidden layers as well as how many neurons they have\n",
        "* Including activation functions\n",
        "* The type of loss function and metrics you use\n",
        "* The type of gradient descent optimizer you use\n",
        "* Your learning rate"
      ]
    },
    {
      "cell_type": "code",
      "metadata": {
        "id": "HzPbV6SCLNQi"
      },
      "source": [
        "def design_model(X, learning_rate):\n",
        "    layers = tf.keras.layers\n",
        "    Dense = tf.keras.layers.Dense\n",
        "\n",
        "    model = tf.keras.models.Sequential()\n",
        "    input = layers.InputLayer(input_shape = (X.shape[1], ))\n",
        "    model.add(input)\n",
        "    \n",
        "    model.add(\n",
        "        Dense(\n",
        "            7, \n",
        "            activation = \"relu\" \n",
        "        )\n",
        "    )\n",
        "\n",
        "    model.add(Dense(1))\n",
        "    #print(model.summary())\n",
        "\n",
        "    opt = tf.keras.optimizers.Adam(learning_rate = learning_rate)\n",
        "    model.compile(\n",
        "        loss = \"mse\",  \n",
        "        metrics = [\"mae\"], \n",
        "        optimizer = opt\n",
        "    )\n",
        "\n",
        "    return model\n",
        "\n",
        "def fit_model(features_train, labels_train, learning_rate, num_epochs):\n",
        "    model = design_model(features_train, learning_rate)\n",
        "    stop = tf.keras.callbacks.EarlyStopping(\n",
        "        monitor = \"val_loss\", \n",
        "        mode = \"min\",\n",
        "        verbose = 1, \n",
        "        patience = 40 \n",
        "    )\n",
        "    history = model.fit(\n",
        "        features_train,\n",
        "        labels_train,\n",
        "        epochs = num_epochs,\n",
        "        batch_size = 16,\n",
        "        verbose = 0,\n",
        "        validation_split = 0.2,        #  20% of the data would be allocated for validation\n",
        "        callbacks = [stop]\n",
        "    )\n",
        "    return history"
      ],
      "execution_count": 45,
      "outputs": []
    },
    {
      "cell_type": "markdown",
      "metadata": {
        "id": "79j_yEhXSiyg"
      },
      "source": [
        "It’s time to test out the model you created!\n",
        "\n",
        "Fit your model with your training set and test it out with your test set.\n",
        "\n",
        "It’s okay if it is not that accurate right now. You can play around with your model and tweak it to increase its accuracy."
      ]
    },
    {
      "cell_type": "code",
      "metadata": {
        "id": "zbOwjH4PSnlu",
        "outputId": "04361528-81d7-4eb2-edd2-0b6d73c7fa7b",
        "colab": {
          "base_uri": "https://localhost:8080/"
        }
      },
      "source": [
        "learning_rate = 0.01\n",
        "num_epochs = 1000\n",
        "history = fit_model(features_train_scaled, labels_train, learning_rate, num_epochs)\n",
        "for property, value in vars(history).items():\n",
        "    print(property, \":\", value)"
      ],
      "execution_count": 63,
      "outputs": [
        {
          "output_type": "stream",
          "text": [
            "Epoch 00253: early stopping\n",
            "validation_data : None\n",
            "model : <tensorflow.python.keras.engine.sequential.Sequential object at 0x7f9d17d95e10>\n",
            "_chief_worker_only : None\n",
            "_supports_tf_logs : False\n",
            "history : {'loss': [0.22070859372615814, 0.06738543510437012, 0.030697882175445557, 0.01979486458003521, 0.01303684338927269, 0.010176543146371841, 0.00837594922631979, 0.0076821171678602695, 0.00666673993691802, 0.0063664549961686134, 0.005986430682241917, 0.005773897748440504, 0.0054353829473257065, 0.00509287603199482, 0.005038262344896793, 0.005047766957432032, 0.0052697607316076756, 0.005409162491559982, 0.005265357438474894, 0.005048125516623259, 0.004421081859618425, 0.0045631760731339455, 0.004227534867823124, 0.004132804460823536, 0.004522587172687054, 0.004465049132704735, 0.004172694403678179, 0.00443879934027791, 0.004186505917459726, 0.004292681813240051, 0.004192991182208061, 0.0039016781374812126, 0.0039526596665382385, 0.003988597076386213, 0.004324079491198063, 0.003901637392118573, 0.003930236212909222, 0.0036907263565808535, 0.003908855374902487, 0.003996772691607475, 0.003977063111960888, 0.003845957340672612, 0.0038368799723684788, 0.0037241517566144466, 0.0036937138065695763, 0.003832639195024967, 0.003753565950319171, 0.00368576985783875, 0.0038076527416706085, 0.003731470089405775, 0.0036381676327437162, 0.004103591199964285, 0.0042281257919967175, 0.00410386873409152, 0.004279576241970062, 0.0038157026283442974, 0.003759629325941205, 0.0036937675904482603, 0.003853381611406803, 0.004004747606813908, 0.003914715722203255, 0.0038003374356776476, 0.003952659200876951, 0.004117267671972513, 0.0039575169794261456, 0.004714298527687788, 0.003834190545603633, 0.0035600822884589434, 0.003518499433994293, 0.0035788118839263916, 0.0038372953422367573, 0.0035159094259142876, 0.00418062973767519, 0.004264548420906067, 0.0037562474608421326, 0.003450321266427636, 0.0036498033441603184, 0.0034064194187521935, 0.0036613664124161005, 0.0035334923304617405, 0.0037215871270745993, 0.003552027978003025, 0.003632251638919115, 0.0038443964440375566, 0.0038231078069657087, 0.003547017928212881, 0.0035678737331181765, 0.003496903460472822, 0.003641613759100437, 0.0034648547880351543, 0.0037109339609742165, 0.0037122585345059633, 0.0035178514663130045, 0.0035316296853125095, 0.0036819004453718662, 0.003729927120730281, 0.0035718169528990984, 0.0032780629117041826, 0.0035523190163075924, 0.003556611016392708, 0.003810018766671419, 0.0037677986547350883, 0.0034552172292023897, 0.003649567486718297, 0.003396520158275962, 0.0034136446192860603, 0.003407664829865098, 0.0036339520011097193, 0.0035298143047839403, 0.0036432859487831593, 0.0034703193232417107, 0.00347614916972816, 0.0032765637151896954, 0.003366641467437148, 0.0037472310941666365, 0.003878244198858738, 0.0035178407561033964, 0.0034629330039024353, 0.0033830818720161915, 0.003389440942555666, 0.0034436602145433426, 0.0035884107928723097, 0.003344674129039049, 0.0034657632932066917, 0.0033753537572920322, 0.003364943666383624, 0.003467187052592635, 0.003329051425680518, 0.0033425409346818924, 0.0034995386376976967, 0.003436538390815258, 0.003498218022286892, 0.0032770426478236914, 0.0033626409713178873, 0.003523838007822633, 0.0033021396957337856, 0.0032735492568463087, 0.0034032538533210754, 0.0031921183690428734, 0.003474838100373745, 0.003686846699565649, 0.00319291977211833, 0.0032898811623454094, 0.003259464167058468, 0.0035022690426558256, 0.0032795420847833157, 0.0032585831359028816, 0.003300824435427785, 0.003157943719998002, 0.0033063278533518314, 0.0034169931896030903, 0.003316508838906884, 0.0035185376182198524, 0.0035871160216629505, 0.0031503618229180574, 0.0035954155027866364, 0.00346220750361681, 0.003383115166798234, 0.0038698140997439623, 0.003494388423860073, 0.0033622663468122482, 0.0032926888670772314, 0.0031755492091178894, 0.003178322920575738, 0.003485101042315364, 0.0036196387372910976, 0.00364392576739192, 0.003596664872020483, 0.003321606433019042, 0.0033101520966738462, 0.0032108372543007135, 0.0035448733251541853, 0.003605104284361005, 0.003821877297013998, 0.0036458796821534634, 0.003817460499703884, 0.004005588125437498, 0.0034227725118398666, 0.003333181142807007, 0.003358104033395648, 0.0032991431653499603, 0.0033106699120253325, 0.0034624943509697914, 0.0036930344067513943, 0.0036542818415910006, 0.0034229918383061886, 0.0035057165659964085, 0.0036865216679871082, 0.003223589388653636, 0.003233917523175478, 0.0032390232663601637, 0.0034079409670084715, 0.003486717352643609, 0.0034371311776340008, 0.003380291163921356, 0.0032530820462852716, 0.003280322765931487, 0.0035311582032591105, 0.0035770356189459562, 0.00334568927064538, 0.003580370917916298, 0.0034656664356589317, 0.0040622735396027565, 0.0034242740366607904, 0.0034829883370548487, 0.003775415476411581, 0.003824233543127775, 0.003552134381607175, 0.004702778998762369, 0.004168371669948101, 0.004175439476966858, 0.004130203276872635, 0.0037340184208005667, 0.003608718980103731, 0.0032313151750713587, 0.003249007510021329, 0.003501018974930048, 0.003411393379792571, 0.0032715871930122375, 0.003484155284240842, 0.0033798953518271446, 0.0036273160949349403, 0.0031903511844575405, 0.0033027883619070053, 0.0034173165913671255, 0.003200661623850465, 0.003570164553821087, 0.0033008060418069363, 0.0035312555264681578, 0.0036912017967551947, 0.0035245907492935658, 0.0034679495729506016, 0.00356404110789299, 0.003750475589185953, 0.0034006289206445217, 0.003559398464858532, 0.0032580201514065266, 0.003413156606256962, 0.0034478127490729094, 0.0034319518599659204, 0.003511546878144145, 0.003440944477915764, 0.003554327180609107, 0.003930111415684223, 0.003940177150070667, 0.003944255877286196, 0.003318976843729615, 0.0033007869496941566, 0.003273662645369768, 0.0033548991195857525, 0.0033920984715223312, 0.0033828921150416136, 0.0033328987192362547], 'mae': [0.3578919470310211, 0.20755815505981445, 0.1395256668329239, 0.11262234300374985, 0.09246692806482315, 0.08002982288599014, 0.07263588905334473, 0.06965791434049606, 0.0638580471277237, 0.06351912766695023, 0.05999458208680153, 0.058465130627155304, 0.05682647228240967, 0.05544152855873108, 0.05460542440414429, 0.05451638996601105, 0.054302651435136795, 0.05680843070149422, 0.05584748461842537, 0.055280860513448715, 0.05094647780060768, 0.051208849996328354, 0.049769505858421326, 0.04943858087062836, 0.05070584639906883, 0.05134251341223717, 0.04810144007205963, 0.05147893726825714, 0.048075120896101, 0.049823373556137085, 0.0491703525185585, 0.04660224914550781, 0.04678592458367348, 0.04775676503777504, 0.04943110793828964, 0.04669472202658653, 0.04663920775055885, 0.04448435455560684, 0.04688013717532158, 0.04707616940140724, 0.04812436178326607, 0.04570404440164566, 0.0459006242454052, 0.04552142322063446, 0.0454949252307415, 0.04542318731546402, 0.046422217041254044, 0.045217324048280716, 0.0451330728828907, 0.045027490705251694, 0.045136839151382446, 0.048789411783218384, 0.04911774769425392, 0.046840328723192215, 0.050140131264925, 0.045775581151247025, 0.04639238491654396, 0.04423820227384567, 0.04588671401143074, 0.04739770293235779, 0.046713221818208694, 0.046588268131017685, 0.046533890068531036, 0.04799357429146767, 0.04498843848705292, 0.05255258083343506, 0.046241920441389084, 0.043095652014017105, 0.043814774602651596, 0.0441298745572567, 0.04548679664731026, 0.0442221574485302, 0.048622794449329376, 0.04869600385427475, 0.04490872845053673, 0.04330291971564293, 0.04465704783797264, 0.043311793357133865, 0.04518399387598038, 0.04311300441622734, 0.04491255432367325, 0.04372474551200867, 0.044929228723049164, 0.0453839935362339, 0.04631192609667778, 0.04382459446787834, 0.043384891003370285, 0.042662039399147034, 0.0439288392663002, 0.04318838566541672, 0.04419076442718506, 0.044106245040893555, 0.04399709030985832, 0.042832911014556885, 0.044730450958013535, 0.045551806688308716, 0.044242724776268005, 0.041463982313871384, 0.044018570333719254, 0.04296284168958664, 0.045983266085386276, 0.04534359276294708, 0.04210123419761658, 0.04440084099769592, 0.04175696149468422, 0.043495696038007736, 0.04313540831208229, 0.044100310653448105, 0.04439408332109451, 0.04410547763109207, 0.042677052319049835, 0.0429488942027092, 0.04147881641983986, 0.042573221027851105, 0.04488596320152283, 0.04598812386393547, 0.04352714493870735, 0.04285426810383797, 0.042425498366355896, 0.041783832013607025, 0.04277190938591957, 0.04335344582796097, 0.042504992336034775, 0.043570633977651596, 0.04304153844714165, 0.04171637073159218, 0.043982669711112976, 0.040562987327575684, 0.04188622534275055, 0.042716849595308304, 0.04365471377968788, 0.04413414001464844, 0.04207396134734154, 0.04136953875422478, 0.043674107640981674, 0.0415627621114254, 0.0420781746506691, 0.043473102152347565, 0.041789066046476364, 0.04186534136533737, 0.044964298605918884, 0.03987366333603859, 0.041863102465867996, 0.041034549474716187, 0.04353843256831169, 0.041335899382829666, 0.04168963059782982, 0.042025379836559296, 0.04099317267537117, 0.041968703269958496, 0.042168404906988144, 0.042374398559331894, 0.04300663620233536, 0.043451469391584396, 0.04136745259165764, 0.044824957847595215, 0.042150892317295074, 0.04272858425974846, 0.04612156003713608, 0.04230017960071564, 0.042525459080934525, 0.04146236181259155, 0.041478849947452545, 0.042229656130075455, 0.04384400323033333, 0.0442662239074707, 0.04570583999156952, 0.04506140574812889, 0.042214974761009216, 0.04121291637420654, 0.04112113267183304, 0.044827573001384735, 0.04581773281097412, 0.04602598771452904, 0.044858384877443314, 0.04524752497673035, 0.04676954448223114, 0.04264083877205849, 0.04134160280227661, 0.04159660264849663, 0.04139668866991997, 0.042428888380527496, 0.042122650891542435, 0.043291687965393066, 0.045101653784513474, 0.04250423237681389, 0.04421699792146683, 0.04417601600289345, 0.04100613668560982, 0.04175239056348801, 0.039954908192157745, 0.043834030628204346, 0.042711321264505386, 0.043430183082818985, 0.04242260009050369, 0.04116762802004814, 0.041761890053749084, 0.04440102353692055, 0.043913278728723526, 0.04344244673848152, 0.0437772311270237, 0.04413853958249092, 0.046632420271635056, 0.04233416169881821, 0.0430385060608387, 0.04531271383166313, 0.04532346501946449, 0.04381076991558075, 0.050098590552806854, 0.048273272812366486, 0.049926720559597015, 0.04830043390393257, 0.04639820009469986, 0.044154684990644455, 0.041335850954055786, 0.040385521948337555, 0.04361449554562569, 0.04256221279501915, 0.041909828782081604, 0.04326163977384567, 0.043160319328308105, 0.04347023367881775, 0.03981395438313484, 0.041525617241859436, 0.043669991195201874, 0.04071011021733284, 0.0435941182076931, 0.04203151538968086, 0.042228590697050095, 0.04424497112631798, 0.04311098903417587, 0.04361766576766968, 0.04348534345626831, 0.044280413538217545, 0.04298103228211403, 0.04251236096024513, 0.041058555245399475, 0.04301130771636963, 0.042190443724393845, 0.04271403327584267, 0.0452488511800766, 0.04116039723157883, 0.042949192225933075, 0.04558033123612404, 0.04625016823410988, 0.04569111764431, 0.04176919162273407, 0.04141363129019737, 0.04098379611968994, 0.041593194007873535, 0.04264933615922928, 0.04219378903508186, 0.04230298846960068], 'val_loss': [0.09927389025688171, 0.04330049827694893, 0.02553658001124859, 0.021911058574914932, 0.0163351371884346, 0.013936173170804977, 0.012209460139274597, 0.011062574572861195, 0.009920831769704819, 0.008881859481334686, 0.008880681358277798, 0.007391226012259722, 0.007137652952224016, 0.007155285682529211, 0.006518001668155193, 0.007133256644010544, 0.00651866290718317, 0.0067089456133544445, 0.0068427203223109245, 0.005852892994880676, 0.005573950707912445, 0.00556263467296958, 0.0054253884591162205, 0.005683281924575567, 0.005326219368726015, 0.0062999785877764225, 0.005227521527558565, 0.005088356789201498, 0.004977661184966564, 0.004620399791747332, 0.005250987596809864, 0.004950949922204018, 0.004660957958549261, 0.004419341217726469, 0.004431355278939009, 0.00495864637196064, 0.004357876721769571, 0.004723694641143084, 0.0044951057061553, 0.004473818000406027, 0.004340340383350849, 0.004082707688212395, 0.004350669682025909, 0.0046983081847429276, 0.004715024493634701, 0.00490725738927722, 0.00397446658462286, 0.0040750992484390736, 0.0037343071307986975, 0.004473804961889982, 0.004838194698095322, 0.004559536464512348, 0.004759838804602623, 0.00423437962308526, 0.004127346444875002, 0.003933952655643225, 0.004750764463096857, 0.003647375851869583, 0.0038818693719804287, 0.0050011188723146915, 0.0038381984923034906, 0.0034922093618661165, 0.0035852950531989336, 0.0032537246588617563, 0.003936870954930782, 0.004078486934304237, 0.0036517197731882334, 0.003395226551219821, 0.0034284910652786493, 0.003297175746411085, 0.0035520840901881456, 0.004727883264422417, 0.005855115130543709, 0.004067066591233015, 0.003911652602255344, 0.0030279355123639107, 0.0030624493956565857, 0.003457930637523532, 0.0034105952363461256, 0.0037176385521888733, 0.0035394069273024797, 0.002931188326328993, 0.0035687070339918137, 0.003223341889679432, 0.0038532374892383814, 0.0032030625734478235, 0.003336346475407481, 0.003296836046501994, 0.003347973572090268, 0.00293708429671824, 0.0028695007786154747, 0.00300999591127038, 0.0030050056520849466, 0.002851606346666813, 0.003122707363218069, 0.0031369563657790422, 0.003230446018278599, 0.003422990208491683, 0.0030255692545324564, 0.0034962494391947985, 0.003186870366334915, 0.0029231561347842216, 0.00329288630746305, 0.002997614908963442, 0.0037031194660812616, 0.0033964617177844048, 0.003703812137246132, 0.0037069888785481453, 0.0036588236689567566, 0.0031996413599699736, 0.0030837231315672398, 0.0027753356844186783, 0.002825962845236063, 0.003025292418897152, 0.0035561020486056805, 0.0028653268236666918, 0.0029603647999465466, 0.003579737152904272, 0.002672838279977441, 0.0031434271950274706, 0.0026400513015687466, 0.002825484611093998, 0.0029999420512467623, 0.0028015482239425182, 0.00278529804199934, 0.002601427724584937, 0.0027388178277760744, 0.0027504959143698215, 0.0027238887269049883, 0.00332078174687922, 0.0030900053679943085, 0.003155612153932452, 0.002733545145019889, 0.0035136293154209852, 0.002906001638621092, 0.0025502266362309456, 0.0026588723994791508, 0.0026886730920523405, 0.00269649107940495, 0.0029540867544710636, 0.003277034033089876, 0.002884089946746826, 0.0028294844087213278, 0.00264100544154644, 0.002666820539161563, 0.0026130604092031717, 0.003122301772236824, 0.002841800218448043, 0.0027108557987958193, 0.002697062911465764, 0.002784628886729479, 0.0027556209824979305, 0.0025862473994493484, 0.002680698409676552, 0.004496071953326464, 0.005763368681073189, 0.0035425592213869095, 0.00398092158138752, 0.0030211496632546186, 0.002514877822250128, 0.002766058314591646, 0.002642733044922352, 0.002793489256873727, 0.002949449699372053, 0.0030052335932850838, 0.0031867658253759146, 0.0027655749581754208, 0.002377522410824895, 0.0030969951767474413, 0.0028680432587862015, 0.00268032168969512, 0.002727704821154475, 0.002838087035343051, 0.0031165587715804577, 0.0024693042505532503, 0.005597942508757114, 0.004879770800471306, 0.002928494941443205, 0.0029591519851237535, 0.0030050710774958134, 0.00241268752142787, 0.002366724656894803, 0.002605031244456768, 0.0036632877308875322, 0.0031678793020546436, 0.0027493613306432962, 0.002631976967677474, 0.002657652134075761, 0.0024244613014161587, 0.0030449561309069395, 0.003309528110548854, 0.00301515799947083, 0.003284243168309331, 0.0026049253065139055, 0.0034049851819872856, 0.0027337900828570127, 0.0023383351508527994, 0.0030220886692404747, 0.00260086334310472, 0.002994017442688346, 0.003611236345022917, 0.003937409725040197, 0.0040626828558743, 0.002687564119696617, 0.0029858904890716076, 0.0030219214968383312, 0.0027015157975256443, 0.0025902038905769587, 0.003020954318344593, 0.0041913059540092945, 0.003732130629941821, 0.0031336690299212933, 0.0023051551543176174, 0.002832014812156558, 0.002573816804215312, 0.0025902576744556427, 0.002950949827209115, 0.002694192109629512, 0.002545679919421673, 0.002753924112766981, 0.0038390946574509144, 0.0025318621192127466, 0.0031542861834168434, 0.002755203051492572, 0.0028877893928438425, 0.0033792031463235617, 0.002694019814953208, 0.0025337710976600647, 0.0027018755208700895, 0.0023755028378218412, 0.002514401450753212, 0.0030991085804998875, 0.0032687161583453417, 0.003361281007528305, 0.003125170711427927, 0.002537058899179101, 0.0023887925781309605, 0.002621776657178998, 0.002459360985085368, 0.003212865674868226, 0.002569757169112563, 0.002454780275002122, 0.002692289650440216, 0.0037702179979532957, 0.0025828410871326923, 0.0028019454330205917, 0.002854929305613041, 0.002706867875531316, 0.0029419180937111378, 0.0023264563642442226, 0.0025174838956445456, 0.003136357991024852, 0.0029845561366528273], 'val_mae': [0.24696528911590576, 0.1584329903125763, 0.11845749616622925, 0.11131931096315384, 0.09297815710306168, 0.08343258500099182, 0.07837413251399994, 0.07631317526102066, 0.07150665670633316, 0.0702984631061554, 0.07330691814422607, 0.06419716775417328, 0.06319300830364227, 0.06537938863039017, 0.06197410449385643, 0.06708560138940811, 0.06121212616562843, 0.062750443816185, 0.06636235117912292, 0.06057353690266609, 0.059545017778873444, 0.058169785887002945, 0.058104757219552994, 0.060186129063367844, 0.05748575180768967, 0.0624084398150444, 0.05707819387316704, 0.05613124743103981, 0.05449971184134483, 0.05327596142888069, 0.05808214470744133, 0.05541342496871948, 0.054133109748363495, 0.052177123725414276, 0.052084408700466156, 0.056337445974349976, 0.052772391587495804, 0.05364536866545677, 0.05307886376976967, 0.052998658269643784, 0.05225873365998268, 0.05060846358537674, 0.05151934176683426, 0.05416533723473549, 0.053492069244384766, 0.054340675473213196, 0.049358170479536057, 0.04996110498905182, 0.04767046868801117, 0.05205414816737175, 0.054768215864896774, 0.05393117293715477, 0.05575606971979141, 0.05115276202559471, 0.05152822658419609, 0.05018927529454231, 0.05424050614237785, 0.04711265116930008, 0.04791148006916046, 0.05405602231621742, 0.04778067767620087, 0.045809149742126465, 0.04655061289668083, 0.044530004262924194, 0.04737303778529167, 0.04986155405640602, 0.045997440814971924, 0.044674381613731384, 0.04496965929865837, 0.043933749198913574, 0.045687608420848846, 0.05224384367465973, 0.05744865909218788, 0.04807746782898903, 0.04856393113732338, 0.042477089911699295, 0.04309713840484619, 0.04648928344249725, 0.045136768370866776, 0.04743431508541107, 0.04744437336921692, 0.0416124202311039, 0.04590285196900368, 0.0446680523455143, 0.048098351806402206, 0.04369539022445679, 0.04507751762866974, 0.04506484419107437, 0.04500404745340347, 0.04177039489150047, 0.04146670922636986, 0.042511556297540665, 0.04252859950065613, 0.040647953748703, 0.0425281897187233, 0.043121546506881714, 0.04357700049877167, 0.044289641082286835, 0.04256661608815193, 0.04548211768269539, 0.04304180666804314, 0.04205968976020813, 0.04453153908252716, 0.04262780025601387, 0.04531557112932205, 0.044317059218883514, 0.04603314399719238, 0.04623501002788544, 0.047249067574739456, 0.04380026087164879, 0.04360116645693779, 0.04076162725687027, 0.04172076657414436, 0.043136678636074066, 0.044603440910577774, 0.04066193103790283, 0.04166330024600029, 0.04516654461622238, 0.04011243209242821, 0.0443805456161499, 0.03973501920700073, 0.040709562599658966, 0.04286399856209755, 0.041444193571805954, 0.04030191898345947, 0.038936860859394073, 0.040414173156023026, 0.040177907794713974, 0.04054902121424675, 0.046730559319257736, 0.042780157178640366, 0.04277537390589714, 0.04039224982261658, 0.04650084674358368, 0.04211147874593735, 0.03911960497498512, 0.03974120318889618, 0.040639061480760574, 0.04091178998351097, 0.04155059903860092, 0.04291042312979698, 0.04237557575106621, 0.04083958640694618, 0.038677413016557693, 0.03932066634297371, 0.03923190012574196, 0.04332150146365166, 0.04115384817123413, 0.040308862924575806, 0.038944218307733536, 0.040846411138772964, 0.039032693952322006, 0.03861900791525841, 0.03949000686407089, 0.05187027156352997, 0.0571700856089592, 0.04396093636751175, 0.04729064553976059, 0.042869359254837036, 0.03810339421033859, 0.040746890008449554, 0.03910692408680916, 0.04113103449344635, 0.04241180419921875, 0.04269971325993538, 0.040953874588012695, 0.0415104478597641, 0.036972902715206146, 0.04093349725008011, 0.03971570357680321, 0.04066871106624603, 0.040232907980680466, 0.03891689330339432, 0.04064666107296944, 0.037534452974796295, 0.055450890213251114, 0.05140984430909157, 0.040436115115880966, 0.041039709001779556, 0.04300602152943611, 0.037610478699207306, 0.035906124860048294, 0.03735194355249405, 0.04550491273403168, 0.04354409500956535, 0.040000252425670624, 0.03878423944115639, 0.03865116834640503, 0.03702406957745552, 0.04179246351122856, 0.0445927232503891, 0.04134856164455414, 0.042450714856386185, 0.038321468979120255, 0.042948074638843536, 0.039154913276433945, 0.0364835150539875, 0.03953412547707558, 0.0394056960940361, 0.04358655959367752, 0.044828109443187714, 0.04904373362660408, 0.04684655740857124, 0.03980424627661705, 0.04183676838874817, 0.04104780778288841, 0.038201916962862015, 0.03868460655212402, 0.042926497757434845, 0.05235395208001137, 0.05041630193591118, 0.043276771903038025, 0.03478652238845825, 0.03970050811767578, 0.03787582367658615, 0.040237706154584885, 0.04244435578584671, 0.038582295179367065, 0.038247328251600266, 0.03875698521733284, 0.044965580105781555, 0.03780515491962433, 0.041611406952142715, 0.042323436588048935, 0.040094878524541855, 0.04357845336198807, 0.03889318183064461, 0.03680809587240219, 0.03761860728263855, 0.03563622757792473, 0.037357039749622345, 0.043168459087610245, 0.0432438850402832, 0.04498212784528732, 0.041261542588472366, 0.037306878715753555, 0.036804940551519394, 0.03822644054889679, 0.03856157138943672, 0.0454278327524662, 0.03958025202155113, 0.03614454343914986, 0.03958790376782417, 0.04952249303460121, 0.03790007159113884, 0.0414726659655571, 0.04066990315914154, 0.038267575204372406, 0.04222326725721359, 0.03653019294142723, 0.038069915026426315, 0.04324985295534134, 0.04143459349870682]}\n",
            "params : {'verbose': 0, 'epochs': 1000, 'steps': 17}\n",
            "epoch : [0, 1, 2, 3, 4, 5, 6, 7, 8, 9, 10, 11, 12, 13, 14, 15, 16, 17, 18, 19, 20, 21, 22, 23, 24, 25, 26, 27, 28, 29, 30, 31, 32, 33, 34, 35, 36, 37, 38, 39, 40, 41, 42, 43, 44, 45, 46, 47, 48, 49, 50, 51, 52, 53, 54, 55, 56, 57, 58, 59, 60, 61, 62, 63, 64, 65, 66, 67, 68, 69, 70, 71, 72, 73, 74, 75, 76, 77, 78, 79, 80, 81, 82, 83, 84, 85, 86, 87, 88, 89, 90, 91, 92, 93, 94, 95, 96, 97, 98, 99, 100, 101, 102, 103, 104, 105, 106, 107, 108, 109, 110, 111, 112, 113, 114, 115, 116, 117, 118, 119, 120, 121, 122, 123, 124, 125, 126, 127, 128, 129, 130, 131, 132, 133, 134, 135, 136, 137, 138, 139, 140, 141, 142, 143, 144, 145, 146, 147, 148, 149, 150, 151, 152, 153, 154, 155, 156, 157, 158, 159, 160, 161, 162, 163, 164, 165, 166, 167, 168, 169, 170, 171, 172, 173, 174, 175, 176, 177, 178, 179, 180, 181, 182, 183, 184, 185, 186, 187, 188, 189, 190, 191, 192, 193, 194, 195, 196, 197, 198, 199, 200, 201, 202, 203, 204, 205, 206, 207, 208, 209, 210, 211, 212, 213, 214, 215, 216, 217, 218, 219, 220, 221, 222, 223, 224, 225, 226, 227, 228, 229, 230, 231, 232, 233, 234, 235, 236, 237, 238, 239, 240, 241, 242, 243, 244, 245, 246, 247, 248, 249, 250, 251, 252]\n"
          ],
          "name": "stdout"
        }
      ]
    },
    {
      "cell_type": "code",
      "metadata": {
        "id": "7fcjEqNZj0ii",
        "outputId": "ea90f113-0ad4-4073-cd3b-b5becf2e94af",
        "colab": {
          "base_uri": "https://localhost:8080/"
        }
      },
      "source": [
        "print(history.history.keys())"
      ],
      "execution_count": 64,
      "outputs": [
        {
          "output_type": "stream",
          "text": [
            "dict_keys(['loss', 'mae', 'val_loss', 'val_mae'])\n"
          ],
          "name": "stdout"
        }
      ]
    },
    {
      "cell_type": "markdown",
      "metadata": {
        "id": "VqRWzSebUmpM"
      },
      "source": [
        "You have tested out your model. Now is the time to adjust your model’s hyperparameters. You have a lot of choices to make. You can choose:\n",
        "\n",
        "* the number of `epochs`\n",
        "* the size of your `batch_size`\n",
        "* to add more hidden layers\n",
        "* your type of optimizer and/or activation functions.\n",
        "\n",
        "Have fun in the hyperparameter playground. Test things out and see what works and what does not work. See what makes your model optimized between speed and accuracy. You have complete creative power!"
      ]
    },
    {
      "cell_type": "code",
      "metadata": {
        "id": "F6QA6wQTfcpy",
        "outputId": "340e468a-ac3d-4cdb-c4ee-ecacf0eac1c4",
        "colab": {
          "base_uri": "https://localhost:8080/",
          "height": 729
        }
      },
      "source": [
        "fig = plt.figure(figsize = (15,10))\n",
        "ax1 = fig.add_subplot(2, 1, 1)\n",
        "ax1.plot(history.history['mae'])\n",
        "ax1.plot(history.history['val_mae'])\n",
        "ax1.set_title('model mae')\n",
        "ax1.set_ylabel('MAE')\n",
        "ax1.set_xlabel('epoch')\n",
        "ax1.legend(['train', 'validation'], loc='upper left')\n",
        " \n",
        "  # Plot loss and val_loss over each epoch\n",
        "ax2 = fig.add_subplot(2, 1, 2)\n",
        "ax2.plot(history.history['loss'])\n",
        "ax2.plot(history.history['val_loss'])\n",
        "ax2.set_title('model loss')\n",
        "ax2.set_ylabel('loss')\n",
        "ax2.set_xlabel('epoch')\n",
        "ax2.legend(['train', 'validation'], loc='upper left')\n",
        " \n",
        "# used to keep plots from overlapping each other  \n",
        "fig.tight_layout()"
      ],
      "execution_count": 65,
      "outputs": [
        {
          "output_type": "display_data",
          "data": {
            "image/png": "[encoded data removed]",
            "text/plain": [
              "<Figure size 1080x720 with 2 Axes>"
            ]
          },
          "metadata": {
            "tags": [],
            "needs_background": "light"
          }
        }
      ]
    }
  ]
}