{
  "nbformat": 4,
  "nbformat_minor": 0,
  "metadata": {
    "colab": {
      "name": "Implementing_Neural_Networks.ipynb",
      "provenance": [],
      "toc_visible": true
    },
    "kernelspec": {
      "name": "python3",
      "display_name": "Python 3"
    },
    "accelerator": "GPU"
  },
  "cells": [
    {
      "cell_type": "code",
      "metadata": {
        "id": "sLib06xoYtU9"
      },
      "source": [
        ""
      ],
      "execution_count": null,
      "outputs": []
    },
    {
      "cell_type": "markdown",
      "metadata": {
        "id": "NinkfVupZ7B3"
      },
      "source": [
        "# Data loading and observing\n",
        "Load the **life_expectancy.csv** dataset into a pandas DataFrame by first importing pandas, and then using the `pandas.read_csv()` function to load the file and assign the resulting DataFrame to a variable called `dataset`."
      ]
    },
    {
      "cell_type": "code",
      "metadata": {
        "id": "lSbMxVzGaE9z"
      },
      "source": [
        "import pandas as pd\n",
        "\n",
        "dataset = pd.read_csv(\"life_expectancy.csv\")"
      ],
      "execution_count": 2,
      "outputs": []
    },
    {
      "cell_type": "markdown",
      "metadata": {
        "id": "7DX_YumgaJX_"
      },
      "source": [
        "Observe the data by printing the first five entries in the DataFrame `dataset` by using the `DataFrame.head()` function. Make sure to see what the columns are and what the data types are. Locate the feature we would like to predict: `life expectancy`. Use 7DataFrame.describe()7 to see the summary statistics of the data."
      ]
    },
    {
      "cell_type": "code",
      "metadata": {
        "id": "0t-xW6X8b7Yq",
        "outputId": "02df82de-0fe3-4f88-8a9d-d70f846945bd",
        "colab": {
          "base_uri": "https://localhost:8080/",
          "height": 275
        }
      },
      "source": [
        "dataset.head()"
      ],
      "execution_count": 6,
      "outputs": [
        {
          "output_type": "execute_result",
          "data": {
            "text/html": [
              "<div>\n",
              "<style scoped>\n",
              "    .dataframe tbody tr th:only-of-type {\n",
              "        vertical-align: middle;\n",
              "    }\n",
              "\n",
              "    .dataframe tbody tr th {\n",
              "        vertical-align: top;\n",
              "    }\n",
              "\n",
              "    .dataframe thead th {\n",
              "        text-align: right;\n",
              "    }\n",
              "</style>\n",
              "<table border=\"1\" class=\"dataframe\">\n",
              "  <thead>\n",
              "    <tr style=\"text-align: right;\">\n",
              "      <th></th>\n",
              "      <th>Country</th>\n",
              "      <th>Year</th>\n",
              "      <th>Status</th>\n",
              "      <th>Adult Mortality</th>\n",
              "      <th>infant deaths</th>\n",
              "      <th>Alcohol</th>\n",
              "      <th>percentage expenditure</th>\n",
              "      <th>Hepatitis B</th>\n",
              "      <th>Measles</th>\n",
              "      <th>BMI</th>\n",
              "      <th>under-five deaths</th>\n",
              "      <th>Polio</th>\n",
              "      <th>Total expenditure</th>\n",
              "      <th>Diphtheria</th>\n",
              "      <th>HIV/AIDS</th>\n",
              "      <th>GDP</th>\n",
              "      <th>Population</th>\n",
              "      <th>thinness  1-19 years</th>\n",
              "      <th>thinness 5-9 years</th>\n",
              "      <th>Income composition of resources</th>\n",
              "      <th>Schooling</th>\n",
              "      <th>Life expectancy</th>\n",
              "    </tr>\n",
              "  </thead>\n",
              "  <tbody>\n",
              "    <tr>\n",
              "      <th>0</th>\n",
              "      <td>Afghanistan</td>\n",
              "      <td>2015</td>\n",
              "      <td>Developing</td>\n",
              "      <td>263.0</td>\n",
              "      <td>62</td>\n",
              "      <td>0.01</td>\n",
              "      <td>71.279624</td>\n",
              "      <td>65.0</td>\n",
              "      <td>1154</td>\n",
              "      <td>19.1</td>\n",
              "      <td>83</td>\n",
              "      <td>6.0</td>\n",
              "      <td>8.16</td>\n",
              "      <td>65.0</td>\n",
              "      <td>0.1</td>\n",
              "      <td>584.259210</td>\n",
              "      <td>33736494.0</td>\n",
              "      <td>17.2</td>\n",
              "      <td>17.3</td>\n",
              "      <td>0.479</td>\n",
              "      <td>10.1</td>\n",
              "      <td>65.0</td>\n",
              "    </tr>\n",
              "    <tr>\n",
              "      <th>1</th>\n",
              "      <td>Afghanistan</td>\n",
              "      <td>2014</td>\n",
              "      <td>Developing</td>\n",
              "      <td>271.0</td>\n",
              "      <td>64</td>\n",
              "      <td>0.01</td>\n",
              "      <td>73.523582</td>\n",
              "      <td>62.0</td>\n",
              "      <td>492</td>\n",
              "      <td>18.6</td>\n",
              "      <td>86</td>\n",
              "      <td>58.0</td>\n",
              "      <td>8.18</td>\n",
              "      <td>62.0</td>\n",
              "      <td>0.1</td>\n",
              "      <td>612.696514</td>\n",
              "      <td>327582.0</td>\n",
              "      <td>17.5</td>\n",
              "      <td>17.5</td>\n",
              "      <td>0.476</td>\n",
              "      <td>10.0</td>\n",
              "      <td>59.9</td>\n",
              "    </tr>\n",
              "    <tr>\n",
              "      <th>2</th>\n",
              "      <td>Afghanistan</td>\n",
              "      <td>2013</td>\n",
              "      <td>Developing</td>\n",
              "      <td>268.0</td>\n",
              "      <td>66</td>\n",
              "      <td>0.01</td>\n",
              "      <td>73.219243</td>\n",
              "      <td>64.0</td>\n",
              "      <td>430</td>\n",
              "      <td>18.1</td>\n",
              "      <td>89</td>\n",
              "      <td>62.0</td>\n",
              "      <td>8.13</td>\n",
              "      <td>64.0</td>\n",
              "      <td>0.1</td>\n",
              "      <td>631.744976</td>\n",
              "      <td>31731688.0</td>\n",
              "      <td>17.7</td>\n",
              "      <td>17.7</td>\n",
              "      <td>0.470</td>\n",
              "      <td>9.9</td>\n",
              "      <td>59.9</td>\n",
              "    </tr>\n",
              "    <tr>\n",
              "      <th>3</th>\n",
              "      <td>Afghanistan</td>\n",
              "      <td>2012</td>\n",
              "      <td>Developing</td>\n",
              "      <td>272.0</td>\n",
              "      <td>69</td>\n",
              "      <td>0.01</td>\n",
              "      <td>78.184215</td>\n",
              "      <td>67.0</td>\n",
              "      <td>2787</td>\n",
              "      <td>17.6</td>\n",
              "      <td>93</td>\n",
              "      <td>67.0</td>\n",
              "      <td>8.52</td>\n",
              "      <td>67.0</td>\n",
              "      <td>0.1</td>\n",
              "      <td>669.959000</td>\n",
              "      <td>3696958.0</td>\n",
              "      <td>17.9</td>\n",
              "      <td>18.0</td>\n",
              "      <td>0.463</td>\n",
              "      <td>9.8</td>\n",
              "      <td>59.5</td>\n",
              "    </tr>\n",
              "    <tr>\n",
              "      <th>4</th>\n",
              "      <td>Afghanistan</td>\n",
              "      <td>2011</td>\n",
              "      <td>Developing</td>\n",
              "      <td>275.0</td>\n",
              "      <td>71</td>\n",
              "      <td>0.01</td>\n",
              "      <td>7.097109</td>\n",
              "      <td>68.0</td>\n",
              "      <td>3013</td>\n",
              "      <td>17.2</td>\n",
              "      <td>97</td>\n",
              "      <td>68.0</td>\n",
              "      <td>7.87</td>\n",
              "      <td>68.0</td>\n",
              "      <td>0.1</td>\n",
              "      <td>63.537231</td>\n",
              "      <td>2978599.0</td>\n",
              "      <td>18.2</td>\n",
              "      <td>18.2</td>\n",
              "      <td>0.454</td>\n",
              "      <td>9.5</td>\n",
              "      <td>59.2</td>\n",
              "    </tr>\n",
              "  </tbody>\n",
              "</table>\n",
              "</div>"
            ],
            "text/plain": [
              "       Country  Year  ... Schooling  Life expectancy\n",
              "0  Afghanistan  2015  ...      10.1             65.0\n",
              "1  Afghanistan  2014  ...      10.0             59.9\n",
              "2  Afghanistan  2013  ...       9.9             59.9\n",
              "3  Afghanistan  2012  ...       9.8             59.5\n",
              "4  Afghanistan  2011  ...       9.5             59.2\n",
              "\n",
              "[5 rows x 22 columns]"
            ]
          },
          "metadata": {
            "tags": []
          },
          "execution_count": 6
        }
      ]
    },
    {
      "cell_type": "code",
      "metadata": {
        "id": "oBImRtuycQLw",
        "outputId": "0c2f0490-32f7-4c8a-fe88-8186e6023592",
        "colab": {
          "base_uri": "https://localhost:8080/"
        }
      },
      "source": [
        "dataset.columns"
      ],
      "execution_count": 7,
      "outputs": [
        {
          "output_type": "execute_result",
          "data": {
            "text/plain": [
              "Index(['Country', 'Year', 'Status', 'Adult Mortality', 'infant deaths',\n",
              "       'Alcohol', 'percentage expenditure', 'Hepatitis B', 'Measles ', ' BMI ',\n",
              "       'under-five deaths ', 'Polio', 'Total expenditure', 'Diphtheria ',\n",
              "       ' HIV/AIDS', 'GDP', 'Population', ' thinness  1-19 years',\n",
              "       ' thinness 5-9 years', 'Income composition of resources', 'Schooling',\n",
              "       'Life expectancy'],\n",
              "      dtype='object')"
            ]
          },
          "metadata": {
            "tags": []
          },
          "execution_count": 7
        }
      ]
    },
    {
      "cell_type": "code",
      "metadata": {
        "id": "UVx3h4XXcZkO",
        "outputId": "4e70a0eb-3011-498c-b10c-6175bae06d44",
        "colab": {
          "base_uri": "https://localhost:8080/",
          "height": 368
        }
      },
      "source": [
        "dataset.describe()"
      ],
      "execution_count": 5,
      "outputs": [
        {
          "output_type": "execute_result",
          "data": {
            "text/html": [
              "<div>\n",
              "<style scoped>\n",
              "    .dataframe tbody tr th:only-of-type {\n",
              "        vertical-align: middle;\n",
              "    }\n",
              "\n",
              "    .dataframe tbody tr th {\n",
              "        vertical-align: top;\n",
              "    }\n",
              "\n",
              "    .dataframe thead th {\n",
              "        text-align: right;\n",
              "    }\n",
              "</style>\n",
              "<table border=\"1\" class=\"dataframe\">\n",
              "  <thead>\n",
              "    <tr style=\"text-align: right;\">\n",
              "      <th></th>\n",
              "      <th>Year</th>\n",
              "      <th>Adult Mortality</th>\n",
              "      <th>infant deaths</th>\n",
              "      <th>Alcohol</th>\n",
              "      <th>percentage expenditure</th>\n",
              "      <th>Hepatitis B</th>\n",
              "      <th>Measles</th>\n",
              "      <th>BMI</th>\n",
              "      <th>under-five deaths</th>\n",
              "      <th>Polio</th>\n",
              "      <th>Total expenditure</th>\n",
              "      <th>Diphtheria</th>\n",
              "      <th>HIV/AIDS</th>\n",
              "      <th>GDP</th>\n",
              "      <th>Population</th>\n",
              "      <th>thinness  1-19 years</th>\n",
              "      <th>thinness 5-9 years</th>\n",
              "      <th>Income composition of resources</th>\n",
              "      <th>Schooling</th>\n",
              "      <th>Life expectancy</th>\n",
              "    </tr>\n",
              "  </thead>\n",
              "  <tbody>\n",
              "    <tr>\n",
              "      <th>count</th>\n",
              "      <td>2938.000000</td>\n",
              "      <td>2938.000000</td>\n",
              "      <td>2938.000000</td>\n",
              "      <td>2938.000000</td>\n",
              "      <td>2938.000000</td>\n",
              "      <td>2938.000000</td>\n",
              "      <td>2938.000000</td>\n",
              "      <td>2938.000000</td>\n",
              "      <td>2938.000000</td>\n",
              "      <td>2938.000000</td>\n",
              "      <td>2938.000000</td>\n",
              "      <td>2938.000000</td>\n",
              "      <td>2938.000000</td>\n",
              "      <td>2938.000000</td>\n",
              "      <td>2.938000e+03</td>\n",
              "      <td>2938.000000</td>\n",
              "      <td>2938.000000</td>\n",
              "      <td>2938.000000</td>\n",
              "      <td>2938.000000</td>\n",
              "      <td>2938.000000</td>\n",
              "    </tr>\n",
              "    <tr>\n",
              "      <th>mean</th>\n",
              "      <td>2007.518720</td>\n",
              "      <td>164.725664</td>\n",
              "      <td>30.303948</td>\n",
              "      <td>4.546875</td>\n",
              "      <td>738.251295</td>\n",
              "      <td>83.022124</td>\n",
              "      <td>2419.592240</td>\n",
              "      <td>38.381178</td>\n",
              "      <td>42.035739</td>\n",
              "      <td>82.617767</td>\n",
              "      <td>5.924098</td>\n",
              "      <td>82.393125</td>\n",
              "      <td>1.742103</td>\n",
              "      <td>6611.523863</td>\n",
              "      <td>1.023085e+07</td>\n",
              "      <td>4.821886</td>\n",
              "      <td>4.852144</td>\n",
              "      <td>0.630362</td>\n",
              "      <td>12.009837</td>\n",
              "      <td>69.234717</td>\n",
              "    </tr>\n",
              "    <tr>\n",
              "      <th>std</th>\n",
              "      <td>4.613841</td>\n",
              "      <td>124.086215</td>\n",
              "      <td>117.926501</td>\n",
              "      <td>3.921946</td>\n",
              "      <td>1987.914858</td>\n",
              "      <td>22.996984</td>\n",
              "      <td>11467.272489</td>\n",
              "      <td>19.935375</td>\n",
              "      <td>160.445548</td>\n",
              "      <td>23.367166</td>\n",
              "      <td>2.400770</td>\n",
              "      <td>23.655562</td>\n",
              "      <td>5.077785</td>\n",
              "      <td>13296.603449</td>\n",
              "      <td>5.402242e+07</td>\n",
              "      <td>4.397621</td>\n",
              "      <td>4.485854</td>\n",
              "      <td>0.205140</td>\n",
              "      <td>3.265139</td>\n",
              "      <td>9.509115</td>\n",
              "    </tr>\n",
              "    <tr>\n",
              "      <th>min</th>\n",
              "      <td>2000.000000</td>\n",
              "      <td>1.000000</td>\n",
              "      <td>0.000000</td>\n",
              "      <td>0.010000</td>\n",
              "      <td>0.000000</td>\n",
              "      <td>1.000000</td>\n",
              "      <td>0.000000</td>\n",
              "      <td>1.000000</td>\n",
              "      <td>0.000000</td>\n",
              "      <td>3.000000</td>\n",
              "      <td>0.370000</td>\n",
              "      <td>2.000000</td>\n",
              "      <td>0.100000</td>\n",
              "      <td>1.681350</td>\n",
              "      <td>3.400000e+01</td>\n",
              "      <td>0.100000</td>\n",
              "      <td>0.100000</td>\n",
              "      <td>0.000000</td>\n",
              "      <td>0.000000</td>\n",
              "      <td>36.300000</td>\n",
              "    </tr>\n",
              "    <tr>\n",
              "      <th>25%</th>\n",
              "      <td>2004.000000</td>\n",
              "      <td>74.000000</td>\n",
              "      <td>0.000000</td>\n",
              "      <td>1.092500</td>\n",
              "      <td>4.685343</td>\n",
              "      <td>82.000000</td>\n",
              "      <td>0.000000</td>\n",
              "      <td>19.400000</td>\n",
              "      <td>0.000000</td>\n",
              "      <td>78.000000</td>\n",
              "      <td>4.370000</td>\n",
              "      <td>78.000000</td>\n",
              "      <td>0.100000</td>\n",
              "      <td>580.486996</td>\n",
              "      <td>4.189172e+05</td>\n",
              "      <td>1.600000</td>\n",
              "      <td>1.600000</td>\n",
              "      <td>0.504250</td>\n",
              "      <td>10.300000</td>\n",
              "      <td>63.200000</td>\n",
              "    </tr>\n",
              "    <tr>\n",
              "      <th>50%</th>\n",
              "      <td>2008.000000</td>\n",
              "      <td>144.000000</td>\n",
              "      <td>3.000000</td>\n",
              "      <td>3.755000</td>\n",
              "      <td>64.912906</td>\n",
              "      <td>92.000000</td>\n",
              "      <td>17.000000</td>\n",
              "      <td>43.500000</td>\n",
              "      <td>4.000000</td>\n",
              "      <td>93.000000</td>\n",
              "      <td>5.755000</td>\n",
              "      <td>93.000000</td>\n",
              "      <td>0.100000</td>\n",
              "      <td>1766.947595</td>\n",
              "      <td>1.386542e+06</td>\n",
              "      <td>3.300000</td>\n",
              "      <td>3.300000</td>\n",
              "      <td>0.677000</td>\n",
              "      <td>12.300000</td>\n",
              "      <td>72.100000</td>\n",
              "    </tr>\n",
              "    <tr>\n",
              "      <th>75%</th>\n",
              "      <td>2012.000000</td>\n",
              "      <td>227.000000</td>\n",
              "      <td>22.000000</td>\n",
              "      <td>7.390000</td>\n",
              "      <td>441.534144</td>\n",
              "      <td>96.000000</td>\n",
              "      <td>360.250000</td>\n",
              "      <td>56.100000</td>\n",
              "      <td>28.000000</td>\n",
              "      <td>97.000000</td>\n",
              "      <td>7.330000</td>\n",
              "      <td>97.000000</td>\n",
              "      <td>0.800000</td>\n",
              "      <td>4779.405190</td>\n",
              "      <td>4.584371e+06</td>\n",
              "      <td>7.100000</td>\n",
              "      <td>7.200000</td>\n",
              "      <td>0.772000</td>\n",
              "      <td>14.100000</td>\n",
              "      <td>75.600000</td>\n",
              "    </tr>\n",
              "    <tr>\n",
              "      <th>max</th>\n",
              "      <td>2015.000000</td>\n",
              "      <td>723.000000</td>\n",
              "      <td>1800.000000</td>\n",
              "      <td>17.870000</td>\n",
              "      <td>19479.911610</td>\n",
              "      <td>99.000000</td>\n",
              "      <td>212183.000000</td>\n",
              "      <td>87.300000</td>\n",
              "      <td>2500.000000</td>\n",
              "      <td>99.000000</td>\n",
              "      <td>17.600000</td>\n",
              "      <td>99.000000</td>\n",
              "      <td>50.600000</td>\n",
              "      <td>119172.741800</td>\n",
              "      <td>1.293859e+09</td>\n",
              "      <td>27.700000</td>\n",
              "      <td>28.600000</td>\n",
              "      <td>0.948000</td>\n",
              "      <td>20.700000</td>\n",
              "      <td>89.000000</td>\n",
              "    </tr>\n",
              "  </tbody>\n",
              "</table>\n",
              "</div>"
            ],
            "text/plain": [
              "              Year  Adult Mortality  ...    Schooling  Life expectancy\n",
              "count  2938.000000      2938.000000  ...  2938.000000      2938.000000\n",
              "mean   2007.518720       164.725664  ...    12.009837        69.234717\n",
              "std       4.613841       124.086215  ...     3.265139         9.509115\n",
              "min    2000.000000         1.000000  ...     0.000000        36.300000\n",
              "25%    2004.000000        74.000000  ...    10.300000        63.200000\n",
              "50%    2008.000000       144.000000  ...    12.300000        72.100000\n",
              "75%    2012.000000       227.000000  ...    14.100000        75.600000\n",
              "max    2015.000000       723.000000  ...    20.700000        89.000000\n",
              "\n",
              "[8 rows x 20 columns]"
            ]
          },
          "metadata": {
            "tags": []
          },
          "execution_count": 5
        }
      ]
    },
    {
      "cell_type": "markdown",
      "metadata": {
        "id": "WMcNtt-dc7YC"
      },
      "source": [
        "Drop the Country column from the DataFrame using the `DataFrame` drop method. Why? To create a predictive model, knowing from which country data comes can be confusing and it is not a column we can generalize over. We want to learn a general pattern for all the countries, and not only those dependent on specific countries."
      ]
    },
    {
      "cell_type": "code",
      "metadata": {
        "id": "KZvZfEWuc8ve"
      },
      "source": [
        "dataset = dataset.drop(columns = [\"Country\"])"
      ],
      "execution_count": 14,
      "outputs": []
    },
    {
      "cell_type": "markdown",
      "metadata": {
        "id": "L_85dt-geiNd"
      },
      "source": [
        "In the next two steps, you will split the data into labels and features. Labels are contained in the “Life expectancy” column. It’s the final column in the DataFrame. Create a new variable called `labels`. Use `iloc` indexing to assign the final column of `dataset` to it."
      ]
    },
    {
      "cell_type": "code",
      "metadata": {
        "id": "wKW66VRcei9r",
        "outputId": "dc8ff721-be50-4d16-d430-fe7b41297ecf",
        "colab": {
          "base_uri": "https://localhost:8080/"
        }
      },
      "source": [
        "labels = dataset.iloc[:, -1]\n",
        "labels"
      ],
      "execution_count": 15,
      "outputs": [
        {
          "output_type": "execute_result",
          "data": {
            "text/plain": [
              "0       65.0\n",
              "1       59.9\n",
              "2       59.9\n",
              "3       59.5\n",
              "4       59.2\n",
              "        ... \n",
              "2933    44.3\n",
              "2934    44.5\n",
              "2935    44.8\n",
              "2936    45.3\n",
              "2937    46.0\n",
              "Name: Life expectancy, Length: 2938, dtype: float64"
            ]
          },
          "metadata": {
            "tags": []
          },
          "execution_count": 15
        }
      ]
    },
    {
      "cell_type": "markdown",
      "metadata": {
        "id": "KfBQMDVjg3iu"
      },
      "source": [
        "Features span from the first column to the last column (not including it, since it’s a label column in our dataset). Create a new variable called `features`. Use `iloc` indexing to assign a subset of columns from first to last (not including the last column) to it."
      ]
    },
    {
      "cell_type": "code",
      "metadata": {
        "id": "Uizv8oJwhL-g",
        "outputId": "f02fd336-5beb-4283-f9fa-091fbf7f28bd",
        "colab": {
          "base_uri": "https://localhost:8080/",
          "height": 490
        }
      },
      "source": [
        "features = dataset.iloc[:, : -1]\n",
        "features"
      ],
      "execution_count": 16,
      "outputs": [
        {
          "output_type": "execute_result",
          "data": {
            "text/html": [
              "<div>\n",
              "<style scoped>\n",
              "    .dataframe tbody tr th:only-of-type {\n",
              "        vertical-align: middle;\n",
              "    }\n",
              "\n",
              "    .dataframe tbody tr th {\n",
              "        vertical-align: top;\n",
              "    }\n",
              "\n",
              "    .dataframe thead th {\n",
              "        text-align: right;\n",
              "    }\n",
              "</style>\n",
              "<table border=\"1\" class=\"dataframe\">\n",
              "  <thead>\n",
              "    <tr style=\"text-align: right;\">\n",
              "      <th></th>\n",
              "      <th>Year</th>\n",
              "      <th>Status</th>\n",
              "      <th>Adult Mortality</th>\n",
              "      <th>infant deaths</th>\n",
              "      <th>Alcohol</th>\n",
              "      <th>percentage expenditure</th>\n",
              "      <th>Hepatitis B</th>\n",
              "      <th>Measles</th>\n",
              "      <th>BMI</th>\n",
              "      <th>under-five deaths</th>\n",
              "      <th>Polio</th>\n",
              "      <th>Total expenditure</th>\n",
              "      <th>Diphtheria</th>\n",
              "      <th>HIV/AIDS</th>\n",
              "      <th>GDP</th>\n",
              "      <th>Population</th>\n",
              "      <th>thinness  1-19 years</th>\n",
              "      <th>thinness 5-9 years</th>\n",
              "      <th>Income composition of resources</th>\n",
              "      <th>Schooling</th>\n",
              "    </tr>\n",
              "  </thead>\n",
              "  <tbody>\n",
              "    <tr>\n",
              "      <th>0</th>\n",
              "      <td>2015</td>\n",
              "      <td>Developing</td>\n",
              "      <td>263.0</td>\n",
              "      <td>62</td>\n",
              "      <td>0.01</td>\n",
              "      <td>71.279624</td>\n",
              "      <td>65.0</td>\n",
              "      <td>1154</td>\n",
              "      <td>19.1</td>\n",
              "      <td>83</td>\n",
              "      <td>6.0</td>\n",
              "      <td>8.16</td>\n",
              "      <td>65.0</td>\n",
              "      <td>0.1</td>\n",
              "      <td>584.259210</td>\n",
              "      <td>33736494.0</td>\n",
              "      <td>17.2</td>\n",
              "      <td>17.3</td>\n",
              "      <td>0.479</td>\n",
              "      <td>10.1</td>\n",
              "    </tr>\n",
              "    <tr>\n",
              "      <th>1</th>\n",
              "      <td>2014</td>\n",
              "      <td>Developing</td>\n",
              "      <td>271.0</td>\n",
              "      <td>64</td>\n",
              "      <td>0.01</td>\n",
              "      <td>73.523582</td>\n",
              "      <td>62.0</td>\n",
              "      <td>492</td>\n",
              "      <td>18.6</td>\n",
              "      <td>86</td>\n",
              "      <td>58.0</td>\n",
              "      <td>8.18</td>\n",
              "      <td>62.0</td>\n",
              "      <td>0.1</td>\n",
              "      <td>612.696514</td>\n",
              "      <td>327582.0</td>\n",
              "      <td>17.5</td>\n",
              "      <td>17.5</td>\n",
              "      <td>0.476</td>\n",
              "      <td>10.0</td>\n",
              "    </tr>\n",
              "    <tr>\n",
              "      <th>2</th>\n",
              "      <td>2013</td>\n",
              "      <td>Developing</td>\n",
              "      <td>268.0</td>\n",
              "      <td>66</td>\n",
              "      <td>0.01</td>\n",
              "      <td>73.219243</td>\n",
              "      <td>64.0</td>\n",
              "      <td>430</td>\n",
              "      <td>18.1</td>\n",
              "      <td>89</td>\n",
              "      <td>62.0</td>\n",
              "      <td>8.13</td>\n",
              "      <td>64.0</td>\n",
              "      <td>0.1</td>\n",
              "      <td>631.744976</td>\n",
              "      <td>31731688.0</td>\n",
              "      <td>17.7</td>\n",
              "      <td>17.7</td>\n",
              "      <td>0.470</td>\n",
              "      <td>9.9</td>\n",
              "    </tr>\n",
              "    <tr>\n",
              "      <th>3</th>\n",
              "      <td>2012</td>\n",
              "      <td>Developing</td>\n",
              "      <td>272.0</td>\n",
              "      <td>69</td>\n",
              "      <td>0.01</td>\n",
              "      <td>78.184215</td>\n",
              "      <td>67.0</td>\n",
              "      <td>2787</td>\n",
              "      <td>17.6</td>\n",
              "      <td>93</td>\n",
              "      <td>67.0</td>\n",
              "      <td>8.52</td>\n",
              "      <td>67.0</td>\n",
              "      <td>0.1</td>\n",
              "      <td>669.959000</td>\n",
              "      <td>3696958.0</td>\n",
              "      <td>17.9</td>\n",
              "      <td>18.0</td>\n",
              "      <td>0.463</td>\n",
              "      <td>9.8</td>\n",
              "    </tr>\n",
              "    <tr>\n",
              "      <th>4</th>\n",
              "      <td>2011</td>\n",
              "      <td>Developing</td>\n",
              "      <td>275.0</td>\n",
              "      <td>71</td>\n",
              "      <td>0.01</td>\n",
              "      <td>7.097109</td>\n",
              "      <td>68.0</td>\n",
              "      <td>3013</td>\n",
              "      <td>17.2</td>\n",
              "      <td>97</td>\n",
              "      <td>68.0</td>\n",
              "      <td>7.87</td>\n",
              "      <td>68.0</td>\n",
              "      <td>0.1</td>\n",
              "      <td>63.537231</td>\n",
              "      <td>2978599.0</td>\n",
              "      <td>18.2</td>\n",
              "      <td>18.2</td>\n",
              "      <td>0.454</td>\n",
              "      <td>9.5</td>\n",
              "    </tr>\n",
              "    <tr>\n",
              "      <th>...</th>\n",
              "      <td>...</td>\n",
              "      <td>...</td>\n",
              "      <td>...</td>\n",
              "      <td>...</td>\n",
              "      <td>...</td>\n",
              "      <td>...</td>\n",
              "      <td>...</td>\n",
              "      <td>...</td>\n",
              "      <td>...</td>\n",
              "      <td>...</td>\n",
              "      <td>...</td>\n",
              "      <td>...</td>\n",
              "      <td>...</td>\n",
              "      <td>...</td>\n",
              "      <td>...</td>\n",
              "      <td>...</td>\n",
              "      <td>...</td>\n",
              "      <td>...</td>\n",
              "      <td>...</td>\n",
              "      <td>...</td>\n",
              "    </tr>\n",
              "    <tr>\n",
              "      <th>2933</th>\n",
              "      <td>2004</td>\n",
              "      <td>Developing</td>\n",
              "      <td>723.0</td>\n",
              "      <td>27</td>\n",
              "      <td>4.36</td>\n",
              "      <td>0.000000</td>\n",
              "      <td>68.0</td>\n",
              "      <td>31</td>\n",
              "      <td>27.1</td>\n",
              "      <td>42</td>\n",
              "      <td>67.0</td>\n",
              "      <td>7.13</td>\n",
              "      <td>65.0</td>\n",
              "      <td>33.6</td>\n",
              "      <td>454.366654</td>\n",
              "      <td>12777511.0</td>\n",
              "      <td>9.4</td>\n",
              "      <td>9.4</td>\n",
              "      <td>0.407</td>\n",
              "      <td>9.2</td>\n",
              "    </tr>\n",
              "    <tr>\n",
              "      <th>2934</th>\n",
              "      <td>2003</td>\n",
              "      <td>Developing</td>\n",
              "      <td>715.0</td>\n",
              "      <td>26</td>\n",
              "      <td>4.06</td>\n",
              "      <td>0.000000</td>\n",
              "      <td>7.0</td>\n",
              "      <td>998</td>\n",
              "      <td>26.7</td>\n",
              "      <td>41</td>\n",
              "      <td>7.0</td>\n",
              "      <td>6.52</td>\n",
              "      <td>68.0</td>\n",
              "      <td>36.7</td>\n",
              "      <td>453.351155</td>\n",
              "      <td>12633897.0</td>\n",
              "      <td>9.8</td>\n",
              "      <td>9.9</td>\n",
              "      <td>0.418</td>\n",
              "      <td>9.5</td>\n",
              "    </tr>\n",
              "    <tr>\n",
              "      <th>2935</th>\n",
              "      <td>2002</td>\n",
              "      <td>Developing</td>\n",
              "      <td>73.0</td>\n",
              "      <td>25</td>\n",
              "      <td>4.43</td>\n",
              "      <td>0.000000</td>\n",
              "      <td>73.0</td>\n",
              "      <td>304</td>\n",
              "      <td>26.3</td>\n",
              "      <td>40</td>\n",
              "      <td>73.0</td>\n",
              "      <td>6.53</td>\n",
              "      <td>71.0</td>\n",
              "      <td>39.8</td>\n",
              "      <td>57.348340</td>\n",
              "      <td>125525.0</td>\n",
              "      <td>1.2</td>\n",
              "      <td>1.3</td>\n",
              "      <td>0.427</td>\n",
              "      <td>10.0</td>\n",
              "    </tr>\n",
              "    <tr>\n",
              "      <th>2936</th>\n",
              "      <td>2001</td>\n",
              "      <td>Developing</td>\n",
              "      <td>686.0</td>\n",
              "      <td>25</td>\n",
              "      <td>1.72</td>\n",
              "      <td>0.000000</td>\n",
              "      <td>76.0</td>\n",
              "      <td>529</td>\n",
              "      <td>25.9</td>\n",
              "      <td>39</td>\n",
              "      <td>76.0</td>\n",
              "      <td>6.16</td>\n",
              "      <td>75.0</td>\n",
              "      <td>42.1</td>\n",
              "      <td>548.587312</td>\n",
              "      <td>12366165.0</td>\n",
              "      <td>1.6</td>\n",
              "      <td>1.7</td>\n",
              "      <td>0.427</td>\n",
              "      <td>9.8</td>\n",
              "    </tr>\n",
              "    <tr>\n",
              "      <th>2937</th>\n",
              "      <td>2000</td>\n",
              "      <td>Developing</td>\n",
              "      <td>665.0</td>\n",
              "      <td>24</td>\n",
              "      <td>1.68</td>\n",
              "      <td>0.000000</td>\n",
              "      <td>79.0</td>\n",
              "      <td>1483</td>\n",
              "      <td>25.5</td>\n",
              "      <td>39</td>\n",
              "      <td>78.0</td>\n",
              "      <td>7.10</td>\n",
              "      <td>78.0</td>\n",
              "      <td>43.5</td>\n",
              "      <td>547.358879</td>\n",
              "      <td>12222251.0</td>\n",
              "      <td>11.0</td>\n",
              "      <td>11.2</td>\n",
              "      <td>0.434</td>\n",
              "      <td>9.8</td>\n",
              "    </tr>\n",
              "  </tbody>\n",
              "</table>\n",
              "<p>2938 rows × 20 columns</p>\n",
              "</div>"
            ],
            "text/plain": [
              "      Year      Status  ...  Income composition of resources  Schooling\n",
              "0     2015  Developing  ...                            0.479       10.1\n",
              "1     2014  Developing  ...                            0.476       10.0\n",
              "2     2013  Developing  ...                            0.470        9.9\n",
              "3     2012  Developing  ...                            0.463        9.8\n",
              "4     2011  Developing  ...                            0.454        9.5\n",
              "...    ...         ...  ...                              ...        ...\n",
              "2933  2004  Developing  ...                            0.407        9.2\n",
              "2934  2003  Developing  ...                            0.418        9.5\n",
              "2935  2002  Developing  ...                            0.427       10.0\n",
              "2936  2001  Developing  ...                            0.427        9.8\n",
              "2937  2000  Developing  ...                            0.434        9.8\n",
              "\n",
              "[2938 rows x 20 columns]"
            ]
          },
          "metadata": {
            "tags": []
          },
          "execution_count": 16
        }
      ]
    },
    {
      "cell_type": "markdown",
      "metadata": {
        "id": "eHGm_uN8h_Fq"
      },
      "source": [
        "# Data Preprocessing\n",
        "When you observed your dataset you probably noticed that some columns are categorical. We learned in this lesson that categorical columns need to be converted into numerical columns using methods such as one-hot-encoding. Use `pandas.get_dummies(DataFrame)` to apply one-hot-encoding on all the categorical columns. Assign the result of the encoding back to the `features` variable."
      ]
    },
    {
      "cell_type": "code",
      "metadata": {
        "id": "m3e04Ve_iS-A",
        "outputId": "2dfb36ba-cf72-443b-b925-e30d7a4a805a",
        "colab": {
          "base_uri": "https://localhost:8080/",
          "height": 490
        }
      },
      "source": [
        "features = pd.get_dummies(features)\n",
        "features"
      ],
      "execution_count": 19,
      "outputs": [
        {
          "output_type": "execute_result",
          "data": {
            "text/html": [
              "<div>\n",
              "<style scoped>\n",
              "    .dataframe tbody tr th:only-of-type {\n",
              "        vertical-align: middle;\n",
              "    }\n",
              "\n",
              "    .dataframe tbody tr th {\n",
              "        vertical-align: top;\n",
              "    }\n",
              "\n",
              "    .dataframe thead th {\n",
              "        text-align: right;\n",
              "    }\n",
              "</style>\n",
              "<table border=\"1\" class=\"dataframe\">\n",
              "  <thead>\n",
              "    <tr style=\"text-align: right;\">\n",
              "      <th></th>\n",
              "      <th>Year</th>\n",
              "      <th>Adult Mortality</th>\n",
              "      <th>infant deaths</th>\n",
              "      <th>Alcohol</th>\n",
              "      <th>percentage expenditure</th>\n",
              "      <th>Hepatitis B</th>\n",
              "      <th>Measles</th>\n",
              "      <th>BMI</th>\n",
              "      <th>under-five deaths</th>\n",
              "      <th>Polio</th>\n",
              "      <th>Total expenditure</th>\n",
              "      <th>Diphtheria</th>\n",
              "      <th>HIV/AIDS</th>\n",
              "      <th>GDP</th>\n",
              "      <th>Population</th>\n",
              "      <th>thinness  1-19 years</th>\n",
              "      <th>thinness 5-9 years</th>\n",
              "      <th>Income composition of resources</th>\n",
              "      <th>Schooling</th>\n",
              "      <th>Status_Developed</th>\n",
              "      <th>Status_Developing</th>\n",
              "    </tr>\n",
              "  </thead>\n",
              "  <tbody>\n",
              "    <tr>\n",
              "      <th>0</th>\n",
              "      <td>2015</td>\n",
              "      <td>263.0</td>\n",
              "      <td>62</td>\n",
              "      <td>0.01</td>\n",
              "      <td>71.279624</td>\n",
              "      <td>65.0</td>\n",
              "      <td>1154</td>\n",
              "      <td>19.1</td>\n",
              "      <td>83</td>\n",
              "      <td>6.0</td>\n",
              "      <td>8.16</td>\n",
              "      <td>65.0</td>\n",
              "      <td>0.1</td>\n",
              "      <td>584.259210</td>\n",
              "      <td>33736494.0</td>\n",
              "      <td>17.2</td>\n",
              "      <td>17.3</td>\n",
              "      <td>0.479</td>\n",
              "      <td>10.1</td>\n",
              "      <td>0</td>\n",
              "      <td>1</td>\n",
              "    </tr>\n",
              "    <tr>\n",
              "      <th>1</th>\n",
              "      <td>2014</td>\n",
              "      <td>271.0</td>\n",
              "      <td>64</td>\n",
              "      <td>0.01</td>\n",
              "      <td>73.523582</td>\n",
              "      <td>62.0</td>\n",
              "      <td>492</td>\n",
              "      <td>18.6</td>\n",
              "      <td>86</td>\n",
              "      <td>58.0</td>\n",
              "      <td>8.18</td>\n",
              "      <td>62.0</td>\n",
              "      <td>0.1</td>\n",
              "      <td>612.696514</td>\n",
              "      <td>327582.0</td>\n",
              "      <td>17.5</td>\n",
              "      <td>17.5</td>\n",
              "      <td>0.476</td>\n",
              "      <td>10.0</td>\n",
              "      <td>0</td>\n",
              "      <td>1</td>\n",
              "    </tr>\n",
              "    <tr>\n",
              "      <th>2</th>\n",
              "      <td>2013</td>\n",
              "      <td>268.0</td>\n",
              "      <td>66</td>\n",
              "      <td>0.01</td>\n",
              "      <td>73.219243</td>\n",
              "      <td>64.0</td>\n",
              "      <td>430</td>\n",
              "      <td>18.1</td>\n",
              "      <td>89</td>\n",
              "      <td>62.0</td>\n",
              "      <td>8.13</td>\n",
              "      <td>64.0</td>\n",
              "      <td>0.1</td>\n",
              "      <td>631.744976</td>\n",
              "      <td>31731688.0</td>\n",
              "      <td>17.7</td>\n",
              "      <td>17.7</td>\n",
              "      <td>0.470</td>\n",
              "      <td>9.9</td>\n",
              "      <td>0</td>\n",
              "      <td>1</td>\n",
              "    </tr>\n",
              "    <tr>\n",
              "      <th>3</th>\n",
              "      <td>2012</td>\n",
              "      <td>272.0</td>\n",
              "      <td>69</td>\n",
              "      <td>0.01</td>\n",
              "      <td>78.184215</td>\n",
              "      <td>67.0</td>\n",
              "      <td>2787</td>\n",
              "      <td>17.6</td>\n",
              "      <td>93</td>\n",
              "      <td>67.0</td>\n",
              "      <td>8.52</td>\n",
              "      <td>67.0</td>\n",
              "      <td>0.1</td>\n",
              "      <td>669.959000</td>\n",
              "      <td>3696958.0</td>\n",
              "      <td>17.9</td>\n",
              "      <td>18.0</td>\n",
              "      <td>0.463</td>\n",
              "      <td>9.8</td>\n",
              "      <td>0</td>\n",
              "      <td>1</td>\n",
              "    </tr>\n",
              "    <tr>\n",
              "      <th>4</th>\n",
              "      <td>2011</td>\n",
              "      <td>275.0</td>\n",
              "      <td>71</td>\n",
              "      <td>0.01</td>\n",
              "      <td>7.097109</td>\n",
              "      <td>68.0</td>\n",
              "      <td>3013</td>\n",
              "      <td>17.2</td>\n",
              "      <td>97</td>\n",
              "      <td>68.0</td>\n",
              "      <td>7.87</td>\n",
              "      <td>68.0</td>\n",
              "      <td>0.1</td>\n",
              "      <td>63.537231</td>\n",
              "      <td>2978599.0</td>\n",
              "      <td>18.2</td>\n",
              "      <td>18.2</td>\n",
              "      <td>0.454</td>\n",
              "      <td>9.5</td>\n",
              "      <td>0</td>\n",
              "      <td>1</td>\n",
              "    </tr>\n",
              "    <tr>\n",
              "      <th>...</th>\n",
              "      <td>...</td>\n",
              "      <td>...</td>\n",
              "      <td>...</td>\n",
              "      <td>...</td>\n",
              "      <td>...</td>\n",
              "      <td>...</td>\n",
              "      <td>...</td>\n",
              "      <td>...</td>\n",
              "      <td>...</td>\n",
              "      <td>...</td>\n",
              "      <td>...</td>\n",
              "      <td>...</td>\n",
              "      <td>...</td>\n",
              "      <td>...</td>\n",
              "      <td>...</td>\n",
              "      <td>...</td>\n",
              "      <td>...</td>\n",
              "      <td>...</td>\n",
              "      <td>...</td>\n",
              "      <td>...</td>\n",
              "      <td>...</td>\n",
              "    </tr>\n",
              "    <tr>\n",
              "      <th>2933</th>\n",
              "      <td>2004</td>\n",
              "      <td>723.0</td>\n",
              "      <td>27</td>\n",
              "      <td>4.36</td>\n",
              "      <td>0.000000</td>\n",
              "      <td>68.0</td>\n",
              "      <td>31</td>\n",
              "      <td>27.1</td>\n",
              "      <td>42</td>\n",
              "      <td>67.0</td>\n",
              "      <td>7.13</td>\n",
              "      <td>65.0</td>\n",
              "      <td>33.6</td>\n",
              "      <td>454.366654</td>\n",
              "      <td>12777511.0</td>\n",
              "      <td>9.4</td>\n",
              "      <td>9.4</td>\n",
              "      <td>0.407</td>\n",
              "      <td>9.2</td>\n",
              "      <td>0</td>\n",
              "      <td>1</td>\n",
              "    </tr>\n",
              "    <tr>\n",
              "      <th>2934</th>\n",
              "      <td>2003</td>\n",
              "      <td>715.0</td>\n",
              "      <td>26</td>\n",
              "      <td>4.06</td>\n",
              "      <td>0.000000</td>\n",
              "      <td>7.0</td>\n",
              "      <td>998</td>\n",
              "      <td>26.7</td>\n",
              "      <td>41</td>\n",
              "      <td>7.0</td>\n",
              "      <td>6.52</td>\n",
              "      <td>68.0</td>\n",
              "      <td>36.7</td>\n",
              "      <td>453.351155</td>\n",
              "      <td>12633897.0</td>\n",
              "      <td>9.8</td>\n",
              "      <td>9.9</td>\n",
              "      <td>0.418</td>\n",
              "      <td>9.5</td>\n",
              "      <td>0</td>\n",
              "      <td>1</td>\n",
              "    </tr>\n",
              "    <tr>\n",
              "      <th>2935</th>\n",
              "      <td>2002</td>\n",
              "      <td>73.0</td>\n",
              "      <td>25</td>\n",
              "      <td>4.43</td>\n",
              "      <td>0.000000</td>\n",
              "      <td>73.0</td>\n",
              "      <td>304</td>\n",
              "      <td>26.3</td>\n",
              "      <td>40</td>\n",
              "      <td>73.0</td>\n",
              "      <td>6.53</td>\n",
              "      <td>71.0</td>\n",
              "      <td>39.8</td>\n",
              "      <td>57.348340</td>\n",
              "      <td>125525.0</td>\n",
              "      <td>1.2</td>\n",
              "      <td>1.3</td>\n",
              "      <td>0.427</td>\n",
              "      <td>10.0</td>\n",
              "      <td>0</td>\n",
              "      <td>1</td>\n",
              "    </tr>\n",
              "    <tr>\n",
              "      <th>2936</th>\n",
              "      <td>2001</td>\n",
              "      <td>686.0</td>\n",
              "      <td>25</td>\n",
              "      <td>1.72</td>\n",
              "      <td>0.000000</td>\n",
              "      <td>76.0</td>\n",
              "      <td>529</td>\n",
              "      <td>25.9</td>\n",
              "      <td>39</td>\n",
              "      <td>76.0</td>\n",
              "      <td>6.16</td>\n",
              "      <td>75.0</td>\n",
              "      <td>42.1</td>\n",
              "      <td>548.587312</td>\n",
              "      <td>12366165.0</td>\n",
              "      <td>1.6</td>\n",
              "      <td>1.7</td>\n",
              "      <td>0.427</td>\n",
              "      <td>9.8</td>\n",
              "      <td>0</td>\n",
              "      <td>1</td>\n",
              "    </tr>\n",
              "    <tr>\n",
              "      <th>2937</th>\n",
              "      <td>2000</td>\n",
              "      <td>665.0</td>\n",
              "      <td>24</td>\n",
              "      <td>1.68</td>\n",
              "      <td>0.000000</td>\n",
              "      <td>79.0</td>\n",
              "      <td>1483</td>\n",
              "      <td>25.5</td>\n",
              "      <td>39</td>\n",
              "      <td>78.0</td>\n",
              "      <td>7.10</td>\n",
              "      <td>78.0</td>\n",
              "      <td>43.5</td>\n",
              "      <td>547.358879</td>\n",
              "      <td>12222251.0</td>\n",
              "      <td>11.0</td>\n",
              "      <td>11.2</td>\n",
              "      <td>0.434</td>\n",
              "      <td>9.8</td>\n",
              "      <td>0</td>\n",
              "      <td>1</td>\n",
              "    </tr>\n",
              "  </tbody>\n",
              "</table>\n",
              "<p>2938 rows × 21 columns</p>\n",
              "</div>"
            ],
            "text/plain": [
              "      Year  Adult Mortality  ...  Status_Developed  Status_Developing\n",
              "0     2015            263.0  ...                 0                  1\n",
              "1     2014            271.0  ...                 0                  1\n",
              "2     2013            268.0  ...                 0                  1\n",
              "3     2012            272.0  ...                 0                  1\n",
              "4     2011            275.0  ...                 0                  1\n",
              "...    ...              ...  ...               ...                ...\n",
              "2933  2004            723.0  ...                 0                  1\n",
              "2934  2003            715.0  ...                 0                  1\n",
              "2935  2002             73.0  ...                 0                  1\n",
              "2936  2001            686.0  ...                 0                  1\n",
              "2937  2000            665.0  ...                 0                  1\n",
              "\n",
              "[2938 rows x 21 columns]"
            ]
          },
          "metadata": {
            "tags": []
          },
          "execution_count": 19
        }
      ]
    },
    {
      "cell_type": "markdown",
      "metadata": {
        "id": "Od8SasRfj6wY"
      },
      "source": [
        "Split your data into training set and test sets using the `sklearn.model_selection.train_test_split()` function. Assign\n",
        "\n",
        "* the training features to a variable called `features_train`\n",
        "* training labels to a variable called `labels_train`\n",
        "* test data to a variable called `features_test`\n",
        "* test labels to a variable called `labels_test`.\n",
        "\n",
        "You can choose any percentage for `test_size` and any value for `random_state`."
      ]
    },
    {
      "cell_type": "code",
      "metadata": {
        "id": "JaJYbZkEkZi1"
      },
      "source": [
        "from sklearn.model_selection import train_test_split\n",
        "\n",
        "features_train, features_test, labels_train, labels_test = train_test_split(\n",
        "    features, \n",
        "    labels, \n",
        "    test_size = 0.33,         # we chose the test size to be 33% of the total data,\n",
        "    random_state = 42\n",
        ")"
      ],
      "execution_count": 21,
      "outputs": []
    },
    {
      "cell_type": "markdown",
      "metadata": {
        "id": "1RpTZvdDlo4I"
      },
      "source": [
        "The next step is to standardize/normalize your numerical features. You can pick whichever method you want. In this step, create a `sklearn.compose.ColumnTransformer` instance called `ct` to set up the normalization/standardization procedure. When initializing `ColumnTransformer` make sure to list all of the numerical features you have in your dataset. Or use `DataFrame.select_dtypes()` to select `float64` or `int64` feature types automatically."
      ]
    },
    {
      "cell_type": "code",
      "metadata": {
        "id": "I0HFvOQXnebN"
      },
      "source": [
        "from sklearn.preprocessing import StandardScaler\n",
        "from sklearn.preprocessing import Normalizer\n",
        "from sklearn.compose import ColumnTransformer\n",
        "\n",
        "numerical_features = features.select_dtypes(\n",
        "    include = ['float64', 'int64']\n",
        ")\n",
        "numerical_columns = numerical_features.columns\n",
        "\n",
        "ct = ColumnTransformer(\n",
        "    [(\n",
        "        \"only numeric\", \n",
        "        StandardScaler(), \n",
        "        numerical_columns \n",
        "    )], \n",
        "    remainder = \"passthrough\"\n",
        ")"
      ],
      "execution_count": 22,
      "outputs": []
    },
    {
      "cell_type": "markdown",
      "metadata": {
        "id": "G_AjTjuGnt0T"
      },
      "source": [
        "Fit your instance `ct` of `ColumnTransformer` to the training data and at the same time transform it by using the `ColumnTransformer.fit_transform()` method. Assign the result to a variable called `features_train_scaled`."
      ]
    },
    {
      "cell_type": "code",
      "metadata": {
        "id": "GSxmWL1xn9zf"
      },
      "source": [
        "features_train_scaled = ct.fit_transform(features_train) "
      ],
      "execution_count": 23,
      "outputs": []
    },
    {
      "cell_type": "markdown",
      "metadata": {
        "id": "8C1rp9tHod7K"
      },
      "source": [
        "Transform your test data instance `features_test` using the trained `ColumnTransformer` instance `ct`. Assign the result to a variable called `features_test_scaled`."
      ]
    },
    {
      "cell_type": "code",
      "metadata": {
        "id": "_cJyCs2uo2Nz"
      },
      "source": [
        "features_test_scaled = ct.transform(features_test)  "
      ],
      "execution_count": 24,
      "outputs": []
    },
    {
      "cell_type": "markdown",
      "metadata": {
        "id": "8QvE06DDpbM9"
      },
      "source": [
        "# Building the model\n",
        "Create an instance of the `tensorflow.keras.models.Sequential` model called `my_model`."
      ]
    },
    {
      "cell_type": "code",
      "metadata": {
        "id": "blCw2iJXphzf"
      },
      "source": [
        "from tensorflow.keras.models import Sequential\n",
        "\n",
        "my_model = Sequential()"
      ],
      "execution_count": 27,
      "outputs": []
    },
    {
      "cell_type": "markdown",
      "metadata": {
        "id": "dgvVZDh1qKBu"
      },
      "source": [
        "Create the input layer to the network model using `tf.keras.layers.InputLayer` with the shape corresponding to the number of features in your dataset. Assign the resulting input layer to a variable called `input`."
      ]
    },
    {
      "cell_type": "code",
      "metadata": {
        "id": "KuAD3k0aqo2B"
      },
      "source": [
        "from tensorflow.keras.layers import InputLayer\n",
        "\n",
        "input = InputLayer(input_shape = (features.shape[1], ))"
      ],
      "execution_count": 28,
      "outputs": []
    },
    {
      "cell_type": "markdown",
      "metadata": {
        "id": "irweBvUhsSSt"
      },
      "source": [
        "Add the input layer from the previous step to the model instance `my_model`."
      ]
    },
    {
      "cell_type": "code",
      "metadata": {
        "id": "B8p7oHmHsVXz"
      },
      "source": [
        "my_model.add(input)"
      ],
      "execution_count": 29,
      "outputs": []
    },
    {
      "cell_type": "markdown",
      "metadata": {
        "id": "ZcC39SkvsrV6"
      },
      "source": [
        "Add one `keras.layers.Dense` hidden layer with any number of hidden units you wish. Use the `relu` activation function."
      ]
    },
    {
      "cell_type": "code",
      "metadata": {
        "id": "RbTS014Tszh2"
      },
      "source": [
        "from tensorflow.keras.layers import Dense\n",
        "\n",
        "my_model.add(\n",
        "    Dense(\n",
        "        64, \n",
        "        activation = \"relu\" \n",
        "    )\n",
        ")"
      ],
      "execution_count": 30,
      "outputs": []
    },
    {
      "cell_type": "markdown",
      "metadata": {
        "id": "ZhTxB-GjtaJv"
      },
      "source": [
        "Add a `keras.layers.Dense` output layer with one neuron since you need a single output for a regression prediction."
      ]
    },
    {
      "cell_type": "code",
      "metadata": {
        "id": "f8MBIosgtdmX"
      },
      "source": [
        "my_model.add(Dense(1))"
      ],
      "execution_count": 31,
      "outputs": []
    },
    {
      "cell_type": "markdown",
      "metadata": {
        "id": "BfehHxvwuBlR"
      },
      "source": [
        "\n",
        "Print the summary of the model using the `Sequential.summary()` method."
      ]
    },
    {
      "cell_type": "code",
      "metadata": {
        "id": "8Gq3Am1AuFvd",
        "outputId": "96732ed9-f11e-4bb0-9815-0770f9a0ec3c",
        "colab": {
          "base_uri": "https://localhost:8080/"
        }
      },
      "source": [
        "print(my_model.summary())"
      ],
      "execution_count": 32,
      "outputs": [
        {
          "output_type": "stream",
          "text": [
            "Model: \"sequential\"\n",
            "_________________________________________________________________\n",
            "Layer (type)                 Output Shape              Param #   \n",
            "=================================================================\n",
            "dense (Dense)                (None, 64)                1408      \n",
            "_________________________________________________________________\n",
            "dense_1 (Dense)              (None, 1)                 65        \n",
            "=================================================================\n",
            "Total params: 1,473\n",
            "Trainable params: 1,473\n",
            "Non-trainable params: 0\n",
            "_________________________________________________________________\n",
            "None\n"
          ],
          "name": "stdout"
        }
      ]
    },
    {
      "cell_type": "markdown",
      "metadata": {
        "id": "kXbqHKzduXBY"
      },
      "source": [
        "# Initializing the optimizer and compiling the model\n",
        "Create an instance of the `Adam` optimizer with the learning rate equal to 0.01."
      ]
    },
    {
      "cell_type": "code",
      "metadata": {
        "id": "tE7Zc-3puebX"
      },
      "source": [
        "from tensorflow.keras.optimizers import Adam\n",
        "\n",
        "opt = Adam(learning_rate = 0.01)"
      ],
      "execution_count": 33,
      "outputs": []
    },
    {
      "cell_type": "markdown",
      "metadata": {
        "id": "hgeIeauhvO2q"
      },
      "source": [
        "Once your optimizer is initialized, compile the model using the `Sequential.compile()` method.\n",
        "\n",
        "Assign the following parameters:\n",
        "\n",
        "* For `loss` use the Mean Squared Error (`mse`)\n",
        "* For `metrics` use the Mean Absolute Error (`mae`)\n",
        "* For `opt` (the optimizer parameters) use the instance of the optimizer you created in the previous step."
      ]
    },
    {
      "cell_type": "code",
      "metadata": {
        "id": "FtuzwwDwvkLV"
      },
      "source": [
        "my_model.compile(\n",
        "    loss = \"mse\",  \n",
        "    metrics = [\"mae\"], \n",
        "    optimizer = opt\n",
        ")"
      ],
      "execution_count": 34,
      "outputs": []
    },
    {
      "cell_type": "markdown",
      "metadata": {
        "id": "8TO6aw1mvyWN"
      },
      "source": [
        "# Fit and evaluate the model\n",
        "Train your model with the `Sequential.fit()` method by passing it the following parameters:\n",
        "\n",
        "* your preprocessed training data\n",
        "* training labels\n",
        "* number of epochs equal to 40\n",
        "* batch size equal to 1\n",
        "* verbose set to 1"
      ]
    },
    {
      "cell_type": "code",
      "metadata": {
        "id": "LhgFgBi4wAJB",
        "outputId": "22f0c191-fb56-4608-9d66-48af5d7632ff",
        "colab": {
          "base_uri": "https://localhost:8080/"
        }
      },
      "source": [
        "my_model.fit(\n",
        "    features_train_scaled,\n",
        "    labels_train,\n",
        "    epochs = 40,\n",
        "    batch_size = 1,\n",
        "    verbose = 1\n",
        ")"
      ],
      "execution_count": 35,
      "outputs": [
        {
          "output_type": "stream",
          "text": [
            "Epoch 1/40\n",
            "1968/1968 [==============================] - 3s 2ms/step - loss: 167.7844 - mae: 6.8683\n",
            "Epoch 2/40\n",
            "1968/1968 [==============================] - 3s 2ms/step - loss: 30.7954 - mae: 4.0207\n",
            "Epoch 3/40\n",
            "1968/1968 [==============================] - 3s 2ms/step - loss: 23.5166 - mae: 3.6055\n",
            "Epoch 4/40\n",
            "1968/1968 [==============================] - 3s 2ms/step - loss: 22.9636 - mae: 3.3925\n",
            "Epoch 5/40\n",
            "1968/1968 [==============================] - 3s 2ms/step - loss: 22.3851 - mae: 3.2759\n",
            "Epoch 6/40\n",
            "1968/1968 [==============================] - 3s 2ms/step - loss: 18.6724 - mae: 3.1143\n",
            "Epoch 7/40\n",
            "1968/1968 [==============================] - 3s 2ms/step - loss: 18.0762 - mae: 3.0505\n",
            "Epoch 8/40\n",
            "1968/1968 [==============================] - 3s 2ms/step - loss: 19.9622 - mae: 3.0616\n",
            "Epoch 9/40\n",
            "1968/1968 [==============================] - 3s 2ms/step - loss: 15.2619 - mae: 2.7682\n",
            "Epoch 10/40\n",
            "1968/1968 [==============================] - 3s 2ms/step - loss: 14.0126 - mae: 2.7418\n",
            "Epoch 11/40\n",
            "1968/1968 [==============================] - 3s 2ms/step - loss: 16.0582 - mae: 2.8149\n",
            "Epoch 12/40\n",
            "1968/1968 [==============================] - 3s 2ms/step - loss: 12.6937 - mae: 2.6343\n",
            "Epoch 13/40\n",
            "1968/1968 [==============================] - 3s 2ms/step - loss: 13.0517 - mae: 2.5914\n",
            "Epoch 14/40\n",
            "1968/1968 [==============================] - 3s 2ms/step - loss: 14.5861 - mae: 2.6894\n",
            "Epoch 15/40\n",
            "1968/1968 [==============================] - 3s 2ms/step - loss: 12.4118 - mae: 2.5656\n",
            "Epoch 16/40\n",
            "1968/1968 [==============================] - 3s 2ms/step - loss: 13.0267 - mae: 2.5973\n",
            "Epoch 17/40\n",
            "1968/1968 [==============================] - 3s 2ms/step - loss: 10.5099 - mae: 2.4195\n",
            "Epoch 18/40\n",
            "1968/1968 [==============================] - 3s 2ms/step - loss: 10.5270 - mae: 2.3873\n",
            "Epoch 19/40\n",
            "1968/1968 [==============================] - 3s 2ms/step - loss: 12.0544 - mae: 2.3916\n",
            "Epoch 20/40\n",
            "1968/1968 [==============================] - 3s 2ms/step - loss: 9.5676 - mae: 2.3198\n",
            "Epoch 21/40\n",
            "1968/1968 [==============================] - 3s 2ms/step - loss: 11.2429 - mae: 2.4308\n",
            "Epoch 22/40\n",
            "1968/1968 [==============================] - 3s 2ms/step - loss: 9.2236 - mae: 2.2461\n",
            "Epoch 23/40\n",
            "1968/1968 [==============================] - 3s 2ms/step - loss: 9.1630 - mae: 2.2793\n",
            "Epoch 24/40\n",
            "1968/1968 [==============================] - 3s 2ms/step - loss: 10.6689 - mae: 2.3576\n",
            "Epoch 25/40\n",
            "1968/1968 [==============================] - 3s 2ms/step - loss: 10.2083 - mae: 2.3263\n",
            "Epoch 26/40\n",
            "1968/1968 [==============================] - 3s 2ms/step - loss: 8.7432 - mae: 2.2021\n",
            "Epoch 27/40\n",
            "1968/1968 [==============================] - 3s 2ms/step - loss: 10.3544 - mae: 2.3887\n",
            "Epoch 28/40\n",
            "1968/1968 [==============================] - 3s 2ms/step - loss: 10.3113 - mae: 2.2653\n",
            "Epoch 29/40\n",
            "1968/1968 [==============================] - 3s 2ms/step - loss: 9.1707 - mae: 2.1981\n",
            "Epoch 30/40\n",
            "1968/1968 [==============================] - 3s 2ms/step - loss: 8.7479 - mae: 2.1455\n",
            "Epoch 31/40\n",
            "1968/1968 [==============================] - 3s 2ms/step - loss: 8.7102 - mae: 2.1532\n",
            "Epoch 32/40\n",
            "1968/1968 [==============================] - 3s 2ms/step - loss: 9.3323 - mae: 2.1360\n",
            "Epoch 33/40\n",
            "1968/1968 [==============================] - 3s 2ms/step - loss: 9.4706 - mae: 2.1795\n",
            "Epoch 34/40\n",
            "1968/1968 [==============================] - 3s 2ms/step - loss: 8.1564 - mae: 2.1230\n",
            "Epoch 35/40\n",
            "1968/1968 [==============================] - 3s 2ms/step - loss: 8.2423 - mae: 2.1077\n",
            "Epoch 36/40\n",
            "1968/1968 [==============================] - 3s 2ms/step - loss: 9.4169 - mae: 2.1942\n",
            "Epoch 37/40\n",
            "1968/1968 [==============================] - 3s 2ms/step - loss: 7.7024 - mae: 2.0299\n",
            "Epoch 38/40\n",
            "1968/1968 [==============================] - 3s 2ms/step - loss: 8.0426 - mae: 2.0745\n",
            "Epoch 39/40\n",
            "1968/1968 [==============================] - 3s 2ms/step - loss: 8.3321 - mae: 2.0873\n",
            "Epoch 40/40\n",
            "1968/1968 [==============================] - 3s 2ms/step - loss: 7.4459 - mae: 1.9781\n"
          ],
          "name": "stdout"
        },
        {
          "output_type": "execute_result",
          "data": {
            "text/plain": [
              "<tensorflow.python.keras.callbacks.History at 0x7f2e903a5ac8>"
            ]
          },
          "metadata": {
            "tags": []
          },
          "execution_count": 35
        }
      ]
    },
    {
      "cell_type": "markdown",
      "metadata": {
        "id": "6nxTtH31xd1D"
      },
      "source": [
        "Using the `Sequential.evaluate()` method, evaluate your trained model on the preprocessed test data set, and with the test labels. Set verbose to 0. Store the result of the evaluation in two variables: `res_mse` and `res_mae`."
      ]
    },
    {
      "cell_type": "code",
      "metadata": {
        "id": "3Ul4FahdxsTV"
      },
      "source": [
        "res_mse, res_mae = my_model.evaluate(\n",
        "  features_test_scaled, \n",
        "  labels_test, \n",
        "  verbose = 0\n",
        ")"
      ],
      "execution_count": 37,
      "outputs": []
    },
    {
      "cell_type": "markdown",
      "metadata": {
        "id": "bPe5OJ5PyRfU"
      },
      "source": [
        "Print your final loss (RMSE) and final metric (MAE) to check the predictive performance on the test set."
      ]
    },
    {
      "cell_type": "code",
      "metadata": {
        "id": "QY74P-XlyV2w",
        "outputId": "0bd95224-718a-4207-f528-37179da0918b",
        "colab": {
          "base_uri": "https://localhost:8080/"
        }
      },
      "source": [
        "print(\"RMS: \", res_mse)\n",
        "print(\"MAE: \", res_mae)"
      ],
      "execution_count": 38,
      "outputs": [
        {
          "output_type": "stream",
          "text": [
            "RMS:  7.8520588874816895\n",
            "MAE:  2.0885465145111084\n"
          ],
          "name": "stdout"
        }
      ]
    }
  ]
}