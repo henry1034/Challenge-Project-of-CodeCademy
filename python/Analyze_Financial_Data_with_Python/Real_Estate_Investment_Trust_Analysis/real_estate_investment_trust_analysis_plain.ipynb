{
 "cells": [
  {
   "cell_type": "markdown",
   "metadata": {},
   "source": [
    "# REIT STOCK ANALYSIS"
   ]
  },
  {
   "cell_type": "markdown",
   "metadata": {},
   "source": [
    "In this project, you will analyze Real Estate Investment Trusts, commonly known as REITs. REITs are companies that own or operate real estate that produces income. REITs, like the stocks of regular public companies, are traded on different stock exchanges. Investing in a REIT allows you to invest in portfolios of real estate assets the same way you can invest in a company by buying its stock.\n",
    "\n",
    "Using financial statistics and NumPy you will analyze two REITs: [Sabra Health Care REIT Inc. (NASDAQ: SBRA)](https://finance.yahoo.com/quote/SBRA/), which invests in health care real estate, and [Equity Residential (NASDAQ:EQR)](https://finance.yahoo.com/quote/EQR/), which invests in rental apartment properties."
   ]
  },
  {
   "cell_type": "markdown",
   "metadata": {},
   "source": [
    "The time period for analysis we will be using is `Jan 1 2018` to `Dec 31 2018`. The REIT data for SBRA (`SBRA.csv`) and EQR (`EQR.csv`) can be found in the same folder as this file."
   ]
  },
  {
   "cell_type": "markdown",
   "metadata": {},
   "source": [
    "1. Import the numpy module as np"
   ]
  },
  {
   "cell_type": "code",
   "execution_count": 57,
   "metadata": {},
   "outputs": [],
   "source": [
    "import numpy as np\n",
    "from math import log, sqrt\n",
    "\n",
    "def display_as_percentage(val):\n",
    "  return '{:.2f}%'.format(val * 100)\n"
   ]
  },
  {
   "cell_type": "markdown",
   "metadata": {},
   "source": [
    "2. Load the adjusted closings for SBRA"
   ]
  },
  {
   "cell_type": "code",
   "execution_count": 58,
   "metadata": {},
   "outputs": [
    {
     "name": "stdout",
     "output_type": "stream",
     "text": [
      "[15.36233  16.012386 16.528606 16.882313 17.427212 17.522808 17.513248\n",
      " 17.427212 17.264698 17.417652 17.847836 18.105947 18.344938 18.306698\n",
      " 18.497892 18.77512  19.09059  19.386936 19.377378 19.55901  19.635489\n",
      " 19.425177 19.664167 19.539892 19.635489 19.80756  19.654606 19.60681\n",
      " 19.358257 19.32958  19.339357 19.544678 19.388243 19.241585 19.222029\n",
      " 19.143812 18.635395 18.381187 18.038986 17.716337 17.31547  17.247028\n",
      " 17.256807 17.149258 17.119926 17.071039 17.383911 17.608788 17.941214\n",
      " 17.970543 17.892326 17.726112 17.765223 17.980322 18.58651  18.293192\n",
      " 18.449629 18.762501 18.870049 19.192698 19.036261 18.899382 18.879826\n",
      " 18.694059 18.762501 18.958044 18.870049 18.801609 19.04604  19.241585\n",
      " 19.241585 19.222029 18.821163 18.361633 18.713614 18.410519 18.713614\n",
      " 18.909159 18.909159 19.153589 18.967821 19.124256 19.094927 19.143812\n",
      " 19.554455 19.456682 19.143812 19.319801 18.840717 19.310024 19.241585\n",
      " 19.417574 19.574011 19.75     19.709999 19.530001 19.73     19.700001\n",
      " 19.709999 19.75     19.540001 19.219999 19.370001 19.290001 19.24\n",
      " 19.1      19.32     19.450001 19.49     19.32     19.290001 19.32\n",
      " 19.48     19.43     19.790001 19.58     20.139999 20.049999 19.57\n",
      " 19.309999 19.26     18.870001 19.450001 19.690001]\n"
     ]
    }
   ],
   "source": [
    "# The columns in the dataset: Date,Open,High,Low,Close,Adj Close,Volume\n",
    "SBRA_prices = np.loadtxt(\n",
    "    \"SBRA.csv\", \n",
    "    delimiter = \",\", \n",
    "    skiprows = 1,\n",
    "    usecols = 5 # we need only the Close price\n",
    ")\n",
    "print(SBRA_prices)"
   ]
  },
  {
   "cell_type": "markdown",
   "metadata": {},
   "source": [
    "3. Load the adjusted closings for EQR"
   ]
  },
  {
   "cell_type": "code",
   "execution_count": 59,
   "metadata": {},
   "outputs": [
    {
     "name": "stdout",
     "output_type": "stream",
     "text": [
      "[62.800674 63.19466  63.588642 64.120514 65.322166 65.322166 66.395767\n",
      " 66.533653 66.61245  67.429955 68.040634 68.858147 69.064987 69.340775\n",
      " 69.28167  69.291527 69.606705 70.640915 71.281136 70.916695 71.468269\n",
      " 70.936401 71.694817 71.852402 71.901649 72.433533 72.335037 72.354729\n",
      " 71.448578 72.187286 72.019852 72.10849  72.423676 71.586472 72.748718\n",
      " 73.113152 72.394127 72.610817 72.226692 72.581276 72.394127 72.866913\n",
      " 72.817657 72.443382 72.325188 72.532021 73.319992 73.920807 73.782921\n",
      " 73.930656 73.635178 72.866913 72.394127 72.512329 73.664719 73.841385\n",
      " 73.910858 74.575829 74.41703  75.062149 74.754478 74.41703  75.121704\n",
      " 74.823952 74.714775 75.042297 74.992676 74.823952 75.776741 76.114189\n",
      " 76.868484 77.017357 75.1614   73.732208 74.506355 73.613106 74.397179\n",
      " 74.903351 75.399597 75.627869 74.734627 75.846214 75.945465 75.82637\n",
      " 76.014938 75.637794 74.208603 73.881088 74.258232 75.260651 75.270569\n",
      " 75.240791 75.61795  76.233284 76.044716 75.181252 75.786667 76.064568\n",
      " 76.531036 76.610435 75.637794 75.101845 75.250725 75.995094 75.667564\n",
      " 74.913277 76.669983 77.205933 77.394508 77.245636 77.215858 77.066986\n",
      " 77.344879 77.672401 78.079323 77.463982 77.841125 78.238121 77.44413\n",
      " 77.682327 76.332542 75.082001 75.610001 75.919998]\n"
     ]
    }
   ],
   "source": [
    "EQR_prices = np.loadtxt(\n",
    "    \"EQR.csv\", \n",
    "    delimiter = \",\", \n",
    "    skiprows = 1,\n",
    "    usecols = 5 # we need only the Close price\n",
    ")\n",
    "print(EQR_prices)"
   ]
  },
  {
   "cell_type": "markdown",
   "metadata": {},
   "source": [
    "## Simple Rate of Return Function"
   ]
  },
  {
   "cell_type": "markdown",
   "metadata": {},
   "source": [
    "4. To calculate the daily rate of return for the SBRA stock, we need the daily adjusted closing price. The formula we are using for the daily rate of return is out[n] = a[n+1] - a[n] "
   ]
  },
  {
   "cell_type": "markdown",
   "metadata": {},
   "source": [
    "5. Create a function that returns the daily rate of return\n",
    "\n",
    "    step 1. define a function named `rate_of_return`\n",
    "    \n",
    "    step 2. create parameter for  `adj_closings`\n",
    "    \n",
    "    step 3. Within the function use np.diff() and set it to the variable `daily_simple_ror`\n",
    "    \n",
    "    step 4. return `daily_simple_ror`"
   ]
  },
  {
   "cell_type": "code",
   "execution_count": 60,
   "metadata": {},
   "outputs": [],
   "source": [
    "def calculate_simple_return(start_price, end_price, dividend = 0):\n",
    "  return (end_price - start_price + dividend) / start_price\n",
    "\n",
    "def get_simple_returns(prices):\n",
    "  returns = []\n",
    "  for i in range(len(prices) - 1):\n",
    "    returns.append(calculate_simple_return(prices[i], prices[i + 1]))\n",
    "  return returns\n"
   ]
  },
  {
   "cell_type": "markdown",
   "metadata": {},
   "source": [
    "## Calculate Daily Rate of Return for SBRA"
   ]
  },
  {
   "cell_type": "markdown",
   "metadata": {},
   "source": [
    "6. Call the function `simple_rate_of_return` with the arguments `adj_closings_sbra`. Then print the results. "
   ]
  },
  {
   "cell_type": "code",
   "execution_count": 61,
   "metadata": {},
   "outputs": [
    {
     "name": "stdout",
     "output_type": "stream",
     "text": [
      "[0.04231493529952809, 0.03223879314425724, 0.02139968730575343, 0.03227632374781826, 0.005485444258094781, -0.0005455746590386915, -0.004912623860519762, -0.009325301143981125, 0.00885934987104907, 0.024698162530747574, 0.01446175323439769, 0.013199585749367245, -0.0020844987320206955, 0.010443936967769907, 0.014987005005759625, 0.016802555722679677, 0.015523145172569303, -0.0004930124079430809, 0.009373404389386452, 0.003910167232390549, -0.010710810410680288, 0.012303105397701013, -0.006319871062933955, 0.0048924016570819065, 0.008763265330443209, -0.007722001094531462, -0.0024317963941888087, -0.012676870944330116, -0.0014813833704138905, 0.0005058050925058745, 0.010616743876231325, -0.008003969162347002, -0.0075642749061892115, -0.0010163403898380233, -0.004069133388571969, -0.026557772297387868, -0.013641138274772199, -0.018616915218804927, -0.017886204911961346, -0.02262696854321512, -0.0039526504333986315, 0.0005669962384242784, -0.006232265331587633, -0.0017103947004587683, -0.0028555614083846255, 0.018327648363992508, 0.012935926788856623, 0.018878414573450377, 0.0016347277280121962, -0.0043525117744076325, -0.009289680950369453, 0.002206406007137851, 0.012107869403046737, 0.03371396797009528, -0.015781230580673794, 0.008551651346577479, 0.016958172980063645, 0.005732071646525232, 0.017098471763374774, -0.008150860290721002, -0.00719043513849702, -0.0010347428291569486, -0.009839444494880514, 0.0036611631534917595, 0.01042201143653507, -0.004641565342922475, -0.0036269116206323836, 0.013000536283889443, 0.01026696363128499, 0.0, -0.0010163403898380233, -0.02085451020805351, -0.024415600672498153, 0.019169373442982904, -0.01619649737351636, 0.016463142619716424, 0.010449344525327881, 0.0, 0.012926539990488274, -0.009698861137721995, 0.008247389091240282, -0.001533602143790619, 0.0025601040527676315, 0.021450430039743406, -0.005000037075950217, -0.01608033682207481, 0.009192996671718136, -0.024797563908655, 0.024909190027109743, -0.0035442213847066127, 0.00914628394698242, 0.00805646472623204, 0.008990952339814322, -0.0020253670886076036, -0.009132319083324215, 0.010240603674316342, -0.0015204764318297065, 0.0005075126645932407, 0.002029477525595013, -0.010632860759493662, -0.01637676477089222, 0.007804474911783142, -0.0041300978766081785, -0.0025920682948643568, -0.007276507276507122, 0.011518324607329782, 0.006728830227743273, 0.002056503750308194, -0.00872242175474593, -0.0015527432712215377, 0.0015551580323920206, 0.00828157349896481, -0.0025667351129363813, 0.018528100874935692, -0.01061146990341243, 0.028600561797752874, -0.004468719189112167, -0.023940100944643408, -0.01328569238630552, -0.0025892802998073528, -0.020249169262720825, 0.030736617343051647, 0.01233933098512429]\n"
     ]
    }
   ],
   "source": [
    "SBRA_daily_simple_returns = get_simple_returns(SBRA_prices)\n",
    "print(SBRA_daily_simple_returns)"
   ]
  },
  {
   "cell_type": "markdown",
   "metadata": {},
   "source": [
    "## Calculate Daily Rate of Return for EQR"
   ]
  },
  {
   "cell_type": "markdown",
   "metadata": {},
   "source": [
    "7. Call the function `simple_rate_of_return` with the arguments `adj_closings_eqr`. Then print the results. "
   ]
  },
  {
   "cell_type": "code",
   "execution_count": 62,
   "metadata": {
    "scrolled": true
   },
   "outputs": [
    {
     "name": "stdout",
     "output_type": "stream",
     "text": [
      "[0.00627359508912274, 0.0062344191740251655, 0.008364261026363794, 0.018740523508591896, 0.0, 0.016435477660064285, 0.0020767287770016214, 0.0011843179571095314, 0.01227255565588732, 0.009056494253926024, 0.012015070288733718, 0.003003856609734207, 0.0039931666098770345, -0.000852384473637455, 0.00014227428409269974, 0.004548579222391838, 0.014857907725987052, 0.009063033795640909, -0.0051127271596793766, 0.007777773625801403, -0.007442015980546595, 0.010691492510312116, 0.002197997102077789, 0.000685391143917614, 0.007397382499530586, -0.0013598121742866974, 0.0002722332194287294, -0.012523728753099306, 0.01033901612429575, -0.002319438910613707, 0.001230743989865504, 0.004370997090633808, -0.011559810910454198, 0.016235553555425893, 0.0050094903390600345, -0.009834413923229599, 0.0029931986057377255, -0.005290189752306429, 0.004909320781297899, -0.0025784749223753674, 0.00653072313448851, -0.0006759720972397959, -0.005139893473913851, -0.0016315361974680114, 0.002859764429509719, 0.010863767328363826, 0.008194422607138272, -0.0018653205449988477, 0.0020022926443912037, -0.003996691169627966, -0.010433396385624268, -0.006488349520172472, 0.0016327567566357501, 0.015892331909515847, 0.0023982444024526492, 0.0009408409660788745, 0.008996932494005065, -0.0021293628529426324, 0.008668969992487046, -0.004098883446569044, -0.004514084092728319, 0.009469257238564845, -0.0039635948620120294, -0.0014591183315204002, 0.00438363094849716, -0.0006612404201859907, -0.002249873040935323, 0.012733743333952684, 0.004453187027401916, 0.009910044499061786, 0.0019367235081676508, -0.024097905618859442, -0.01901497311119804, 0.010499441438129715, -0.011988896786052644, 0.01065126908243747, 0.0068036450683164554, 0.006625150856067832, 0.003027496287546524, -0.011811016386036221, 0.014873788023321507, 0.0013085821264591441, -0.0015681647350503617, 0.0024868393409839297, -0.004961445867389924, -0.018895196758382495, -0.004413437078178, 0.00510474344936557, 0.01349909596554883, 0.00013178201182446566, -0.00039561279256429164, 0.005012693181282369, 0.00813740652847643, -0.0024735652211966054, -0.0113546876813899, 0.008052738999345124, 0.00366688509998731, 0.006132526776461889, 0.001037474522101009, -0.012695933654468819, -0.007085730184040035, 0.0019823747339363694, 0.009891851540300665, -0.0043098834774781105, -0.009968432444845259, 0.023449861898312212, 0.006990349795695138, 0.002442493635819415, -0.0019235473400773763, -0.00038549750564559283, -0.0019279977436758812, 0.003605863086432444, 0.004234566066099704, 0.005238952250233757, -0.007880972533534912, 0.004868623975462606, 0.00510008045233161, -0.010148390450225734, 0.0030757269789201524, -0.017375702455463223, -0.01638280302521562, 0.0070323112459401765, 0.004099947042720048]\n"
     ]
    }
   ],
   "source": [
    "EQR_daily_returns = get_simple_returns(EQR_prices)\n",
    "print(EQR_daily_returns)"
   ]
  },
  {
   "cell_type": "markdown",
   "metadata": {},
   "source": [
    "## Calculate Average Daily Return for SBRA"
   ]
  },
  {
   "cell_type": "markdown",
   "metadata": {},
   "source": [
    "8. Use `np.mean()` with the argument `daily_simple_returns_sbra` to calculate the average daily return for SBRA. Then set it to the variable name `average_daily_simple_return_sbra`"
   ]
  },
  {
   "cell_type": "code",
   "execution_count": 63,
   "metadata": {},
   "outputs": [
    {
     "name": "stdout",
     "output_type": "stream",
     "text": [
      "0.21%\n"
     ]
    }
   ],
   "source": [
    "def mean(dataset):\n",
    "    return sum(dataset) / len(dataset)\n",
    "\n",
    "SBRA_daily_simple_returns_mean = mean(SBRA_daily_returns)\n",
    "print(display_as_percentage(SBRA_daily_simple_returns_mean))"
   ]
  },
  {
   "cell_type": "markdown",
   "metadata": {},
   "source": [
    "## Calculate Average Daily Return for EQR"
   ]
  },
  {
   "cell_type": "markdown",
   "metadata": {},
   "source": [
    "9. Use `np.mean()` with the argument `daily_simple_returns_eqr` to calculate the average daily return for EQR. Then set it to the variable name `average_daily_simple_return_eqr`"
   ]
  },
  {
   "cell_type": "code",
   "execution_count": 64,
   "metadata": {},
   "outputs": [
    {
     "name": "stdout",
     "output_type": "stream",
     "text": [
      "0.16%\n"
     ]
    }
   ],
   "source": [
    "EQR_daily_simple_returns_mean = mean(EQR_daily_returns)\n",
    "print(display_as_percentage(EQR_daily_simple_returns_mean))"
   ]
  },
  {
   "cell_type": "markdown",
   "metadata": {},
   "source": [
    "## Compare the Average Daily Return between EQR and SBRA"
   ]
  },
  {
   "cell_type": "markdown",
   "metadata": {},
   "source": [
    "10. Based on the average daily simple returns of EQR and SBRA, which stock is more likely to be profitable in the future?"
   ]
  },
  {
   "cell_type": "markdown",
   "metadata": {},
   "source": [
    "#### <span style=\"color: darkred\">The difference is negligible between the two stock's averages daily returns.</span>"
   ]
  },
  {
   "cell_type": "markdown",
   "metadata": {},
   "source": [
    "## Daily Log Returns Function"
   ]
  },
  {
   "cell_type": "markdown",
   "metadata": {},
   "source": [
    "11. Create a function that returns the daily rate of return\n",
    "\n",
    "    step 1. define a function named log_returns\n",
    "    \n",
    "    step 2. create parameter for  `adj_closings`\n",
    "    \n",
    "    step 3. use np.log() to get the log of each adjusted closing price and set it to the variable `log_adj_closings`\n",
    "    \n",
    "    step 4. use np.diff() to get the diff of each daily log adjusted closing price and set it to the variable `daily_log_returns`\n",
    "    \n",
    "    step 5. return `daily_log_returns`"
   ]
  },
  {
   "cell_type": "code",
   "execution_count": 67,
   "metadata": {},
   "outputs": [],
   "source": [
    "def log_returns(adj_closings):\n",
    "    log_adj_closings = np.log(adj_closings)\n",
    "    daily_log_returns = np.diff(log_adj_closings)\n",
    "    return daily_log_returns\n",
    "\n",
    "def calculate_log_return(start_price, end_price):\n",
    "  return log(end_price / start_price)\n",
    "\n",
    "def get_log_returns(prices):\n",
    "  returns = []\n",
    "  for i in range(len(prices) - 1):\n",
    "    returns.append(calculate_log_return(prices[i], prices[i + 1]))\n",
    "  return returns"
   ]
  },
  {
   "cell_type": "markdown",
   "metadata": {},
   "source": [
    "## Calculate Daily Log Returns for SBRA"
   ]
  },
  {
   "cell_type": "markdown",
   "metadata": {},
   "source": [
    "12. Call the function `log_returns` with the arguments `adj_closings_sbra`. Set it to the variable `daily_log_returns_sbra`. Then print the results. "
   ]
  },
  {
   "cell_type": "code",
   "execution_count": 68,
   "metadata": {
    "scrolled": true
   },
   "outputs": [
    {
     "name": "stdout",
     "output_type": "stream",
     "text": [
      "[0.04144413883588614, 0.03173002899880882, 0.021173929088568716, 0.0317663867888373, 0.005470454002562072, -0.0005457235390455668, -0.004924730463516535, -0.009369053982727728, 0.00882033608617509, 0.02439809364416578, 0.01435817945911508, 0.01311323029153639, -0.002086674323373263, 0.010389775835324005, 0.014875809461801717, 0.016662954385896128, 0.015403893676718919, -0.0004931339785191197, 0.009329746636934174, 0.00390254239828566, -0.010768584045808893, 0.012228037283280039, -0.0063399259890760725, 0.004880472751604844, 0.008725090781176599, -0.007751970125266033, -0.0024347580133843544, -0.012757908065982117, -0.0014824817035946776, 0.0005056772162286685, 0.010560781991171235, -0.008036172876989758, -0.007593029128620402, -0.001016857213941156, -0.004077434839298792, -0.026916800869114733, -0.013735033470852448, -0.018792391279645944, -0.018048096396299687, -0.022886886651997958, -0.003960482802012395, 0.0005668355567914583, -0.006251766965629616, -0.0017118590955083354, -0.002859646302159819, 0.018161721318582083, 0.012852972317311915, 0.018702428744204497, 0.0016333930150367328, -0.004362011528998065, -0.009333099139732917, 0.002203975467917979, 0.012035155504145531, 0.033158111096630534, -0.015907079995133102, 0.008515293111122712, 0.01681598837410473, 0.005715705834068489, 0.01695393810514717, -0.008184260168098173, -0.0072164109102043185, -0.0010352785451022274, -0.00988817172491603, 0.0036544774091051718, 0.010368076690704359, -0.004652370856635957, -0.003633504811358659, 0.012916754668073934, 0.01021461635369335, 0.0, -0.001016857213941156, -0.02107503687823167, -0.024718603617445923, 0.01898795577965489, -0.016329094323836783, 0.016329094323836738, 0.010395127486109044, 0.0, 0.012843705352231742, -0.009746201438094067, 0.008213565222974189, -0.0015347793152540583, 0.0025568325687571974, 0.02122360746053498, -0.005012579085806487, -0.0162110283747285, 0.009150998275667607, -0.025110202775388734, 0.024604013570091458, -0.003550517017130311, 0.009104709997782349, 0.00802418467379022, 0.008950774373701002, -0.002027420918170472, -0.009174274337097192, 0.010188523942660805, -0.0015216335291611544, 0.0005073839235975112, 0.0020274209181704002, -0.010689793555422817, -0.016512346278699224, 0.007774177532120397, -0.004138650287161118, -0.0025954335204078052, -0.007303110184976047, 0.011452493731787729, 0.006706292693963804, 0.0020543920411336186, -0.008760684735097392, -0.0015539500264038293, 0.0015539500264038126, 0.008247469430017045, -0.002570034825040347, 0.01835854675569531, -0.010668173042679861, 0.028199200535617842, -0.004478733760716812, -0.02423132246928031, -0.01337473675420211, -0.002592638283803136, -0.02045699399535155, 0.030273709103707757, 0.012263821959898709]\n"
     ]
    }
   ],
   "source": [
    "SBRA_daily_log_returns = get_log_returns(SBRA_prices)\n",
    "print(SBRA_daily_log_returns)"
   ]
  },
  {
   "cell_type": "markdown",
   "metadata": {},
   "source": [
    "## Calculate Daily Log Returns for EQR"
   ]
  },
  {
   "cell_type": "markdown",
   "metadata": {},
   "source": [
    "13. Call the function `log_returns` with the arguments `adj_closings_eqr`. Set it to the variable `daily_log_returns_eqr`. Then print the results. "
   ]
  },
  {
   "cell_type": "code",
   "execution_count": 69,
   "metadata": {},
   "outputs": [
    {
     "name": "stdout",
     "output_type": "stream",
     "text": [
      "[0.006253998011497708, 0.006215065580098657, 0.008329474436577805, 0.01856708345221491, 0.0, 0.01630187706924496, 0.002074575356659595, 0.00118361720581816, 0.012197858374777283, 0.009015730144929514, 0.011943462344052897, 0.0029993540469167904, 0.003985215080914389, -0.0008527479598509106, 0.0001422641640665473, 0.004538265698681173, 0.014748610305711679, 0.009022210971881698, -0.005125841869570557, 0.007747682670893328, -0.007469845941453767, 0.010634742639794088, 0.0021955850402706964, 0.000685156370675653, 0.007370156052790189, -0.0013607375578550737, 0.0002721961706896069, -0.01260281161262652, 0.010285934061116874, -0.0023221329756627986, 0.001229987245323487, 0.0043614720287758185, -0.011627144940012494, 0.01610516633522761, 0.004996984589895913, -0.009883091176267712, 0.002988727905698032, -0.005304232353358619, 0.004897309361930499, -0.0025818049142701197, 0.006509490355623064, -0.0006762006693893212, -0.005153148164347367, -0.0016328686020913163, 0.0028556830824893217, 0.010805180541632589, 0.008161030620877642, -0.001867062421809457, 0.002000290728310146, -0.0040046992842096285, -0.010488205831462798, -0.006509490355623185, 0.00163142525846721, 0.015767371010800817, 0.0023953732039865045, 0.0009403986526265478, 0.008956701222158017, -0.0021316331694800493, 0.008631610230629428, -0.004107306895025143, -0.004524303335604262, 0.009424704853413589, -0.003971470722161479, -0.001460183881307987, 0.004374050825297054, -0.0006614591360538113, -0.00225240780793507, 0.012653350968819189, 0.004443300928949034, 0.00986126203424459, 0.0019348504771664232, -0.02439301073482085, -0.01919808264355004, 0.0104447051034736, -0.012061343226618957, 0.010594943919216584, 0.006780604721731396, 0.006603300996784571, 0.0030229226494506776, -0.011881320564255502, 0.014764257986996664, 0.001307726679069065, -0.0015693955923281374, 0.0024837522729989417, -0.004973794702253723, -0.019075992053073466, -0.004423205042391668, 0.00509175841794581, 0.013408794916968066, 0.00013177332933797894, -0.00039569106795027864, 0.0050001714624076585, 0.008104476359467856, -0.002476629537882776, -0.01141964432392463, 0.008020488716368963, 0.0036601784667877973, 0.0061137993593873485, 0.0010369367173492401, -0.0127772157207979, -0.0071109531897242, 0.0019804124220739404, 0.009843247437073025, -0.0043191977973290096, -0.010018449942514265, 0.02317913800999044, 0.006966030568059093, 0.0024395155964812313, -0.0019253997330870686, -0.0003855718289105366, -0.0019298587236872711, 0.003599377548099714, 0.004225625521879167, 0.005225276682862103, -0.007912191529784238, 0.0048568105536447095, 0.005087119092660526, -0.010200236431694128, 0.0030710066072685287, -0.01752843174491346, -0.016518485085348995, 0.0070076998611240705, 0.004091565162210543]\n"
     ]
    }
   ],
   "source": [
    "EQR_daily_log_returns = get_log_returns(EQR_prices)\n",
    "print(EQR_daily_log_returns)"
   ]
  },
  {
   "cell_type": "markdown",
   "metadata": {},
   "source": [
    "## Annualize Daily Log Return Function"
   ]
  },
  {
   "cell_type": "markdown",
   "metadata": {},
   "source": [
    "14. Create a function that returns the daily rate of return\n",
    "\n",
    "    step 1. define a function named `annualize_log_return`\n",
    "    \n",
    "    step 2. create parameter for  `daily_log_returns`\n",
    "    \n",
    "    step 3. use `np.mean()` with the argument `daily_log_returns` to calculate the average daily return. Then set it to the variable name `average_daily_log_returns`\n",
    "    \n",
    "    step 4. then multiply `average_daily_log_returns` by 250 and set it to the variable `annualized_log_return`\n",
    "    \n",
    "    step 5. return `annualized_log_return`"
   ]
  },
  {
   "cell_type": "code",
   "execution_count": 72,
   "metadata": {},
   "outputs": [],
   "source": [
    "def annualize_return(log_return, t):\n",
    "  return log_return * t"
   ]
  },
  {
   "cell_type": "markdown",
   "metadata": {},
   "source": [
    "## Calculate Annualize Daily Log Return for SBRA"
   ]
  },
  {
   "cell_type": "markdown",
   "metadata": {},
   "source": [
    "10. Call the function `annualize_log_return` with the arguments `daily_log_returns_sbra`. Set it to the variable `annualized_log_return_sbra`. Then print the results. "
   ]
  },
  {
   "cell_type": "code",
   "execution_count": 76,
   "metadata": {},
   "outputs": [
    {
     "name": "stdout",
     "output_type": "stream",
     "text": [
      "50.45%\n"
     ]
    }
   ],
   "source": [
    "SBRA_annualize_log_returns = annualize_return(mean(SBRA_daily_log_returns), 250)\n",
    "print(display_as_percentage(SBRA_annualize_log_returns))"
   ]
  },
  {
   "cell_type": "markdown",
   "metadata": {},
   "source": [
    "## Calculate Annualize Daily Log Return for EQR"
   ]
  },
  {
   "cell_type": "markdown",
   "metadata": {},
   "source": [
    "11. Call the function `annualize_log_return` with the arguments `daily_log_returns_eqr`. Set it to the variable `annualized_log_return_eqr`. Then print the results. "
   ]
  },
  {
   "cell_type": "code",
   "execution_count": 75,
   "metadata": {},
   "outputs": [
    {
     "name": "stdout",
     "output_type": "stream",
     "text": [
      "38.56%\n"
     ]
    }
   ],
   "source": [
    "EQR_annualize_log_returns = annualize_return(mean(EQR_daily_log_returns), 250)\n",
    "print(display_as_percentage(EQR_annualize_log_returns))"
   ]
  },
  {
   "cell_type": "markdown",
   "metadata": {},
   "source": [
    "## Compare the Annualize Daily Log Return between EQR and SBRA"
   ]
  },
  {
   "cell_type": "markdown",
   "metadata": {},
   "source": [
    "12. Based on the differences between the Annualize Daily Log Return for EQR and SBRA, Which could be more profitable in the future and why?"
   ]
  },
  {
   "cell_type": "markdown",
   "metadata": {},
   "source": [
    "#### <span style=\"color: darkred\">SBRA is more profitable than EQR, the different is 12% in a year.</span>"
   ]
  },
  {
   "cell_type": "markdown",
   "metadata": {},
   "source": [
    "## Calculate Variance of Daily Log Return for SBRA"
   ]
  },
  {
   "cell_type": "markdown",
   "metadata": {},
   "source": [
    "13. Calculate the variance of the daily logarithmetic return for SBRA. Use the function `.var()` with the argument `log_daily_ror`. Set it to the variable `daily_varaince_sbra`. Then print the results. "
   ]
  },
  {
   "cell_type": "code",
   "execution_count": 77,
   "metadata": {},
   "outputs": [
    {
     "name": "stdout",
     "output_type": "stream",
     "text": [
      "0.02%\n"
     ]
    }
   ],
   "source": [
    "def calculate_variance(dataset):\n",
    "  mean = sum(dataset) / len(dataset)\n",
    "  numerator = 0\n",
    "  for data in dataset:\n",
    "    numerator += (data - mean) ** 2\n",
    "  return numerator / len(dataset)\n",
    "\n",
    "SBRA_daily_varaince = calculate_variance(SBRA_daily_log_returns)\n",
    "print(display_as_percentage(SBRA_daily_varaince))"
   ]
  },
  {
   "cell_type": "markdown",
   "metadata": {},
   "source": [
    "## Calculate Variance of Daily Log Return for EQR"
   ]
  },
  {
   "cell_type": "markdown",
   "metadata": {},
   "source": [
    "14. Calculate the variance of the daily logarithmetic return for EQR. Use the function `.var()` with the argument `daily_log_returns_eqr`. Set it to the variable `daily_varaince_eqr`. Then print the results. "
   ]
  },
  {
   "cell_type": "code",
   "execution_count": 78,
   "metadata": {},
   "outputs": [
    {
     "name": "stdout",
     "output_type": "stream",
     "text": [
      "0.01%\n"
     ]
    }
   ],
   "source": [
    "EQR_daily_varaince = calculate_variance(EQR_daily_log_returns)\n",
    "print(display_as_percentage(EQR_daily_varaince))"
   ]
  },
  {
   "cell_type": "markdown",
   "metadata": {},
   "source": [
    "## Compare the Variance of Daily Log Return between EQR and SBRA"
   ]
  },
  {
   "cell_type": "markdown",
   "metadata": {},
   "source": [
    "15. Explain which investment is more riskier based on the Variance of daily log return between EQR and SBRA ?"
   ]
  },
  {
   "cell_type": "markdown",
   "metadata": {},
   "source": [
    "#### <span style=\"color: darkred\">SBRA is more riskier than EQR, the variance is doubled.</span>"
   ]
  },
  {
   "cell_type": "markdown",
   "metadata": {},
   "source": [
    "## Calculate the Daily Standard Deviation for SBRA"
   ]
  },
  {
   "cell_type": "markdown",
   "metadata": {},
   "source": [
    "16. Calculate the Standard Deviation of the daily logarithmetic return for SBRA. Use the function `.std()` with the argument `daily_log_returns_sbra`. Set it to the variable `daily_sd_sbra`. Then print the results. "
   ]
  },
  {
   "cell_type": "code",
   "execution_count": 79,
   "metadata": {},
   "outputs": [
    {
     "name": "stdout",
     "output_type": "stream",
     "text": [
      "1.34%\n"
     ]
    }
   ],
   "source": [
    "def calculate_stddev(dataset):\n",
    "  variance = calculate_variance(dataset)\n",
    "  stddev = sqrt(variance)\n",
    "  return stddev\n",
    "\n",
    "SBRA_daily_std = calculate_stddev(SBRA_daily_log_returns)\n",
    "print(display_as_percentage(SBRA_daily_std))"
   ]
  },
  {
   "cell_type": "markdown",
   "metadata": {},
   "source": [
    "## Calculate the Daily Standard Deviation for EQR"
   ]
  },
  {
   "cell_type": "markdown",
   "metadata": {},
   "source": [
    "17. Calculate the Standard Deviation of the daily logarithmetic return for EQR. Use the function `.std()` with the argument `daily_log_returns_eqr`. Set it to the variable `daily_sd_eqr`. Then print the results. "
   ]
  },
  {
   "cell_type": "code",
   "execution_count": 80,
   "metadata": {},
   "outputs": [
    {
     "name": "stdout",
     "output_type": "stream",
     "text": [
      "0.83%\n"
     ]
    }
   ],
   "source": [
    "EQR_daily_std = calculate_stddev(EQR_daily_log_returns)\n",
    "print(display_as_percentage(EQR_daily_std))"
   ]
  },
  {
   "cell_type": "markdown",
   "metadata": {},
   "source": [
    "## Compare the Daily Standard Deviation between EQR and SBRA"
   ]
  },
  {
   "cell_type": "markdown",
   "metadata": {},
   "source": [
    "18. Has your previous variance risk assessment changed based on the Daily Standard Deviation and why?"
   ]
  },
  {
   "cell_type": "markdown",
   "metadata": {},
   "source": [
    "#### <span style=\"color: darkred\">SBRA is more riskier than EQR, the Daily Standard Deviation is higher, that mean the daily price moving is bigger than EQR's stock.</span>"
   ]
  },
  {
   "cell_type": "markdown",
   "metadata": {},
   "source": [
    "## Calculate the Correlation between SBRA and EQR"
   ]
  },
  {
   "cell_type": "markdown",
   "metadata": {},
   "source": [
    "19. Calculate the Correlation of the daily logarithmetic return between SBRA and ERQ assets. Use the function `.corrcoef()` with the arguments `daily_log_returns_sbra` and `daily_log_returns_eqr`. Set it to the variable `corr_sbra_eqr`. Then print the results. "
   ]
  },
  {
   "cell_type": "code",
   "execution_count": 81,
   "metadata": {},
   "outputs": [
    {
     "name": "stdout",
     "output_type": "stream",
     "text": [
      "0.620965907568146\n"
     ]
    }
   ],
   "source": [
    "def calculate_correlation(set_x, set_y):\n",
    "  # Sum of all values in each dataset\n",
    "  sum_x = sum(set_x)\n",
    "  sum_y = sum(set_y)\n",
    "\n",
    "  # Sum of all squared values in each dataset\n",
    "  sum_x2 = sum([x ** 2 for x in set_x])\n",
    "  sum_y2 = sum([y ** 2 for y in set_y])\n",
    "\n",
    "  sum_xy = sum([x * y for x, y in zip(set_x, set_y)])\n",
    "  # Length of dataset\n",
    "  n = len(set_x)\n",
    "\n",
    "  # Calculate correlation coefficient\n",
    "  numerator = n * sum_xy - sum_x * sum_y\n",
    "  denominator = sqrt((n * sum_x2 - sum_x ** 2) * (n * sum_y2 - sum_y ** 2))\n",
    "\n",
    "  return numerator / denominator\n",
    "\n",
    "corr_SBRA_EQR = calculate_correlation(SBRA_daily_log_returns, EQR_daily_log_returns)\n",
    "print(corr_SBRA_EQR)"
   ]
  },
  {
   "cell_type": "markdown",
   "metadata": {},
   "source": [
    "## Interpret the Correlation between SBRA and EQR"
   ]
  },
  {
   "cell_type": "markdown",
   "metadata": {},
   "source": [
    "20. Interpret and explain the correlation between the stocks SBRA and EQR?"
   ]
  },
  {
   "cell_type": "markdown",
   "metadata": {},
   "source": [
    "## Final Analysis"
   ]
  },
  {
   "cell_type": "markdown",
   "metadata": {},
   "source": [
    "21. Which stock would you invest in based on risk and profitability?\n",
    "#### <span style=\"color: darkred\">SBRA is more profitable but the risk is higher, I would invest in EQR.</span>"
   ]
  }
 ],
 "metadata": {
  "kernelspec": {
   "display_name": "Python 3",
   "language": "python",
   "name": "python3"
  },
  "language_info": {
   "codemirror_mode": {
    "name": "ipython",
    "version": 3
   },
   "file_extension": ".py",
   "mimetype": "text/x-python",
   "name": "python",
   "nbconvert_exporter": "python",
   "pygments_lexer": "ipython3",
   "version": "3.8.2"
  },
  "latex_envs": {
   "LaTeX_envs_menu_present": true,
   "autoclose": false,
   "autocomplete": true,
   "bibliofile": "biblio.bib",
   "cite_by": "apalike",
   "current_citInitial": 1,
   "eqLabelWithNumbers": true,
   "eqNumInitial": 1,
   "hotkeys": {
    "equation": "Ctrl-E",
    "itemize": "Ctrl-I"
   },
   "labels_anchors": false,
   "latex_user_defs": false,
   "report_style_numbering": false,
   "user_envs_cfg": false
  }
 },
 "nbformat": 4,
 "nbformat_minor": 2
}
