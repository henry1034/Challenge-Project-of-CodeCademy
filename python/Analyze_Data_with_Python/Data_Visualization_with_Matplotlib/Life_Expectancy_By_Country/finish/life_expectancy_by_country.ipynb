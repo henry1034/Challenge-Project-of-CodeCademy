{
 "cells": [
  {
   "cell_type": "markdown",
   "metadata": {},
   "source": [
    "#### STATISTICS FOR DATA ANALYSIS\n",
    "# <a href=\"https://www.codecademy.com/paths/analyze-data-with-python/tracks/ida-6-statistics-for-data-analysis/modules/ida-6-2-quartiles-quantiles/projects/life-expectancy-by-country\" target=\"_blank\">Life Expectancy By Country</a>\n",
    "Over the course of the past few centuries, technological and medical advancements have helped increase the life expectancy of humans. However, as of now, the average life expectancy of humans varies depending on what country you live in.\n",
    "\n",
    "In this project, we will investigate a dataset containing information about the average life expectancy in 158 different countries. We will specifically look at how a country’s economic success might impact the life expectancy in that area.\n",
    "<hr />\n",
    "1. <p>We’ve imported a dataset containing the life expectancy in different countries. The data can be found in the variable named <code>data</code>.</p><p>To begin, let’s get a sense of what this data looks like. Print <code>data.head()</code> to see the first 5 rows of the dataset.</p><p>Look at the names of the columns. What other pieces of information does this dataset contain?</p><p>You may want to comment out this print statement after looking at the data.</p>"
   ]
  },
  {
   "cell_type": "code",
   "execution_count": 2,
   "metadata": {},
   "outputs": [
    {
     "name": "stdout",
     "output_type": "stream",
     "text": [
      "               Country  Life Expectancy          GDP\n",
      "0          Afghanistan         58.19375   340.015425\n",
      "1              Albania         75.15625  2119.726679\n",
      "2              Algeria         73.61875  2847.853392\n",
      "3               Angola         49.01875  1975.143045\n",
      "4  Antigua and Barbuda         75.05625  9759.305728\n",
      "        Country  Life Expectancy          GDP\n",
      "153     Uruguay         76.07500  7192.584875\n",
      "154  Uzbekistan         68.03125   651.092359\n",
      "155     Vanuatu         71.38750  2000.245518\n",
      "156      Zambia         53.90625   811.811841\n",
      "157    Zimbabwe         50.48750   410.980194\n"
     ]
    }
   ],
   "source": [
    "import numpy as np\n",
    "import pandas as pd\n",
    "import matplotlib.pyplot as plt\n",
    "\n",
    "data = pd.read_csv(\"country_data.csv\")\n",
    "print(data.head())\n",
    "print(data.tail())"
   ]
  },
  {
   "cell_type": "markdown",
   "metadata": {},
   "source": [
    "2. <p>Let’s isolate the column that contains the life expectancy and store it in a variable named <code>life_expectancy</code>. To get a single column from a Panda DataFrame, use this syntax:<br /><code>single_column = dataFrameName[\"columnName\"]</code></p><p>Make sure to pay attention to capitalization and spaces when using the column name!</p>"
   ]
  },
  {
   "cell_type": "code",
   "execution_count": 4,
   "metadata": {},
   "outputs": [
    {
     "name": "stdout",
     "output_type": "stream",
     "text": [
      "0      58.19375\n",
      "1      75.15625\n",
      "2      73.61875\n",
      "3      49.01875\n",
      "4      75.05625\n",
      "         ...   \n",
      "153    76.07500\n",
      "154    68.03125\n",
      "155    71.38750\n",
      "156    53.90625\n",
      "157    50.48750\n",
      "Name: Life Expectancy, Length: 158, dtype: float64\n"
     ]
    }
   ],
   "source": [
    "life_expectancy = data[\"Life Expectancy\"]\n",
    "print(life_expectancy)"
   ]
  },
  {
   "cell_type": "markdown",
   "metadata": {},
   "source": [
    "3. <p>We can now use NumPy functions on that column! Let’s use the <code>np.quantile()</code> function to find the quartiles of <code>life_expectancy</code>. Store the result in a variable named <code>life_expectancy_quartiles</code> and print the results.</p>"
   ]
  },
  {
   "cell_type": "code",
   "execution_count": 6,
   "metadata": {},
   "outputs": [
    {
     "name": "stdout",
     "output_type": "stream",
     "text": [
      "[62.325     72.525     75.4421875]\n"
     ]
    }
   ],
   "source": [
    "life_expectancy_quartiles = np.quantile(life_expectancy, [0.25, 0.5, 0.75])\n",
    "print(life_expectancy_quartiles)"
   ]
  },
  {
   "cell_type": "markdown",
   "metadata": {},
   "source": [
    "4. <p>Nice work! By looking at those three values you can get a sense of the spread of the data. For example, it seems like some of the data is fairly close together — a quarter of the data is between <code>72.5</code> years and <code>75.4</code> years.</p><p>Could you predict what the histogram might look like from those three number? Plot the histogram by using the following two lines of code:<br /><code>plt.hist(life_expectancy)</code><br /><code>plt.show()</code></p>Does it look how you expected?"
   ]
  },
  {
   "cell_type": "code",
   "execution_count": 7,
   "metadata": {},
   "outputs": [
    {
     "data": {
      "image/png": "[encoded data removed]",
      "text/plain": [
       "<Figure size 432x288 with 1 Axes>"
      ]
     },
     "metadata": {
      "needs_background": "light"
     },
     "output_type": "display_data"
    }
   ],
   "source": [
    "# plot the histogram here:\n",
    "plt.hist(life_expectancy)\n",
    "plt.axvline(70, color = \"red\", linestyle = \"--\", label = \"70 year\")\n",
    "q = 0\n",
    "for line in life_expectancy_quartiles:\n",
    "  q += 1\n",
    "  plt.axvline(line, linestyle = \"--\", color = \"yellow\")\n",
    "  plt.text(line - 1, -5, 'Q{}'.format(q))\n",
    "plt.legend()\n",
    "plt.show()"
   ]
  },
  {
   "cell_type": "markdown",
   "metadata": {},
   "source": [
    "5. <p>Let’s take a moment to think about the meaning of these quartiles. If your country has a life expectancy of <code>70</code> years, does that fall in the first, second, third, or final quarter of the data?</p>"
   ]
  },
  {
   "cell_type": "markdown",
   "metadata": {},
   "source": [
    "6. <p>GDP is a mesaure of a country’s wealth. Let’s now use the GDP data to see if life expectancy is affected by this value.</p><p>Let’s split the data into two groups based on GDP. If we find the median GDP, we can create two datasets for “low GDP countries” and “high GDP countries.</p><p>To start, let’s isolate the GDP column and store it in a variable named <code>gdp</code>. This should be similar to how you isolated the life expectancy column.</p>"
   ]
  },
  {
   "cell_type": "code",
   "execution_count": 8,
   "metadata": {},
   "outputs": [
    {
     "name": "stdout",
     "output_type": "stream",
     "text": [
      "0       340.015425\n",
      "1      2119.726679\n",
      "2      2847.853392\n",
      "3      1975.143045\n",
      "4      9759.305728\n",
      "          ...     \n",
      "153    7192.584875\n",
      "154     651.092359\n",
      "155    2000.245518\n",
      "156     811.811841\n",
      "157     410.980194\n",
      "Name: GDP, Length: 158, dtype: float64\n"
     ]
    }
   ],
   "source": [
    "gdp = data[\"GDP\"]\n",
    "print(gdp)"
   ]
  },
  {
   "cell_type": "markdown",
   "metadata": {},
   "source": [
    "7. <p>We now want to find the median GDP. You can use NumPy’s <code>np.median()</code> function, but since the median is also a quantile, we can call <code>np.quanitle()</code> using <code>0.5</code> as the second parameter.</p><p>Store the median in a variable named <code>median_gdp</code>. Print that variable to see the median.</p>"
   ]
  },
  {
   "cell_type": "code",
   "execution_count": 9,
   "metadata": {},
   "outputs": [
    {
     "name": "stdout",
     "output_type": "stream",
     "text": [
      "2938.0781152500003\n",
      "2938.0781152500003\n"
     ]
    }
   ],
   "source": [
    "median_gdp = np.median(gdp)\n",
    "print(median_gdp)\n",
    "print(np.quantile(gdp, 0.5))"
   ]
  },
  {
   "cell_type": "markdown",
   "metadata": {},
   "source": [
    "8. <p>Let’s now grab all of the rows from our original dataset that have a GDP less than or equal to the median. The following code will do that for you<br /><code>low_gdp = data[data['GDP'] <= median_gdp]</code></p><p>Do the same for all of the rows that have a GDP higher than the median. Store those rows in a variable named <code>high_gdp</code>.</p><p>The line of code should look almost identical to the one above, but you should change the <code><=</code> to <code>></code>.</p>"
   ]
  },
  {
   "cell_type": "code",
   "execution_count": 10,
   "metadata": {},
   "outputs": [
    {
     "name": "stdout",
     "output_type": "stream",
     "text": [
      "         Country  Life Expectancy          GDP\n",
      "0    Afghanistan         58.19375   340.015425\n",
      "1        Albania         75.15625  2119.726679\n",
      "2        Algeria         73.61875  2847.853392\n",
      "3         Angola         49.01875  1975.143045\n",
      "6        Armenia         73.40000  1999.986318\n",
      "..           ...              ...          ...\n",
      "151      Ukraine         69.93750  1577.293329\n",
      "154   Uzbekistan         68.03125   651.092359\n",
      "155      Vanuatu         71.38750  2000.245518\n",
      "156       Zambia         53.90625   811.811841\n",
      "157     Zimbabwe         50.48750   410.980194\n",
      "\n",
      "[79 rows x 3 columns]\n",
      "                  Country  Life Expectancy           GDP\n",
      "4     Antigua and Barbuda         75.05625   9759.305728\n",
      "5               Argentina         75.15625   6998.575103\n",
      "7               Australia         81.81250  34637.565047\n",
      "8                 Austria         81.48125  33827.476309\n",
      "9              Azerbaijan         70.73125   3302.947807\n",
      "..                    ...              ...           ...\n",
      "146   Trinidad and Tobago         71.06875   7741.748090\n",
      "147               Tunisia         74.35625   3044.081488\n",
      "148                Turkey         73.91250   3983.917722\n",
      "152  United Arab Emirates         75.70000  22110.366986\n",
      "153               Uruguay         76.07500   7192.584875\n",
      "\n",
      "[79 rows x 3 columns]\n"
     ]
    }
   ],
   "source": [
    "low_gdp = data[data[\"GDP\"] <= median_gdp]\n",
    "print(low_gdp)\n",
    "high_gdp = data[data[\"GDP\"] > median_gdp]\n",
    "print(high_gdp)"
   ]
  },
  {
   "cell_type": "markdown",
   "metadata": {},
   "source": [
    "9. <p>Now that we’ve split the data based on the GDP, let’s see how the life expectancy of each group compares to each other.</p><p>Find the quartiles of the <code>\"Life Expectancy\"</code> column of low_gdp. Store the quartiles in a variable named <code>low_gdp_quartiles</code>. Print the results.</p>"
   ]
  },
  {
   "cell_type": "code",
   "execution_count": 11,
   "metadata": {},
   "outputs": [
    {
     "name": "stdout",
     "output_type": "stream",
     "text": [
      "[56.3375  64.34375 71.7375 ]\n"
     ]
    }
   ],
   "source": [
    "def get_quartiles(df):\n",
    "  return np.quantile(df, [0.25, 0.5, 0.75])\n",
    "\n",
    "low_gdp_quartiles = get_quartiles(low_gdp[\"Life Expectancy\"])\n",
    "print(low_gdp_quartiles)"
   ]
  },
  {
   "cell_type": "markdown",
   "metadata": {},
   "source": [
    "10. <p>Find the quartiles of the high GDP countries and store them in a variable named <code>high_gdp_quartiles</code>. This should look very similar to the last line of code you wrote. Print the results.</p>"
   ]
  },
  {
   "cell_type": "code",
   "execution_count": 12,
   "metadata": {},
   "outputs": [
    {
     "name": "stdout",
     "output_type": "stream",
     "text": [
      "[72.965625 75.15625  80.521875]\n"
     ]
    }
   ],
   "source": [
    "high_gdp_quartiles = get_quartiles(high_gdp[\"Life Expectancy\"])\n",
    "print(high_gdp_quartiles)"
   ]
  },
  {
   "cell_type": "markdown",
   "metadata": {},
   "source": [
    "11. <p>By looking at the quantiles, you should get a sense of the spread and central tendency of these two datasets. But let’s plot a histogram of each dataset to really compare them.</p><p>Remove the two lines of code that are currently plotting the histogram of the original dataset. At the bottom of your code, add these four lines:<br /><code>plt.hist(high_gdp[\"Life Expectancy\"], alpha = 0.5, label = \"High GDP\")</code><br /><code>plt.hist(low_gdp[\"Life Expectancy\"], alpha = 0.5, label = \"Low GDP\")</code><br /><code>plt.legend()</code><br /><code>plt.show()</code></p>"
   ]
  },
  {
   "cell_type": "code",
   "execution_count": 13,
   "metadata": {},
   "outputs": [
    {
     "data": {
      "image/png": "[encoded data removed]",
      "text/plain": [
       "<Figure size 432x288 with 1 Axes>"
      ]
     },
     "metadata": {
      "needs_background": "light"
     },
     "output_type": "display_data"
    }
   ],
   "source": [
    "# add your code here:\n",
    "def add_quartiles(df, color = \"yellow\"):\n",
    "  quartiles = get_quartiles(df)\n",
    "  q = 0\n",
    "  for line in quartiles:\n",
    "    q += 1\n",
    "    plt.axvline(line, linestyle = \"--\", color = color)\n",
    "    plt.text(line, -5, 'Q{}'.format(q))\n",
    "\n",
    "plt.close(\"all\")\n",
    "plt.hist(high_gdp[\"Life Expectancy\"], alpha = 0.5, label = \"High GDP\")\n",
    "plt.hist(low_gdp[\"Life Expectancy\"], alpha = 0.5, label = \"Low GDP\")\n",
    "plt.legend()\n",
    "plt.xlabel(\"Year\")\n",
    "plt.ylabel(\"GDP\")\n",
    "plt.axvline(70, color = \"red\", linestyle = \"--\", label = \"70 year\")\n",
    "add_quartiles(low_gdp[\"Life Expectancy\"])\n",
    "add_quartiles(high_gdp[\"Life Expectancy\"], \"blue\")\n",
    "plt.show()"
   ]
  },
  {
   "cell_type": "markdown",
   "metadata": {},
   "source": [
    "12. <p>We can now truly see the impact GDP has on life expectancy.</p><p>Once again, consider a country that has a life expectancy of <code>70</code> years. If that country is in the top half of GDP countries, is it in the first, second, third, or fourth quarter of the data with respect to life expectancy? What if the country is in the bottom half of GDP countries? Check the hint to see our thoughts.</p>"
   ]
  }
 ],
 "metadata": {
  "kernelspec": {
   "display_name": "Python 3",
   "language": "python",
   "name": "python3"
  },
  "language_info": {
   "codemirror_mode": {
    "name": "ipython",
    "version": 3
   },
   "file_extension": ".py",
   "mimetype": "text/x-python",
   "name": "python",
   "nbconvert_exporter": "python",
   "pygments_lexer": "ipython3",
   "version": "3.8.2"
  }
 },
 "nbformat": 4,
 "nbformat_minor": 4
}
